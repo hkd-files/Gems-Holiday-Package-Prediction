{
 "cells": [
  {
   "cell_type": "code",
   "execution_count": 1535,
   "id": "6d7e1526",
   "metadata": {},
   "outputs": [],
   "source": [
    "# importing necessary libraries"
   ]
  },
  {
   "cell_type": "code",
   "execution_count": 1536,
   "id": "792f3416",
   "metadata": {},
   "outputs": [],
   "source": [
    "import numpy as np\n",
    "import pandas as pd\n",
    "import matplotlib.pyplot as plt\n",
    "import seaborn as sns\n",
    "import scipy.stats as stats\n",
    "%matplotlib inline\n",
    "import os\n",
    "import statistics\n",
    "import warnings\n",
    "warnings.filterwarnings(\"ignore\")\n",
    "from sklearn.linear_model import LinearRegression\n",
    "from sklearn import metrics\n",
    "from sklearn.metrics import mean_absolute_error, mean_squared_error\n",
    "import statsmodels.api as sm\n",
    "from sklearn.linear_model import LogisticRegression\n",
    "from sklearn.metrics import roc_auc_score,roc_curve,classification_report,confusion_matrix,plot_confusion_matrix\n",
    "from sklearn.model_selection import train_test_split,GridSearchCV\n",
    "from sklearn.discriminant_analysis import LinearDiscriminantAnalysis"
   ]
  },
  {
   "cell_type": "markdown",
   "id": "493e86b0",
   "metadata": {},
   "source": [
    "## Analysis on Problem 1: Linear Regression"
   ]
  },
  {
   "cell_type": "markdown",
   "id": "4908c566",
   "metadata": {},
   "source": [
    "# 1.1. Read the data and do exploratory data analysis. Describe the data briefly. (Check the null values, Data types, shape, EDA, duplicate values). Perform Univariate and Bivariate Analysis."
   ]
  },
  {
   "cell_type": "code",
   "execution_count": 1537,
   "id": "682a7545",
   "metadata": {},
   "outputs": [],
   "source": [
    "data= pd.read_csv('Downloads/cubic_zirconia.csv')"
   ]
  },
  {
   "cell_type": "code",
   "execution_count": 1538,
   "id": "4d7b37e3",
   "metadata": {},
   "outputs": [
    {
     "data": {
      "text/html": [
       "<div>\n",
       "<style scoped>\n",
       "    .dataframe tbody tr th:only-of-type {\n",
       "        vertical-align: middle;\n",
       "    }\n",
       "\n",
       "    .dataframe tbody tr th {\n",
       "        vertical-align: top;\n",
       "    }\n",
       "\n",
       "    .dataframe thead th {\n",
       "        text-align: right;\n",
       "    }\n",
       "</style>\n",
       "<table border=\"1\" class=\"dataframe\">\n",
       "  <thead>\n",
       "    <tr style=\"text-align: right;\">\n",
       "      <th></th>\n",
       "      <th>Unnamed: 0</th>\n",
       "      <th>carat</th>\n",
       "      <th>cut</th>\n",
       "      <th>color</th>\n",
       "      <th>clarity</th>\n",
       "      <th>depth</th>\n",
       "      <th>table</th>\n",
       "      <th>x</th>\n",
       "      <th>y</th>\n",
       "      <th>z</th>\n",
       "      <th>price</th>\n",
       "    </tr>\n",
       "  </thead>\n",
       "  <tbody>\n",
       "    <tr>\n",
       "      <th>0</th>\n",
       "      <td>1</td>\n",
       "      <td>0.30</td>\n",
       "      <td>Ideal</td>\n",
       "      <td>E</td>\n",
       "      <td>SI1</td>\n",
       "      <td>62.1</td>\n",
       "      <td>58.0</td>\n",
       "      <td>4.27</td>\n",
       "      <td>4.29</td>\n",
       "      <td>2.66</td>\n",
       "      <td>499</td>\n",
       "    </tr>\n",
       "    <tr>\n",
       "      <th>1</th>\n",
       "      <td>2</td>\n",
       "      <td>0.33</td>\n",
       "      <td>Premium</td>\n",
       "      <td>G</td>\n",
       "      <td>IF</td>\n",
       "      <td>60.8</td>\n",
       "      <td>58.0</td>\n",
       "      <td>4.42</td>\n",
       "      <td>4.46</td>\n",
       "      <td>2.70</td>\n",
       "      <td>984</td>\n",
       "    </tr>\n",
       "    <tr>\n",
       "      <th>2</th>\n",
       "      <td>3</td>\n",
       "      <td>0.90</td>\n",
       "      <td>Very Good</td>\n",
       "      <td>E</td>\n",
       "      <td>VVS2</td>\n",
       "      <td>62.2</td>\n",
       "      <td>60.0</td>\n",
       "      <td>6.04</td>\n",
       "      <td>6.12</td>\n",
       "      <td>3.78</td>\n",
       "      <td>6289</td>\n",
       "    </tr>\n",
       "    <tr>\n",
       "      <th>3</th>\n",
       "      <td>4</td>\n",
       "      <td>0.42</td>\n",
       "      <td>Ideal</td>\n",
       "      <td>F</td>\n",
       "      <td>VS1</td>\n",
       "      <td>61.6</td>\n",
       "      <td>56.0</td>\n",
       "      <td>4.82</td>\n",
       "      <td>4.80</td>\n",
       "      <td>2.96</td>\n",
       "      <td>1082</td>\n",
       "    </tr>\n",
       "    <tr>\n",
       "      <th>4</th>\n",
       "      <td>5</td>\n",
       "      <td>0.31</td>\n",
       "      <td>Ideal</td>\n",
       "      <td>F</td>\n",
       "      <td>VVS1</td>\n",
       "      <td>60.4</td>\n",
       "      <td>59.0</td>\n",
       "      <td>4.35</td>\n",
       "      <td>4.43</td>\n",
       "      <td>2.65</td>\n",
       "      <td>779</td>\n",
       "    </tr>\n",
       "  </tbody>\n",
       "</table>\n",
       "</div>"
      ],
      "text/plain": [
       "   Unnamed: 0  carat        cut color clarity  depth  table     x     y     z  \\\n",
       "0           1   0.30      Ideal     E     SI1   62.1   58.0  4.27  4.29  2.66   \n",
       "1           2   0.33    Premium     G      IF   60.8   58.0  4.42  4.46  2.70   \n",
       "2           3   0.90  Very Good     E    VVS2   62.2   60.0  6.04  6.12  3.78   \n",
       "3           4   0.42      Ideal     F     VS1   61.6   56.0  4.82  4.80  2.96   \n",
       "4           5   0.31      Ideal     F    VVS1   60.4   59.0  4.35  4.43  2.65   \n",
       "\n",
       "   price  \n",
       "0    499  \n",
       "1    984  \n",
       "2   6289  \n",
       "3   1082  \n",
       "4    779  "
      ]
     },
     "execution_count": 1538,
     "metadata": {},
     "output_type": "execute_result"
    }
   ],
   "source": [
    "# top 5 values\n",
    "data.head()"
   ]
  },
  {
   "cell_type": "code",
   "execution_count": 1539,
   "id": "6a8d3c68",
   "metadata": {},
   "outputs": [
    {
     "data": {
      "text/html": [
       "<div>\n",
       "<style scoped>\n",
       "    .dataframe tbody tr th:only-of-type {\n",
       "        vertical-align: middle;\n",
       "    }\n",
       "\n",
       "    .dataframe tbody tr th {\n",
       "        vertical-align: top;\n",
       "    }\n",
       "\n",
       "    .dataframe thead th {\n",
       "        text-align: right;\n",
       "    }\n",
       "</style>\n",
       "<table border=\"1\" class=\"dataframe\">\n",
       "  <thead>\n",
       "    <tr style=\"text-align: right;\">\n",
       "      <th></th>\n",
       "      <th>Unnamed: 0</th>\n",
       "      <th>carat</th>\n",
       "      <th>cut</th>\n",
       "      <th>color</th>\n",
       "      <th>clarity</th>\n",
       "      <th>depth</th>\n",
       "      <th>table</th>\n",
       "      <th>x</th>\n",
       "      <th>y</th>\n",
       "      <th>z</th>\n",
       "      <th>price</th>\n",
       "    </tr>\n",
       "  </thead>\n",
       "  <tbody>\n",
       "    <tr>\n",
       "      <th>26962</th>\n",
       "      <td>26963</td>\n",
       "      <td>1.11</td>\n",
       "      <td>Premium</td>\n",
       "      <td>G</td>\n",
       "      <td>SI1</td>\n",
       "      <td>62.3</td>\n",
       "      <td>58.0</td>\n",
       "      <td>6.61</td>\n",
       "      <td>6.52</td>\n",
       "      <td>4.09</td>\n",
       "      <td>5408</td>\n",
       "    </tr>\n",
       "    <tr>\n",
       "      <th>26963</th>\n",
       "      <td>26964</td>\n",
       "      <td>0.33</td>\n",
       "      <td>Ideal</td>\n",
       "      <td>H</td>\n",
       "      <td>IF</td>\n",
       "      <td>61.9</td>\n",
       "      <td>55.0</td>\n",
       "      <td>4.44</td>\n",
       "      <td>4.42</td>\n",
       "      <td>2.74</td>\n",
       "      <td>1114</td>\n",
       "    </tr>\n",
       "    <tr>\n",
       "      <th>26964</th>\n",
       "      <td>26965</td>\n",
       "      <td>0.51</td>\n",
       "      <td>Premium</td>\n",
       "      <td>E</td>\n",
       "      <td>VS2</td>\n",
       "      <td>61.7</td>\n",
       "      <td>58.0</td>\n",
       "      <td>5.12</td>\n",
       "      <td>5.15</td>\n",
       "      <td>3.17</td>\n",
       "      <td>1656</td>\n",
       "    </tr>\n",
       "    <tr>\n",
       "      <th>26965</th>\n",
       "      <td>26966</td>\n",
       "      <td>0.27</td>\n",
       "      <td>Very Good</td>\n",
       "      <td>F</td>\n",
       "      <td>VVS2</td>\n",
       "      <td>61.8</td>\n",
       "      <td>56.0</td>\n",
       "      <td>4.19</td>\n",
       "      <td>4.20</td>\n",
       "      <td>2.60</td>\n",
       "      <td>682</td>\n",
       "    </tr>\n",
       "    <tr>\n",
       "      <th>26966</th>\n",
       "      <td>26967</td>\n",
       "      <td>1.25</td>\n",
       "      <td>Premium</td>\n",
       "      <td>J</td>\n",
       "      <td>SI1</td>\n",
       "      <td>62.0</td>\n",
       "      <td>58.0</td>\n",
       "      <td>6.90</td>\n",
       "      <td>6.88</td>\n",
       "      <td>4.27</td>\n",
       "      <td>5166</td>\n",
       "    </tr>\n",
       "  </tbody>\n",
       "</table>\n",
       "</div>"
      ],
      "text/plain": [
       "       Unnamed: 0  carat        cut color clarity  depth  table     x     y  \\\n",
       "26962       26963   1.11    Premium     G     SI1   62.3   58.0  6.61  6.52   \n",
       "26963       26964   0.33      Ideal     H      IF   61.9   55.0  4.44  4.42   \n",
       "26964       26965   0.51    Premium     E     VS2   61.7   58.0  5.12  5.15   \n",
       "26965       26966   0.27  Very Good     F    VVS2   61.8   56.0  4.19  4.20   \n",
       "26966       26967   1.25    Premium     J     SI1   62.0   58.0  6.90  6.88   \n",
       "\n",
       "          z  price  \n",
       "26962  4.09   5408  \n",
       "26963  2.74   1114  \n",
       "26964  3.17   1656  \n",
       "26965  2.60    682  \n",
       "26966  4.27   5166  "
      ]
     },
     "execution_count": 1539,
     "metadata": {},
     "output_type": "execute_result"
    }
   ],
   "source": [
    "# last 5 values\n",
    "data.tail()"
   ]
  },
  {
   "cell_type": "code",
   "execution_count": 1540,
   "id": "7c2b5623",
   "metadata": {},
   "outputs": [
    {
     "data": {
      "text/plain": [
       "(26967, 11)"
      ]
     },
     "execution_count": 1540,
     "metadata": {},
     "output_type": "execute_result"
    }
   ],
   "source": [
    "#shape of the data\n",
    "data.shape"
   ]
  },
  {
   "cell_type": "markdown",
   "id": "b5987ef4",
   "metadata": {},
   "source": [
    "There are total 26967 rows and 11 Columns in the data."
   ]
  },
  {
   "cell_type": "code",
   "execution_count": 1541,
   "id": "c5bb87ad",
   "metadata": {},
   "outputs": [
    {
     "name": "stdout",
     "output_type": "stream",
     "text": [
      "<class 'pandas.core.frame.DataFrame'>\n",
      "RangeIndex: 26967 entries, 0 to 26966\n",
      "Data columns (total 11 columns):\n",
      " #   Column      Non-Null Count  Dtype  \n",
      "---  ------      --------------  -----  \n",
      " 0   Unnamed: 0  26967 non-null  int64  \n",
      " 1   carat       26967 non-null  float64\n",
      " 2   cut         26967 non-null  object \n",
      " 3   color       26967 non-null  object \n",
      " 4   clarity     26967 non-null  object \n",
      " 5   depth       26270 non-null  float64\n",
      " 6   table       26967 non-null  float64\n",
      " 7   x           26967 non-null  float64\n",
      " 8   y           26967 non-null  float64\n",
      " 9   z           26967 non-null  float64\n",
      " 10  price       26967 non-null  int64  \n",
      "dtypes: float64(6), int64(2), object(3)\n",
      "memory usage: 2.3+ MB\n"
     ]
    }
   ],
   "source": [
    "data.info()"
   ]
  },
  {
   "cell_type": "markdown",
   "id": "8b4a5349",
   "metadata": {},
   "source": [
    "we have multiple data types as 6 float data types, 2 integer data types and 3 object data types."
   ]
  },
  {
   "cell_type": "markdown",
   "id": "6ee48151",
   "metadata": {},
   "source": [
    "Coulumn  Unnamed: 0 contains serial number so we can remove it."
   ]
  },
  {
   "cell_type": "code",
   "execution_count": 1542,
   "id": "cd74209b",
   "metadata": {},
   "outputs": [],
   "source": [
    "data.drop('Unnamed: 0', axis=1 ,inplace=True)"
   ]
  },
  {
   "cell_type": "code",
   "execution_count": 1543,
   "id": "470917f5",
   "metadata": {},
   "outputs": [
    {
     "data": {
      "text/html": [
       "<div>\n",
       "<style scoped>\n",
       "    .dataframe tbody tr th:only-of-type {\n",
       "        vertical-align: middle;\n",
       "    }\n",
       "\n",
       "    .dataframe tbody tr th {\n",
       "        vertical-align: top;\n",
       "    }\n",
       "\n",
       "    .dataframe thead th {\n",
       "        text-align: right;\n",
       "    }\n",
       "</style>\n",
       "<table border=\"1\" class=\"dataframe\">\n",
       "  <thead>\n",
       "    <tr style=\"text-align: right;\">\n",
       "      <th></th>\n",
       "      <th>carat</th>\n",
       "      <th>cut</th>\n",
       "      <th>color</th>\n",
       "      <th>clarity</th>\n",
       "      <th>depth</th>\n",
       "      <th>table</th>\n",
       "      <th>x</th>\n",
       "      <th>y</th>\n",
       "      <th>z</th>\n",
       "      <th>price</th>\n",
       "    </tr>\n",
       "  </thead>\n",
       "  <tbody>\n",
       "    <tr>\n",
       "      <th>0</th>\n",
       "      <td>0.30</td>\n",
       "      <td>Ideal</td>\n",
       "      <td>E</td>\n",
       "      <td>SI1</td>\n",
       "      <td>62.1</td>\n",
       "      <td>58.0</td>\n",
       "      <td>4.27</td>\n",
       "      <td>4.29</td>\n",
       "      <td>2.66</td>\n",
       "      <td>499</td>\n",
       "    </tr>\n",
       "    <tr>\n",
       "      <th>1</th>\n",
       "      <td>0.33</td>\n",
       "      <td>Premium</td>\n",
       "      <td>G</td>\n",
       "      <td>IF</td>\n",
       "      <td>60.8</td>\n",
       "      <td>58.0</td>\n",
       "      <td>4.42</td>\n",
       "      <td>4.46</td>\n",
       "      <td>2.70</td>\n",
       "      <td>984</td>\n",
       "    </tr>\n",
       "    <tr>\n",
       "      <th>2</th>\n",
       "      <td>0.90</td>\n",
       "      <td>Very Good</td>\n",
       "      <td>E</td>\n",
       "      <td>VVS2</td>\n",
       "      <td>62.2</td>\n",
       "      <td>60.0</td>\n",
       "      <td>6.04</td>\n",
       "      <td>6.12</td>\n",
       "      <td>3.78</td>\n",
       "      <td>6289</td>\n",
       "    </tr>\n",
       "    <tr>\n",
       "      <th>3</th>\n",
       "      <td>0.42</td>\n",
       "      <td>Ideal</td>\n",
       "      <td>F</td>\n",
       "      <td>VS1</td>\n",
       "      <td>61.6</td>\n",
       "      <td>56.0</td>\n",
       "      <td>4.82</td>\n",
       "      <td>4.80</td>\n",
       "      <td>2.96</td>\n",
       "      <td>1082</td>\n",
       "    </tr>\n",
       "    <tr>\n",
       "      <th>4</th>\n",
       "      <td>0.31</td>\n",
       "      <td>Ideal</td>\n",
       "      <td>F</td>\n",
       "      <td>VVS1</td>\n",
       "      <td>60.4</td>\n",
       "      <td>59.0</td>\n",
       "      <td>4.35</td>\n",
       "      <td>4.43</td>\n",
       "      <td>2.65</td>\n",
       "      <td>779</td>\n",
       "    </tr>\n",
       "  </tbody>\n",
       "</table>\n",
       "</div>"
      ],
      "text/plain": [
       "   carat        cut color clarity  depth  table     x     y     z  price\n",
       "0   0.30      Ideal     E     SI1   62.1   58.0  4.27  4.29  2.66    499\n",
       "1   0.33    Premium     G      IF   60.8   58.0  4.42  4.46  2.70    984\n",
       "2   0.90  Very Good     E    VVS2   62.2   60.0  6.04  6.12  3.78   6289\n",
       "3   0.42      Ideal     F     VS1   61.6   56.0  4.82  4.80  2.96   1082\n",
       "4   0.31      Ideal     F    VVS1   60.4   59.0  4.35  4.43  2.65    779"
      ]
     },
     "execution_count": 1543,
     "metadata": {},
     "output_type": "execute_result"
    }
   ],
   "source": [
    "data.head()"
   ]
  },
  {
   "cell_type": "code",
   "execution_count": 1544,
   "id": "34c2d7e2",
   "metadata": {},
   "outputs": [
    {
     "data": {
      "text/plain": [
       "34"
      ]
     },
     "execution_count": 1544,
     "metadata": {},
     "output_type": "execute_result"
    }
   ],
   "source": [
    "data.duplicated().sum()"
   ]
  },
  {
   "cell_type": "markdown",
   "id": "2d74feea",
   "metadata": {},
   "source": [
    "34 duplicate entry found in the data and will remove these values."
   ]
  },
  {
   "cell_type": "code",
   "execution_count": 1545,
   "id": "af9a865f",
   "metadata": {},
   "outputs": [],
   "source": [
    "data.drop_duplicates(inplace=True)"
   ]
  },
  {
   "cell_type": "code",
   "execution_count": 1546,
   "id": "0b9fbe7b",
   "metadata": {},
   "outputs": [
    {
     "data": {
      "text/plain": [
       "0"
      ]
     },
     "execution_count": 1546,
     "metadata": {},
     "output_type": "execute_result"
    }
   ],
   "source": [
    "data.duplicated().sum()"
   ]
  },
  {
   "cell_type": "markdown",
   "id": "4bb861fa",
   "metadata": {},
   "source": [
    "All duplicate values are removed from data"
   ]
  },
  {
   "cell_type": "code",
   "execution_count": 1547,
   "id": "2c70e1ef",
   "metadata": {},
   "outputs": [
    {
     "data": {
      "text/plain": [
       "(26933, 10)"
      ]
     },
     "execution_count": 1547,
     "metadata": {},
     "output_type": "execute_result"
    }
   ],
   "source": [
    "data.shape"
   ]
  },
  {
   "cell_type": "code",
   "execution_count": 1548,
   "id": "cede2989",
   "metadata": {},
   "outputs": [
    {
     "data": {
      "text/plain": [
       "carat        0\n",
       "cut          0\n",
       "color        0\n",
       "clarity      0\n",
       "depth      697\n",
       "table        0\n",
       "x            0\n",
       "y            0\n",
       "z            0\n",
       "price        0\n",
       "dtype: int64"
      ]
     },
     "execution_count": 1548,
     "metadata": {},
     "output_type": "execute_result"
    }
   ],
   "source": [
    "# checking for missing values\n",
    "data.isnull().sum()"
   ]
  },
  {
   "cell_type": "markdown",
   "id": "c903f88b",
   "metadata": {},
   "source": [
    "There are missing values present in the data but it's only in column 'depth' and we will impute this in question 1.2"
   ]
  },
  {
   "cell_type": "code",
   "execution_count": 1549,
   "id": "e19bbefe",
   "metadata": {},
   "outputs": [
    {
     "data": {
      "text/html": [
       "<div>\n",
       "<style scoped>\n",
       "    .dataframe tbody tr th:only-of-type {\n",
       "        vertical-align: middle;\n",
       "    }\n",
       "\n",
       "    .dataframe tbody tr th {\n",
       "        vertical-align: top;\n",
       "    }\n",
       "\n",
       "    .dataframe thead th {\n",
       "        text-align: right;\n",
       "    }\n",
       "</style>\n",
       "<table border=\"1\" class=\"dataframe\">\n",
       "  <thead>\n",
       "    <tr style=\"text-align: right;\">\n",
       "      <th></th>\n",
       "      <th>count</th>\n",
       "      <th>mean</th>\n",
       "      <th>std</th>\n",
       "      <th>min</th>\n",
       "      <th>25%</th>\n",
       "      <th>50%</th>\n",
       "      <th>75%</th>\n",
       "      <th>max</th>\n",
       "    </tr>\n",
       "  </thead>\n",
       "  <tbody>\n",
       "    <tr>\n",
       "      <th>carat</th>\n",
       "      <td>26933.0</td>\n",
       "      <td>0.798010</td>\n",
       "      <td>0.477237</td>\n",
       "      <td>0.2</td>\n",
       "      <td>0.40</td>\n",
       "      <td>0.70</td>\n",
       "      <td>1.05</td>\n",
       "      <td>4.50</td>\n",
       "    </tr>\n",
       "    <tr>\n",
       "      <th>depth</th>\n",
       "      <td>26236.0</td>\n",
       "      <td>61.745285</td>\n",
       "      <td>1.412243</td>\n",
       "      <td>50.8</td>\n",
       "      <td>61.00</td>\n",
       "      <td>61.80</td>\n",
       "      <td>62.50</td>\n",
       "      <td>73.60</td>\n",
       "    </tr>\n",
       "    <tr>\n",
       "      <th>table</th>\n",
       "      <td>26933.0</td>\n",
       "      <td>57.455950</td>\n",
       "      <td>2.232156</td>\n",
       "      <td>49.0</td>\n",
       "      <td>56.00</td>\n",
       "      <td>57.00</td>\n",
       "      <td>59.00</td>\n",
       "      <td>79.00</td>\n",
       "    </tr>\n",
       "    <tr>\n",
       "      <th>x</th>\n",
       "      <td>26933.0</td>\n",
       "      <td>5.729346</td>\n",
       "      <td>1.127367</td>\n",
       "      <td>0.0</td>\n",
       "      <td>4.71</td>\n",
       "      <td>5.69</td>\n",
       "      <td>6.55</td>\n",
       "      <td>10.23</td>\n",
       "    </tr>\n",
       "    <tr>\n",
       "      <th>y</th>\n",
       "      <td>26933.0</td>\n",
       "      <td>5.733102</td>\n",
       "      <td>1.165037</td>\n",
       "      <td>0.0</td>\n",
       "      <td>4.71</td>\n",
       "      <td>5.70</td>\n",
       "      <td>6.54</td>\n",
       "      <td>58.90</td>\n",
       "    </tr>\n",
       "    <tr>\n",
       "      <th>z</th>\n",
       "      <td>26933.0</td>\n",
       "      <td>3.537769</td>\n",
       "      <td>0.719964</td>\n",
       "      <td>0.0</td>\n",
       "      <td>2.90</td>\n",
       "      <td>3.52</td>\n",
       "      <td>4.04</td>\n",
       "      <td>31.80</td>\n",
       "    </tr>\n",
       "    <tr>\n",
       "      <th>price</th>\n",
       "      <td>26933.0</td>\n",
       "      <td>3937.526120</td>\n",
       "      <td>4022.551862</td>\n",
       "      <td>326.0</td>\n",
       "      <td>945.00</td>\n",
       "      <td>2375.00</td>\n",
       "      <td>5356.00</td>\n",
       "      <td>18818.00</td>\n",
       "    </tr>\n",
       "  </tbody>\n",
       "</table>\n",
       "</div>"
      ],
      "text/plain": [
       "         count         mean          std    min     25%      50%      75%  \\\n",
       "carat  26933.0     0.798010     0.477237    0.2    0.40     0.70     1.05   \n",
       "depth  26236.0    61.745285     1.412243   50.8   61.00    61.80    62.50   \n",
       "table  26933.0    57.455950     2.232156   49.0   56.00    57.00    59.00   \n",
       "x      26933.0     5.729346     1.127367    0.0    4.71     5.69     6.55   \n",
       "y      26933.0     5.733102     1.165037    0.0    4.71     5.70     6.54   \n",
       "z      26933.0     3.537769     0.719964    0.0    2.90     3.52     4.04   \n",
       "price  26933.0  3937.526120  4022.551862  326.0  945.00  2375.00  5356.00   \n",
       "\n",
       "            max  \n",
       "carat      4.50  \n",
       "depth     73.60  \n",
       "table     79.00  \n",
       "x         10.23  \n",
       "y         58.90  \n",
       "z         31.80  \n",
       "price  18818.00  "
      ]
     },
     "execution_count": 1549,
     "metadata": {},
     "output_type": "execute_result"
    }
   ],
   "source": [
    "data.describe().T"
   ]
  },
  {
   "cell_type": "markdown",
   "id": "b2215138",
   "metadata": {},
   "source": [
    "there is no anomalies found in data."
   ]
  },
  {
   "cell_type": "markdown",
   "id": "9faae60c",
   "metadata": {},
   "source": [
    "## Data Visualization"
   ]
  },
  {
   "cell_type": "markdown",
   "id": "0b0051a3",
   "metadata": {},
   "source": [
    "### Univariate Analysis"
   ]
  },
  {
   "cell_type": "markdown",
   "id": "2725eec8",
   "metadata": {},
   "source": [
    "#### Non visual representation"
   ]
  },
  {
   "cell_type": "markdown",
   "id": "fa90d912",
   "metadata": {},
   "source": [
    "Using describe function to get descripitve anylysis."
   ]
  },
  {
   "cell_type": "code",
   "execution_count": 1550,
   "id": "c074eba7",
   "metadata": {},
   "outputs": [
    {
     "data": {
      "text/html": [
       "<div>\n",
       "<style scoped>\n",
       "    .dataframe tbody tr th:only-of-type {\n",
       "        vertical-align: middle;\n",
       "    }\n",
       "\n",
       "    .dataframe tbody tr th {\n",
       "        vertical-align: top;\n",
       "    }\n",
       "\n",
       "    .dataframe thead th {\n",
       "        text-align: right;\n",
       "    }\n",
       "</style>\n",
       "<table border=\"1\" class=\"dataframe\">\n",
       "  <thead>\n",
       "    <tr style=\"text-align: right;\">\n",
       "      <th></th>\n",
       "      <th>count</th>\n",
       "      <th>unique</th>\n",
       "      <th>top</th>\n",
       "      <th>freq</th>\n",
       "      <th>mean</th>\n",
       "      <th>std</th>\n",
       "      <th>min</th>\n",
       "      <th>25%</th>\n",
       "      <th>50%</th>\n",
       "      <th>75%</th>\n",
       "      <th>max</th>\n",
       "    </tr>\n",
       "  </thead>\n",
       "  <tbody>\n",
       "    <tr>\n",
       "      <th>carat</th>\n",
       "      <td>26933.0</td>\n",
       "      <td>NaN</td>\n",
       "      <td>NaN</td>\n",
       "      <td>NaN</td>\n",
       "      <td>0.79801</td>\n",
       "      <td>0.477237</td>\n",
       "      <td>0.2</td>\n",
       "      <td>0.4</td>\n",
       "      <td>0.7</td>\n",
       "      <td>1.05</td>\n",
       "      <td>4.5</td>\n",
       "    </tr>\n",
       "    <tr>\n",
       "      <th>cut</th>\n",
       "      <td>26933</td>\n",
       "      <td>5</td>\n",
       "      <td>Ideal</td>\n",
       "      <td>10805</td>\n",
       "      <td>NaN</td>\n",
       "      <td>NaN</td>\n",
       "      <td>NaN</td>\n",
       "      <td>NaN</td>\n",
       "      <td>NaN</td>\n",
       "      <td>NaN</td>\n",
       "      <td>NaN</td>\n",
       "    </tr>\n",
       "    <tr>\n",
       "      <th>color</th>\n",
       "      <td>26933</td>\n",
       "      <td>7</td>\n",
       "      <td>G</td>\n",
       "      <td>5653</td>\n",
       "      <td>NaN</td>\n",
       "      <td>NaN</td>\n",
       "      <td>NaN</td>\n",
       "      <td>NaN</td>\n",
       "      <td>NaN</td>\n",
       "      <td>NaN</td>\n",
       "      <td>NaN</td>\n",
       "    </tr>\n",
       "    <tr>\n",
       "      <th>clarity</th>\n",
       "      <td>26933</td>\n",
       "      <td>8</td>\n",
       "      <td>SI1</td>\n",
       "      <td>6565</td>\n",
       "      <td>NaN</td>\n",
       "      <td>NaN</td>\n",
       "      <td>NaN</td>\n",
       "      <td>NaN</td>\n",
       "      <td>NaN</td>\n",
       "      <td>NaN</td>\n",
       "      <td>NaN</td>\n",
       "    </tr>\n",
       "    <tr>\n",
       "      <th>depth</th>\n",
       "      <td>26236.0</td>\n",
       "      <td>NaN</td>\n",
       "      <td>NaN</td>\n",
       "      <td>NaN</td>\n",
       "      <td>61.745285</td>\n",
       "      <td>1.412243</td>\n",
       "      <td>50.8</td>\n",
       "      <td>61.0</td>\n",
       "      <td>61.8</td>\n",
       "      <td>62.5</td>\n",
       "      <td>73.6</td>\n",
       "    </tr>\n",
       "    <tr>\n",
       "      <th>table</th>\n",
       "      <td>26933.0</td>\n",
       "      <td>NaN</td>\n",
       "      <td>NaN</td>\n",
       "      <td>NaN</td>\n",
       "      <td>57.45595</td>\n",
       "      <td>2.232156</td>\n",
       "      <td>49.0</td>\n",
       "      <td>56.0</td>\n",
       "      <td>57.0</td>\n",
       "      <td>59.0</td>\n",
       "      <td>79.0</td>\n",
       "    </tr>\n",
       "    <tr>\n",
       "      <th>x</th>\n",
       "      <td>26933.0</td>\n",
       "      <td>NaN</td>\n",
       "      <td>NaN</td>\n",
       "      <td>NaN</td>\n",
       "      <td>5.729346</td>\n",
       "      <td>1.127367</td>\n",
       "      <td>0.0</td>\n",
       "      <td>4.71</td>\n",
       "      <td>5.69</td>\n",
       "      <td>6.55</td>\n",
       "      <td>10.23</td>\n",
       "    </tr>\n",
       "    <tr>\n",
       "      <th>y</th>\n",
       "      <td>26933.0</td>\n",
       "      <td>NaN</td>\n",
       "      <td>NaN</td>\n",
       "      <td>NaN</td>\n",
       "      <td>5.733102</td>\n",
       "      <td>1.165037</td>\n",
       "      <td>0.0</td>\n",
       "      <td>4.71</td>\n",
       "      <td>5.7</td>\n",
       "      <td>6.54</td>\n",
       "      <td>58.9</td>\n",
       "    </tr>\n",
       "    <tr>\n",
       "      <th>z</th>\n",
       "      <td>26933.0</td>\n",
       "      <td>NaN</td>\n",
       "      <td>NaN</td>\n",
       "      <td>NaN</td>\n",
       "      <td>3.537769</td>\n",
       "      <td>0.719964</td>\n",
       "      <td>0.0</td>\n",
       "      <td>2.9</td>\n",
       "      <td>3.52</td>\n",
       "      <td>4.04</td>\n",
       "      <td>31.8</td>\n",
       "    </tr>\n",
       "    <tr>\n",
       "      <th>price</th>\n",
       "      <td>26933.0</td>\n",
       "      <td>NaN</td>\n",
       "      <td>NaN</td>\n",
       "      <td>NaN</td>\n",
       "      <td>3937.52612</td>\n",
       "      <td>4022.551862</td>\n",
       "      <td>326.0</td>\n",
       "      <td>945.0</td>\n",
       "      <td>2375.0</td>\n",
       "      <td>5356.0</td>\n",
       "      <td>18818.0</td>\n",
       "    </tr>\n",
       "  </tbody>\n",
       "</table>\n",
       "</div>"
      ],
      "text/plain": [
       "           count unique    top   freq        mean          std    min    25%  \\\n",
       "carat    26933.0    NaN    NaN    NaN     0.79801     0.477237    0.2    0.4   \n",
       "cut        26933      5  Ideal  10805         NaN          NaN    NaN    NaN   \n",
       "color      26933      7      G   5653         NaN          NaN    NaN    NaN   \n",
       "clarity    26933      8    SI1   6565         NaN          NaN    NaN    NaN   \n",
       "depth    26236.0    NaN    NaN    NaN   61.745285     1.412243   50.8   61.0   \n",
       "table    26933.0    NaN    NaN    NaN    57.45595     2.232156   49.0   56.0   \n",
       "x        26933.0    NaN    NaN    NaN    5.729346     1.127367    0.0   4.71   \n",
       "y        26933.0    NaN    NaN    NaN    5.733102     1.165037    0.0   4.71   \n",
       "z        26933.0    NaN    NaN    NaN    3.537769     0.719964    0.0    2.9   \n",
       "price    26933.0    NaN    NaN    NaN  3937.52612  4022.551862  326.0  945.0   \n",
       "\n",
       "            50%     75%      max  \n",
       "carat       0.7    1.05      4.5  \n",
       "cut         NaN     NaN      NaN  \n",
       "color       NaN     NaN      NaN  \n",
       "clarity     NaN     NaN      NaN  \n",
       "depth      61.8    62.5     73.6  \n",
       "table      57.0    59.0     79.0  \n",
       "x          5.69    6.55    10.23  \n",
       "y           5.7    6.54     58.9  \n",
       "z          3.52    4.04     31.8  \n",
       "price    2375.0  5356.0  18818.0  "
      ]
     },
     "execution_count": 1550,
     "metadata": {},
     "output_type": "execute_result"
    }
   ],
   "source": [
    "data.describe(include='all').T"
   ]
  },
  {
   "cell_type": "markdown",
   "id": "82f2ce74",
   "metadata": {},
   "source": [
    "Insights:"
   ]
  },
  {
   "cell_type": "markdown",
   "id": "ed069076",
   "metadata": {},
   "source": [
    "Maximum price of zirconia is 18818.0 and mimimum price is 326.0 so we can say that price spread in wide range."
   ]
  },
  {
   "cell_type": "markdown",
   "id": "f39ae102",
   "metadata": {},
   "source": [
    "minimum Carat weight of zirconia is 0.2 and maximum is 4.5 so zirconia is available in different carat weight ."
   ]
  },
  {
   "cell_type": "markdown",
   "id": "4f1ae809",
   "metadata": {},
   "source": [
    "Cut quality of zirconia is mostly marked as Ideal which is the highest qality."
   ]
  },
  {
   "cell_type": "markdown",
   "id": "32a65c56",
   "metadata": {},
   "source": [
    "Most of zirconia marked with clarity as SI1 which is decent ."
   ]
  },
  {
   "cell_type": "markdown",
   "id": "1aa67a2c",
   "metadata": {},
   "source": [
    "#### Visual representation:"
   ]
  },
  {
   "cell_type": "markdown",
   "id": "683aa765",
   "metadata": {},
   "source": [
    "We will use Boxplot and histogram to see distribution and pattern of continuous varibales."
   ]
  },
  {
   "cell_type": "code",
   "execution_count": 1551,
   "id": "1f6adf25",
   "metadata": {},
   "outputs": [
    {
     "data": {
      "image/png": "[encoded data removed]",
      "text/plain": [
       "<Figure size 1080x1800 with 14 Axes>"
      ]
     },
     "metadata": {
      "needs_background": "light"
     },
     "output_type": "display_data"
    }
   ],
   "source": [
    "fig, axes = plt.subplots(nrows=7,ncols=2)\n",
    "fig.set_size_inches(15,25)\n",
    "sns.histplot(data['carat'], kde=True, ax=axes[0][0])\n",
    "sns.boxplot(x='carat', data=data, ax=axes[0][1])\n",
    "sns.histplot(data['depth'] , kde=True, ax=axes[1][0])\n",
    "sns.boxplot(x='depth', data=data , ax=axes[1][1])\n",
    "sns.histplot(data['table'] , kde=True, ax=axes[2][0])\n",
    "sns.boxplot(x='table', data=data , ax=axes[2][1])\n",
    "sns.histplot(data['x'] , kde=True, ax=axes[3][0])\n",
    "sns.boxplot(x='x', data=data , ax=axes[3][1])\n",
    "sns.histplot(data['y'] , kde=True, ax=axes[4][0])\n",
    "sns.boxplot(x='y', data=data , ax=axes[4][1])\n",
    "sns.histplot(data['z'] , kde=True, ax=axes[5][0])\n",
    "sns.boxplot(x='z', data=data , ax=axes[5][1])\n",
    "sns.histplot(data['price'] , kde=True, ax=axes[6][0])\n",
    "sns.boxplot(x='price', data=data , ax=axes[6][1])\n",
    "plt.show()"
   ]
  },
  {
   "cell_type": "markdown",
   "id": "22787e1b",
   "metadata": {},
   "source": [
    "Insights:"
   ]
  },
  {
   "cell_type": "markdown",
   "id": "28b36188",
   "metadata": {},
   "source": [
    "From the above box plots we can say that there are ouliers present in the data."
   ]
  },
  {
   "cell_type": "markdown",
   "id": "1c26ace9",
   "metadata": {},
   "source": [
    "For the variable 'depth' distribution is almost symetric ."
   ]
  },
  {
   "cell_type": "markdown",
   "id": "68997a07",
   "metadata": {},
   "source": [
    "#### For Categorical variable we are using barplot."
   ]
  },
  {
   "cell_type": "code",
   "execution_count": 1552,
   "id": "f078aae3",
   "metadata": {},
   "outputs": [
    {
     "data": {
      "image/png": "[encoded data removed]",
      "text/plain": [
       "<Figure size 432x288 with 1 Axes>"
      ]
     },
     "metadata": {
      "needs_background": "light"
     },
     "output_type": "display_data"
    }
   ],
   "source": [
    "sns.countplot(x='cut', data=data)\n",
    "plt.title('countplot');"
   ]
  },
  {
   "cell_type": "markdown",
   "id": "09bfcb95",
   "metadata": {},
   "source": [
    "Best cut quality of zirconia is 'Ideal and it holds maximum number of cubic other side  'Fair' is poor cut quality."
   ]
  },
  {
   "cell_type": "code",
   "execution_count": 1553,
   "id": "71c6472a",
   "metadata": {},
   "outputs": [
    {
     "data": {
      "image/png": "[encoded data removed]",
      "text/plain": [
       "<Figure size 432x288 with 1 Axes>"
      ]
     },
     "metadata": {
      "needs_background": "light"
     },
     "output_type": "display_data"
    }
   ],
   "source": [
    "sns.countplot(x='color', data=data)\n",
    "plt.title('countplot');"
   ]
  },
  {
   "cell_type": "markdown",
   "id": "b9450ddd",
   "metadata": {},
   "source": [
    "Most of the zirconia has color 'G' and color 'J' given to the least number of zirconia which is right because color 'J' is the worst color"
   ]
  },
  {
   "cell_type": "markdown",
   "id": "93665956",
   "metadata": {},
   "source": [
    "Here count of zirconia having color 'D' requires improvement."
   ]
  },
  {
   "cell_type": "code",
   "execution_count": 1554,
   "id": "ee3f60f0",
   "metadata": {},
   "outputs": [
    {
     "data": {
      "image/png": "[encoded data removed]",
      "text/plain": [
       "<Figure size 432x288 with 1 Axes>"
      ]
     },
     "metadata": {
      "needs_background": "light"
     },
     "output_type": "display_data"
    }
   ],
   "source": [
    "sns.countplot(x='clarity', data=data)\n",
    "plt.title('countplot');"
   ]
  },
  {
   "cell_type": "markdown",
   "id": "1212a459",
   "metadata": {},
   "source": [
    "Clarity  'l1' has the minimum count and it also the worst clarity in the data where the other side Clarity 'Sl1' has the maximum count and it's a decent clarity."
   ]
  },
  {
   "cell_type": "markdown",
   "id": "74d1eff0",
   "metadata": {},
   "source": [
    "Best clarity is 'IF' but it has very less count whereas it must have maximum or close to maximum count to maintain good clarity of zirconia."
   ]
  },
  {
   "cell_type": "markdown",
   "id": "b11cc32f",
   "metadata": {},
   "source": [
    "### Bivariate Analysis "
   ]
  },
  {
   "cell_type": "markdown",
   "id": "49b7cbe0",
   "metadata": {},
   "source": [
    "We will use countplot, boxplot and scatterplot to compare 2 variables ."
   ]
  },
  {
   "cell_type": "code",
   "execution_count": 1555,
   "id": "0e13f24c",
   "metadata": {},
   "outputs": [
    {
     "data": {
      "image/png": "[encoded data removed]",
      "text/plain": [
       "<Figure size 432x288 with 1 Axes>"
      ]
     },
     "metadata": {
      "needs_background": "light"
     },
     "output_type": "display_data"
    }
   ],
   "source": [
    "sns.countplot(data = data, x ='cut',hue ='color')\n",
    "plt.title('countplot');"
   ]
  },
  {
   "cell_type": "markdown",
   "id": "1e2376ca",
   "metadata": {},
   "source": [
    "Mostly color G given into the all cut quality of zirconia."
   ]
  },
  {
   "cell_type": "code",
   "execution_count": 1556,
   "id": "d43b5055",
   "metadata": {},
   "outputs": [
    {
     "data": {
      "image/png": "[encoded data removed]",
      "text/plain": [
       "<Figure size 432x288 with 1 Axes>"
      ]
     },
     "metadata": {
      "needs_background": "light"
     },
     "output_type": "display_data"
    }
   ],
   "source": [
    "sns.scatterplot(data = data, x ='carat',y ='price')\n",
    "plt.title('scatterplot');"
   ]
  },
  {
   "cell_type": "markdown",
   "id": "c083aca1",
   "metadata": {},
   "source": [
    "we can see that 'Carat' is potiviely correlated with 'price'."
   ]
  },
  {
   "cell_type": "code",
   "execution_count": 1557,
   "id": "0aa45e6b",
   "metadata": {},
   "outputs": [
    {
     "data": {
      "image/png": "[encoded data removed]",
      "text/plain": [
       "<Figure size 432x288 with 1 Axes>"
      ]
     },
     "metadata": {
      "needs_background": "light"
     },
     "output_type": "display_data"
    }
   ],
   "source": [
    "sns.scatterplot(data = data, x ='x',y ='price')\n",
    "plt.title('scatterplot');"
   ]
  },
  {
   "cell_type": "markdown",
   "id": "b458256e",
   "metadata": {},
   "source": [
    "we can see that x(Length of the cubic zirconia) is potiviely correlated with price."
   ]
  },
  {
   "cell_type": "code",
   "execution_count": 1558,
   "id": "e66c6ea5",
   "metadata": {},
   "outputs": [
    {
     "data": {
      "image/png": "[encoded data removed]",
      "text/plain": [
       "<Figure size 432x288 with 1 Axes>"
      ]
     },
     "metadata": {
      "needs_background": "light"
     },
     "output_type": "display_data"
    }
   ],
   "source": [
    "sns.countplot(data = data, x ='cut',hue ='clarity')\n",
    "plt.title('countplot');"
   ]
  },
  {
   "cell_type": "markdown",
   "id": "c44e69dd",
   "metadata": {},
   "source": [
    "In Cut quality 'Fair' very few zirconia found with best Clarity 'IF' so this quality lacks top Clarity zirconia."
   ]
  },
  {
   "cell_type": "code",
   "execution_count": 1559,
   "id": "df8441ee",
   "metadata": {},
   "outputs": [
    {
     "data": {
      "image/png": "[encoded data removed]",
      "text/plain": [
       "<Figure size 432x288 with 1 Axes>"
      ]
     },
     "metadata": {
      "needs_background": "light"
     },
     "output_type": "display_data"
    }
   ],
   "source": [
    "sns.boxplot(x='cut', y='price', data=data)\n",
    "plt.title('Boxplot');"
   ]
  },
  {
   "cell_type": "markdown",
   "id": "47d287fd",
   "metadata": {},
   "source": [
    "The zirconia diamonds with 'Premium' Cut are the most Expensive."
   ]
  },
  {
   "cell_type": "code",
   "execution_count": 1560,
   "id": "41558975",
   "metadata": {},
   "outputs": [
    {
     "data": {
      "image/png": "[encoded data removed]",
      "text/plain": [
       "<Figure size 432x288 with 1 Axes>"
      ]
     },
     "metadata": {
      "needs_background": "light"
     },
     "output_type": "display_data"
    }
   ],
   "source": [
    "sns.boxplot(data=data, x='price', y='clarity')\n",
    "plt.title('Boxplot');"
   ]
  },
  {
   "cell_type": "markdown",
   "id": "7fe1ea0f",
   "metadata": {},
   "source": [
    "Most expensiv diamond belongs to 'Clarity' S1 ."
   ]
  },
  {
   "cell_type": "markdown",
   "id": "70021500",
   "metadata": {},
   "source": [
    "# 1.2 Impute null values if present, also check for the values which are equal to zero. Do they have any meaning or do we need to change them or drop them? Check for the possibility of combining the sub levels of a ordinal variables and take actions accordingly. Explain why you are combining these sub levels with appropriate reasoning."
   ]
  },
  {
   "cell_type": "code",
   "execution_count": 1561,
   "id": "6535db28",
   "metadata": {},
   "outputs": [
    {
     "data": {
      "text/plain": [
       "carat        0\n",
       "cut          0\n",
       "color        0\n",
       "clarity      0\n",
       "depth      697\n",
       "table        0\n",
       "x            0\n",
       "y            0\n",
       "z            0\n",
       "price        0\n",
       "dtype: int64"
      ]
     },
     "execution_count": 1561,
     "metadata": {},
     "output_type": "execute_result"
    }
   ],
   "source": [
    "data.isnull().sum()"
   ]
  },
  {
   "cell_type": "markdown",
   "id": "515c0c78",
   "metadata": {},
   "source": [
    "we can see that there is missing values in the column 'depth' and outliers also present in this variable so will replace null values with median ."
   ]
  },
  {
   "cell_type": "code",
   "execution_count": 1562,
   "id": "bffe42fa",
   "metadata": {},
   "outputs": [
    {
     "data": {
      "text/plain": [
       "61.8"
      ]
     },
     "execution_count": 1562,
     "metadata": {},
     "output_type": "execute_result"
    }
   ],
   "source": [
    "data['depth'].median()"
   ]
  },
  {
   "cell_type": "code",
   "execution_count": 1563,
   "id": "46e7e48a",
   "metadata": {},
   "outputs": [],
   "source": [
    "data['depth']= data['depth'].fillna(data['depth'].median())"
   ]
  },
  {
   "cell_type": "code",
   "execution_count": 1564,
   "id": "7fbaddc0",
   "metadata": {},
   "outputs": [
    {
     "data": {
      "text/plain": [
       "carat      0\n",
       "cut        0\n",
       "color      0\n",
       "clarity    0\n",
       "depth      0\n",
       "table      0\n",
       "x          0\n",
       "y          0\n",
       "z          0\n",
       "price      0\n",
       "dtype: int64"
      ]
     },
     "execution_count": 1564,
     "metadata": {},
     "output_type": "execute_result"
    }
   ],
   "source": [
    "data.isnull().sum()"
   ]
  },
  {
   "cell_type": "markdown",
   "id": "87215ed8",
   "metadata": {},
   "source": [
    "#### unique values for categorical variables"
   ]
  },
  {
   "cell_type": "code",
   "execution_count": 1565,
   "id": "d4213dd4",
   "metadata": {},
   "outputs": [
    {
     "name": "stdout",
     "output_type": "stream",
     "text": [
      "CUT :  5\n",
      "Fair           780\n",
      "Good          2435\n",
      "Very Good     6027\n",
      "Premium       6886\n",
      "Ideal        10805\n",
      "Name: cut, dtype: int64\n",
      "\n",
      "\n",
      "COLOR :  7\n",
      "J    1440\n",
      "I    2765\n",
      "D    3341\n",
      "H    4095\n",
      "F    4723\n",
      "E    4916\n",
      "G    5653\n",
      "Name: color, dtype: int64\n",
      "\n",
      "\n",
      "CLARITY :  8\n",
      "I1       364\n",
      "IF       891\n",
      "VVS1    1839\n",
      "VVS2    2530\n",
      "VS1     4087\n",
      "SI2     4564\n",
      "VS2     6093\n",
      "SI1     6565\n",
      "Name: clarity, dtype: int64\n",
      "\n",
      "\n"
     ]
    }
   ],
   "source": [
    "for column in data.columns:\n",
    "    if data[column].dtype == 'object':\n",
    "        print(column.upper(),': ',data[column].nunique())\n",
    "        print(data[column].value_counts().sort_values())\n",
    "        print('\\n')"
   ]
  },
  {
   "cell_type": "markdown",
   "id": "de8b35f8",
   "metadata": {},
   "source": [
    "unique values looks fine"
   ]
  },
  {
   "cell_type": "markdown",
   "id": "bc364c2e",
   "metadata": {},
   "source": [
    "#### Checking Values equal to 0"
   ]
  },
  {
   "cell_type": "code",
   "execution_count": 1566,
   "id": "3066233b",
   "metadata": {},
   "outputs": [
    {
     "data": {
      "text/plain": [
       "2"
      ]
     },
     "execution_count": 1566,
     "metadata": {},
     "output_type": "execute_result"
    }
   ],
   "source": [
    "(data['x']==0).sum()"
   ]
  },
  {
   "cell_type": "code",
   "execution_count": 1567,
   "id": "abcaa38b",
   "metadata": {},
   "outputs": [
    {
     "data": {
      "text/plain": [
       "2"
      ]
     },
     "execution_count": 1567,
     "metadata": {},
     "output_type": "execute_result"
    }
   ],
   "source": [
    "(data['y']==0).sum()"
   ]
  },
  {
   "cell_type": "code",
   "execution_count": 1568,
   "id": "be11ac8a",
   "metadata": {},
   "outputs": [
    {
     "data": {
      "text/plain": [
       "8"
      ]
     },
     "execution_count": 1568,
     "metadata": {},
     "output_type": "execute_result"
    }
   ],
   "source": [
    "(data['z']==0).sum()"
   ]
  },
  {
   "cell_type": "markdown",
   "id": "30293c81",
   "metadata": {},
   "source": [
    "From descriptive summary We have seen that value equal to zero is only in columns 'x', 'y', 'z' so what these variables are ? these variables indicate the dimension of a diamond and any of the parameters (Length, Width, Height) which shows the dimension can not be zero and number of obersrvation containing value=0 are very less so we will remove these. "
   ]
  },
  {
   "cell_type": "code",
   "execution_count": 1569,
   "id": "9c5f0a6e",
   "metadata": {},
   "outputs": [],
   "source": [
    "data=data.drop(data[data['x']==0].index).reset_index(drop= True)"
   ]
  },
  {
   "cell_type": "code",
   "execution_count": 1570,
   "id": "6e0ea189",
   "metadata": {},
   "outputs": [],
   "source": [
    "data=data.drop(data[data['y']==0].index).reset_index(drop= True)"
   ]
  },
  {
   "cell_type": "code",
   "execution_count": 1571,
   "id": "e693f0f7",
   "metadata": {},
   "outputs": [],
   "source": [
    "data=data.drop(data[data['z']==0].index).reset_index(drop= True)"
   ]
  },
  {
   "cell_type": "code",
   "execution_count": 1572,
   "id": "84b680e6",
   "metadata": {},
   "outputs": [
    {
     "name": "stdout",
     "output_type": "stream",
     "text": [
      "<class 'pandas.core.frame.DataFrame'>\n",
      "RangeIndex: 26925 entries, 0 to 26924\n",
      "Data columns (total 10 columns):\n",
      " #   Column   Non-Null Count  Dtype  \n",
      "---  ------   --------------  -----  \n",
      " 0   carat    26925 non-null  float64\n",
      " 1   cut      26925 non-null  object \n",
      " 2   color    26925 non-null  object \n",
      " 3   clarity  26925 non-null  object \n",
      " 4   depth    26925 non-null  float64\n",
      " 5   table    26925 non-null  float64\n",
      " 6   x        26925 non-null  float64\n",
      " 7   y        26925 non-null  float64\n",
      " 8   z        26925 non-null  float64\n",
      " 9   price    26925 non-null  int64  \n",
      "dtypes: float64(6), int64(1), object(3)\n",
      "memory usage: 2.1+ MB\n"
     ]
    }
   ],
   "source": [
    "data.info()"
   ]
  },
  {
   "cell_type": "markdown",
   "id": "dcfffe15",
   "metadata": {},
   "source": [
    "#### combining ordinal variable"
   ]
  },
  {
   "cell_type": "markdown",
   "id": "e47702e1",
   "metadata": {},
   "source": [
    "All 3 categorical variabls are ordinal as these follows a order like worst to best OR best to worst."
   ]
  },
  {
   "cell_type": "code",
   "execution_count": 1573,
   "id": "499dd4ca",
   "metadata": {},
   "outputs": [
    {
     "name": "stdout",
     "output_type": "stream",
     "text": [
      "CUT :  5\n",
      "Fair           779\n",
      "Good          2434\n",
      "Very Good     6027\n",
      "Premium       6880\n",
      "Ideal        10805\n",
      "Name: cut, dtype: int64\n",
      "\n",
      "\n",
      "COLOR :  7\n",
      "J    1440\n",
      "I    2765\n",
      "D    3341\n",
      "H    4091\n",
      "F    4722\n",
      "E    4916\n",
      "G    5650\n",
      "Name: color, dtype: int64\n",
      "\n",
      "\n",
      "CLARITY :  8\n",
      "I1       362\n",
      "IF       891\n",
      "VVS1    1839\n",
      "VVS2    2530\n",
      "VS1     4086\n",
      "SI2     4561\n",
      "VS2     6092\n",
      "SI1     6564\n",
      "Name: clarity, dtype: int64\n",
      "\n",
      "\n"
     ]
    }
   ],
   "source": [
    "for column in data.columns:\n",
    "    if data[column].dtype == 'object':\n",
    "        print(column.upper(),': ',data[column].nunique())\n",
    "        print(data[column].value_counts().sort_values())\n",
    "        print('\\n')"
   ]
  },
  {
   "cell_type": "markdown",
   "id": "a20aceab",
   "metadata": {},
   "source": [
    "Combining odrdinal veriable in a way which gives us minimum nuber of groups"
   ]
  },
  {
   "cell_type": "markdown",
   "id": "1e0cd130",
   "metadata": {},
   "source": [
    "In veriable 'CUT' we have 5 groups and we can separate these groups in 3 groups like average, good, best where Fair will be the part of group 'average' and good, Very Good in group 'good' and rest in group 'best' ."
   ]
  },
  {
   "cell_type": "markdown",
   "id": "e6d08074",
   "metadata": {},
   "source": [
    "In variable 'color'  D is the best color and J is the worst color and other color falls between these 2 which we can say in a alphabetic order best to workst like- D,E,F,G,H,I,J "
   ]
  },
  {
   "cell_type": "markdown",
   "id": "5115c628",
   "metadata": {},
   "source": [
    "we can seprate these in 4 group where J will be in group 'poor' & H,I in group 'average' ."
   ]
  },
  {
   "cell_type": "markdown",
   "id": "26f7c555",
   "metadata": {},
   "source": [
    "F,G in group 'good' and rest in group 'best'."
   ]
  },
  {
   "cell_type": "markdown",
   "id": "7c2c4424",
   "metadata": {},
   "source": [
    "In variable 'CLARITY' IF is the best and l1 is the worst so we can combine IF, VVS1 in group 'best' and VS2, Sl1, Sl2 in grpup 'average' and VVS2, VS1 in group 'Good' rest in group 'Worst'"
   ]
  },
  {
   "cell_type": "code",
   "execution_count": 1574,
   "id": "0ef3c317",
   "metadata": {},
   "outputs": [],
   "source": [
    "data['cut']=np.where(data['cut'] =='Ideal', 'Best', data['cut'])\n",
    "data['cut']=np.where(data['cut'] =='Very Good', 'Good', data['cut'])\n",
    "data['cut']=np.where(data['cut'] =='Fair', 'Average', data['cut'])\n",
    "data['cut']=np.where(data['cut'] =='Premium', 'Best', data['cut'])"
   ]
  },
  {
   "cell_type": "code",
   "execution_count": 1575,
   "id": "788172a1",
   "metadata": {},
   "outputs": [
    {
     "data": {
      "text/plain": [
       "Best       17685\n",
       "Good        8461\n",
       "Average      779\n",
       "Name: cut, dtype: int64"
      ]
     },
     "execution_count": 1575,
     "metadata": {},
     "output_type": "execute_result"
    }
   ],
   "source": [
    "data['cut'].value_counts()"
   ]
  },
  {
   "cell_type": "code",
   "execution_count": 1576,
   "id": "475fc201",
   "metadata": {},
   "outputs": [],
   "source": [
    "data['color']=np.where(data['color'] =='J', 'Poor', data['color'])\n",
    "data['color']=np.where(data['color'] =='H', 'Average', data['color'])\n",
    "data['color']=np.where(data['color'] =='I', 'Average', data['color'])\n",
    "data['color']=np.where(data['color'] =='F', 'Good', data['color'])\n",
    "data['color']=np.where(data['color'] =='G', 'Good', data['color'])\n",
    "data['color']=np.where(data['color'] =='D', 'Best', data['color'])\n",
    "data['color']=np.where(data['color'] =='E', 'Best', data['color'])"
   ]
  },
  {
   "cell_type": "code",
   "execution_count": 1577,
   "id": "e701d73c",
   "metadata": {},
   "outputs": [
    {
     "data": {
      "text/plain": [
       "Good       10372\n",
       "Best        8257\n",
       "Average     6856\n",
       "Poor        1440\n",
       "Name: color, dtype: int64"
      ]
     },
     "execution_count": 1577,
     "metadata": {},
     "output_type": "execute_result"
    }
   ],
   "source": [
    "data['color'].value_counts()"
   ]
  },
  {
   "cell_type": "code",
   "execution_count": 1578,
   "id": "db3bd0c9",
   "metadata": {},
   "outputs": [],
   "source": [
    "data['clarity']=np.where(data['clarity'] =='I1', 'Worst', data['clarity'])\n",
    "data['clarity']=np.where(data['clarity'] =='SI1', 'Average', data['clarity'])\n",
    "data['clarity']=np.where(data['clarity'] =='VS2', 'Average', data['clarity'])\n",
    "data['clarity']=np.where(data['clarity'] =='VS1', 'Good', data['clarity'])\n",
    "data['clarity']=np.where(data['clarity'] =='VVS2', 'Good', data['clarity'])\n",
    "data['clarity']=np.where(data['clarity'] =='VVS1', 'Best', data['clarity'])\n",
    "data['clarity']=np.where(data['clarity'] =='IF', 'Best', data['clarity'])\n",
    "data['clarity']=np.where(data['clarity'] =='SI2', 'Average', data['clarity'])\n"
   ]
  },
  {
   "cell_type": "code",
   "execution_count": 1579,
   "id": "93158bb8",
   "metadata": {},
   "outputs": [
    {
     "data": {
      "text/plain": [
       "Average    17217\n",
       "Good        6616\n",
       "Best        2730\n",
       "Worst        362\n",
       "Name: clarity, dtype: int64"
      ]
     },
     "execution_count": 1579,
     "metadata": {},
     "output_type": "execute_result"
    }
   ],
   "source": [
    "data['clarity'].value_counts()"
   ]
  },
  {
   "cell_type": "markdown",
   "id": "132f1087",
   "metadata": {},
   "source": [
    "We have combined the group of ordinal variables and these were in a order so we ranked them with new variable in orderd form."
   ]
  },
  {
   "cell_type": "code",
   "execution_count": 1580,
   "id": "525c064a",
   "metadata": {},
   "outputs": [
    {
     "name": "stdout",
     "output_type": "stream",
     "text": [
      "<class 'pandas.core.frame.DataFrame'>\n",
      "RangeIndex: 26925 entries, 0 to 26924\n",
      "Data columns (total 10 columns):\n",
      " #   Column   Non-Null Count  Dtype  \n",
      "---  ------   --------------  -----  \n",
      " 0   carat    26925 non-null  float64\n",
      " 1   cut      26925 non-null  object \n",
      " 2   color    26925 non-null  object \n",
      " 3   clarity  26925 non-null  object \n",
      " 4   depth    26925 non-null  float64\n",
      " 5   table    26925 non-null  float64\n",
      " 6   x        26925 non-null  float64\n",
      " 7   y        26925 non-null  float64\n",
      " 8   z        26925 non-null  float64\n",
      " 9   price    26925 non-null  int64  \n",
      "dtypes: float64(6), int64(1), object(3)\n",
      "memory usage: 2.1+ MB\n"
     ]
    }
   ],
   "source": [
    "data.info()"
   ]
  },
  {
   "cell_type": "markdown",
   "id": "63eb7164",
   "metadata": {},
   "source": [
    "# 1.3 Encode the data (having string values) for Modelling. Split the data into train and test (70:30). Apply Linear regression using scikit learn. Perform checks for significant variables using appropriate method from statsmodel. Create multiple models and check the performance of Predictions on Train and Test sets using Rsquare, RMSE & Adj Rsquare. Compare these models and select the best one with appropriate reasoning."
   ]
  },
  {
   "cell_type": "markdown",
   "id": "f3a0ddd3",
   "metadata": {},
   "source": [
    "#### Encoding the categorical variable."
   ]
  },
  {
   "cell_type": "markdown",
   "id": "fc9502b6",
   "metadata": {},
   "source": [
    "We will use lable encoding as our variable is in ordinal form ."
   ]
  },
  {
   "cell_type": "code",
   "execution_count": 1581,
   "id": "aabbbb6d",
   "metadata": {},
   "outputs": [],
   "source": [
    "from sklearn.preprocessing import LabelEncoder"
   ]
  },
  {
   "cell_type": "code",
   "execution_count": 1582,
   "id": "902d918c",
   "metadata": {},
   "outputs": [],
   "source": [
    "LE = LabelEncoder()"
   ]
  },
  {
   "cell_type": "code",
   "execution_count": 1583,
   "id": "c47a8fc2",
   "metadata": {},
   "outputs": [],
   "source": [
    "data['cut'] = LE.fit_transform(data['cut'])"
   ]
  },
  {
   "cell_type": "code",
   "execution_count": 1584,
   "id": "3d9bb868",
   "metadata": {},
   "outputs": [],
   "source": [
    "data['color'] = LE.fit_transform(data['color'])"
   ]
  },
  {
   "cell_type": "code",
   "execution_count": 1585,
   "id": "c8a76662",
   "metadata": {},
   "outputs": [],
   "source": [
    "data['clarity'] = LE.fit_transform(data['clarity'])"
   ]
  },
  {
   "cell_type": "code",
   "execution_count": 1586,
   "id": "d7d7288d",
   "metadata": {},
   "outputs": [
    {
     "name": "stdout",
     "output_type": "stream",
     "text": [
      "<class 'pandas.core.frame.DataFrame'>\n",
      "RangeIndex: 26925 entries, 0 to 26924\n",
      "Data columns (total 10 columns):\n",
      " #   Column   Non-Null Count  Dtype  \n",
      "---  ------   --------------  -----  \n",
      " 0   carat    26925 non-null  float64\n",
      " 1   cut      26925 non-null  int32  \n",
      " 2   color    26925 non-null  int32  \n",
      " 3   clarity  26925 non-null  int32  \n",
      " 4   depth    26925 non-null  float64\n",
      " 5   table    26925 non-null  float64\n",
      " 6   x        26925 non-null  float64\n",
      " 7   y        26925 non-null  float64\n",
      " 8   z        26925 non-null  float64\n",
      " 9   price    26925 non-null  int64  \n",
      "dtypes: float64(6), int32(3), int64(1)\n",
      "memory usage: 1.7 MB\n"
     ]
    }
   ],
   "source": [
    "data.info()"
   ]
  },
  {
   "cell_type": "markdown",
   "id": "a45178e0",
   "metadata": {},
   "source": [
    "### Train Test Split"
   ]
  },
  {
   "cell_type": "code",
   "execution_count": 1587,
   "id": "abc75db8",
   "metadata": {},
   "outputs": [],
   "source": [
    "from sklearn.model_selection import train_test_split"
   ]
  },
  {
   "cell_type": "code",
   "execution_count": 1588,
   "id": "e4ee6732",
   "metadata": {},
   "outputs": [],
   "source": [
    "# Copy all the predictor variables into X dataframe\n",
    "X = data.drop('price', axis=1)\n",
    "\n",
    "# Copy target into the y dataframe. \n",
    "y = data.pop('price')"
   ]
  },
  {
   "cell_type": "code",
   "execution_count": 1589,
   "id": "9662339d",
   "metadata": {},
   "outputs": [],
   "source": [
    "X_train, X_test, y_train, y_test = train_test_split(X, y, test_size=0.30 , random_state=1)"
   ]
  },
  {
   "cell_type": "code",
   "execution_count": 1590,
   "id": "fd4dc984",
   "metadata": {},
   "outputs": [
    {
     "data": {
      "text/plain": [
       "LinearRegression()"
      ]
     },
     "execution_count": 1590,
     "metadata": {},
     "output_type": "execute_result"
    }
   ],
   "source": [
    "regression_model = LinearRegression()\n",
    "regression_model.fit(X_train, y_train)"
   ]
  },
  {
   "cell_type": "code",
   "execution_count": 1591,
   "id": "17d746da",
   "metadata": {},
   "outputs": [
    {
     "name": "stdout",
     "output_type": "stream",
     "text": [
      "The coefficient for carat is 11005.921547059015\n",
      "The coefficient for cut is 58.1048980122618\n",
      "The coefficient for color is 95.98651587888155\n",
      "The coefficient for clarity is 289.1842209725049\n",
      "The coefficient for depth is -197.39424122917015\n",
      "The coefficient for table is -101.25030342033497\n",
      "The coefficient for x is -1297.1955148649827\n",
      "The coefficient for y is 7.3566647440026\n",
      "The coefficient for z is -31.348666735059165\n"
     ]
    }
   ],
   "source": [
    "for indx, col_name in enumerate(X_train.columns):\n",
    "    print(\"The coefficient for {} is {}\".format(col_name, regression_model.coef_[indx]))"
   ]
  },
  {
   "cell_type": "code",
   "execution_count": 1592,
   "id": "ad04bf51",
   "metadata": {},
   "outputs": [
    {
     "name": "stdout",
     "output_type": "stream",
     "text": [
      "The intercept for our model is 20283.187895261588\n"
     ]
    }
   ],
   "source": [
    "print(\"The intercept for our model is {}\".format(regression_model.intercept_))"
   ]
  },
  {
   "cell_type": "code",
   "execution_count": 1593,
   "id": "39a8d4bd",
   "metadata": {},
   "outputs": [
    {
     "data": {
      "text/plain": [
       "0.8646606102865697"
      ]
     },
     "execution_count": 1593,
     "metadata": {},
     "output_type": "execute_result"
    }
   ],
   "source": [
    " # R square on training data\n",
    "regression_model.score(X_train, y_train)"
   ]
  },
  {
   "cell_type": "markdown",
   "id": "c773b0fb",
   "metadata": {},
   "source": [
    "86% of the variation in the variable y is explained by the predictors in the model for train set."
   ]
  },
  {
   "cell_type": "code",
   "execution_count": 1594,
   "id": "ebd031c8",
   "metadata": {},
   "outputs": [
    {
     "data": {
      "text/plain": [
       "0.8677285505530588"
      ]
     },
     "execution_count": 1594,
     "metadata": {},
     "output_type": "execute_result"
    }
   ],
   "source": [
    "# R square on testing  data\n",
    "regression_model.score(X_test, y_test)"
   ]
  },
  {
   "cell_type": "markdown",
   "id": "fa9a7300",
   "metadata": {},
   "source": [
    "86% of the variation in the variable y is explained by the predictors in the model for test set."
   ]
  },
  {
   "cell_type": "markdown",
   "id": "6cde88e8",
   "metadata": {},
   "source": [
    "In this regression model we can see the R-square value on Training and Test data is close to each other "
   ]
  },
  {
   "cell_type": "code",
   "execution_count": 1595,
   "id": "d22f2972",
   "metadata": {},
   "outputs": [
    {
     "data": {
      "text/plain": [
       "1474.507368277916"
      ]
     },
     "execution_count": 1595,
     "metadata": {},
     "output_type": "execute_result"
    }
   ],
   "source": [
    "#RMSE on Training data\n",
    "predicted_train=regression_model.fit(X_train, y_train).predict(X_train)\n",
    "np.sqrt(metrics.mean_squared_error(y_train,predicted_train))"
   ]
  },
  {
   "cell_type": "code",
   "execution_count": 1596,
   "id": "f6059576",
   "metadata": {},
   "outputs": [
    {
     "data": {
      "text/plain": [
       "1473.1909463247393"
      ]
     },
     "execution_count": 1596,
     "metadata": {},
     "output_type": "execute_result"
    }
   ],
   "source": [
    "#RMSE on testing  data\n",
    "predicted_test=regression_model.fit(X_train, y_train).predict(X_test)\n",
    "np.sqrt(metrics.mean_squared_error(y_test,predicted_test))"
   ]
  },
  {
   "cell_type": "markdown",
   "id": "4f5c0b57",
   "metadata": {},
   "source": [
    "Linear regression Performance using sklearn model:"
   ]
  },
  {
   "cell_type": "markdown",
   "id": "b6c62918",
   "metadata": {},
   "source": [
    "intercept for the model= 20283.187895261588"
   ]
  },
  {
   "cell_type": "markdown",
   "id": "83697ebe",
   "metadata": {},
   "source": [
    "R square on training data= 0.8646606102865697"
   ]
  },
  {
   "cell_type": "markdown",
   "id": "9afd716a",
   "metadata": {},
   "source": [
    "R square on testing data= 0.8677285505530588"
   ]
  },
  {
   "cell_type": "markdown",
   "id": "4efd1d83",
   "metadata": {},
   "source": [
    "RMSE on Training data= 1474.507368277916"
   ]
  },
  {
   "cell_type": "markdown",
   "id": "13780114",
   "metadata": {},
   "source": [
    "RMSE on Testing data= 1473.1909463247393"
   ]
  },
  {
   "cell_type": "markdown",
   "id": "71d8c610",
   "metadata": {},
   "source": [
    "We can see that train and test score is close to each other so no overfitting found in the model."
   ]
  },
  {
   "cell_type": "markdown",
   "id": "b2b3578a",
   "metadata": {},
   "source": [
    "### Linear Regression using statsmodels(OLS)"
   ]
  },
  {
   "cell_type": "code",
   "execution_count": 1597,
   "id": "cdb78917",
   "metadata": {},
   "outputs": [],
   "source": [
    "X_train=sm.add_constant(X_train)# This adds the constant term beta0 to the Simple Linear Regression.\n",
    "X_test=sm.add_constant(X_test)"
   ]
  },
  {
   "cell_type": "code",
   "execution_count": 1598,
   "id": "ac57991c",
   "metadata": {},
   "outputs": [
    {
     "data": {
      "text/plain": [
       "<statsmodels.regression.linear_model.RegressionResultsWrapper at 0x2a9d3500a90>"
      ]
     },
     "execution_count": 1598,
     "metadata": {},
     "output_type": "execute_result"
    }
   ],
   "source": [
    "model1 = sm.OLS(y_train,X_train).fit()\n",
    "model1"
   ]
  },
  {
   "cell_type": "code",
   "execution_count": 1599,
   "id": "99f5ee59",
   "metadata": {},
   "outputs": [
    {
     "data": {
      "text/html": [
       "<table class=\"simpletable\">\n",
       "<caption>OLS Regression Results</caption>\n",
       "<tr>\n",
       "  <th>Dep. Variable:</th>          <td>price</td>      <th>  R-squared:         </th>  <td>   0.865</td>  \n",
       "</tr>\n",
       "<tr>\n",
       "  <th>Model:</th>                   <td>OLS</td>       <th>  Adj. R-squared:    </th>  <td>   0.865</td>  \n",
       "</tr>\n",
       "<tr>\n",
       "  <th>Method:</th>             <td>Least Squares</td>  <th>  F-statistic:       </th>  <td>1.337e+04</td> \n",
       "</tr>\n",
       "<tr>\n",
       "  <th>Date:</th>             <td>Sun, 30 Oct 2022</td> <th>  Prob (F-statistic):</th>   <td>  0.00</td>   \n",
       "</tr>\n",
       "<tr>\n",
       "  <th>Time:</th>                 <td>22:18:24</td>     <th>  Log-Likelihood:    </th> <td>-1.6425e+05</td>\n",
       "</tr>\n",
       "<tr>\n",
       "  <th>No. Observations:</th>      <td> 18847</td>      <th>  AIC:               </th>  <td>3.285e+05</td> \n",
       "</tr>\n",
       "<tr>\n",
       "  <th>Df Residuals:</th>          <td> 18837</td>      <th>  BIC:               </th>  <td>3.286e+05</td> \n",
       "</tr>\n",
       "<tr>\n",
       "  <th>Df Model:</th>              <td>     9</td>      <th>                     </th>      <td> </td>     \n",
       "</tr>\n",
       "<tr>\n",
       "  <th>Covariance Type:</th>      <td>nonrobust</td>    <th>                     </th>      <td> </td>     \n",
       "</tr>\n",
       "</table>\n",
       "<table class=\"simpletable\">\n",
       "<tr>\n",
       "     <td></td>        <th>coef</th>     <th>std err</th>      <th>t</th>      <th>P>|t|</th>  <th>[0.025</th>    <th>0.975]</th>  \n",
       "</tr>\n",
       "<tr>\n",
       "  <th>const</th>   <td> 2.028e+04</td> <td>  741.488</td> <td>   27.355</td> <td> 0.000</td> <td> 1.88e+04</td> <td> 2.17e+04</td>\n",
       "</tr>\n",
       "<tr>\n",
       "  <th>carat</th>   <td> 1.101e+04</td> <td>  112.389</td> <td>   97.927</td> <td> 0.000</td> <td> 1.08e+04</td> <td> 1.12e+04</td>\n",
       "</tr>\n",
       "<tr>\n",
       "  <th>cut</th>     <td>   58.1049</td> <td>   21.379</td> <td>    2.718</td> <td> 0.007</td> <td>   16.201</td> <td>  100.009</td>\n",
       "</tr>\n",
       "<tr>\n",
       "  <th>color</th>   <td>   95.9865</td> <td>   12.071</td> <td>    7.952</td> <td> 0.000</td> <td>   72.326</td> <td>  119.647</td>\n",
       "</tr>\n",
       "<tr>\n",
       "  <th>clarity</th> <td>  289.1842</td> <td>   12.253</td> <td>   23.601</td> <td> 0.000</td> <td>  265.167</td> <td>  313.201</td>\n",
       "</tr>\n",
       "<tr>\n",
       "  <th>depth</th>   <td> -197.3942</td> <td>    8.846</td> <td>  -22.314</td> <td> 0.000</td> <td> -214.733</td> <td> -180.055</td>\n",
       "</tr>\n",
       "<tr>\n",
       "  <th>table</th>   <td> -101.2503</td> <td>    5.223</td> <td>  -19.387</td> <td> 0.000</td> <td> -111.487</td> <td>  -91.014</td>\n",
       "</tr>\n",
       "<tr>\n",
       "  <th>x</th>       <td>-1297.1955</td> <td>   61.417</td> <td>  -21.121</td> <td> 0.000</td> <td>-1417.579</td> <td>-1176.812</td>\n",
       "</tr>\n",
       "<tr>\n",
       "  <th>y</th>       <td>    7.3567</td> <td>   29.003</td> <td>    0.254</td> <td> 0.800</td> <td>  -49.492</td> <td>   64.205</td>\n",
       "</tr>\n",
       "<tr>\n",
       "  <th>z</th>       <td>  -31.3487</td> <td>   50.621</td> <td>   -0.619</td> <td> 0.536</td> <td> -130.571</td> <td>   67.874</td>\n",
       "</tr>\n",
       "</table>\n",
       "<table class=\"simpletable\">\n",
       "<tr>\n",
       "  <th>Omnibus:</th>       <td>4376.971</td> <th>  Durbin-Watson:     </th>  <td>   2.002</td> \n",
       "</tr>\n",
       "<tr>\n",
       "  <th>Prob(Omnibus):</th>  <td> 0.000</td>  <th>  Jarque-Bera (JB):  </th> <td>159274.110</td>\n",
       "</tr>\n",
       "<tr>\n",
       "  <th>Skew:</th>           <td> 0.385</td>  <th>  Prob(JB):          </th>  <td>    0.00</td> \n",
       "</tr>\n",
       "<tr>\n",
       "  <th>Kurtosis:</th>       <td>17.221</td>  <th>  Cond. No.          </th>  <td>5.87e+03</td> \n",
       "</tr>\n",
       "</table><br/><br/>Notes:<br/>[1] Standard Errors assume that the covariance matrix of the errors is correctly specified.<br/>[2] The condition number is large, 5.87e+03. This might indicate that there are<br/>strong multicollinearity or other numerical problems."
      ],
      "text/plain": [
       "<class 'statsmodels.iolib.summary.Summary'>\n",
       "\"\"\"\n",
       "                            OLS Regression Results                            \n",
       "==============================================================================\n",
       "Dep. Variable:                  price   R-squared:                       0.865\n",
       "Model:                            OLS   Adj. R-squared:                  0.865\n",
       "Method:                 Least Squares   F-statistic:                 1.337e+04\n",
       "Date:                Sun, 30 Oct 2022   Prob (F-statistic):               0.00\n",
       "Time:                        22:18:24   Log-Likelihood:            -1.6425e+05\n",
       "No. Observations:               18847   AIC:                         3.285e+05\n",
       "Df Residuals:                   18837   BIC:                         3.286e+05\n",
       "Df Model:                           9                                         \n",
       "Covariance Type:            nonrobust                                         \n",
       "==============================================================================\n",
       "                 coef    std err          t      P>|t|      [0.025      0.975]\n",
       "------------------------------------------------------------------------------\n",
       "const       2.028e+04    741.488     27.355      0.000    1.88e+04    2.17e+04\n",
       "carat       1.101e+04    112.389     97.927      0.000    1.08e+04    1.12e+04\n",
       "cut           58.1049     21.379      2.718      0.007      16.201     100.009\n",
       "color         95.9865     12.071      7.952      0.000      72.326     119.647\n",
       "clarity      289.1842     12.253     23.601      0.000     265.167     313.201\n",
       "depth       -197.3942      8.846    -22.314      0.000    -214.733    -180.055\n",
       "table       -101.2503      5.223    -19.387      0.000    -111.487     -91.014\n",
       "x          -1297.1955     61.417    -21.121      0.000   -1417.579   -1176.812\n",
       "y              7.3567     29.003      0.254      0.800     -49.492      64.205\n",
       "z            -31.3487     50.621     -0.619      0.536    -130.571      67.874\n",
       "==============================================================================\n",
       "Omnibus:                     4376.971   Durbin-Watson:                   2.002\n",
       "Prob(Omnibus):                  0.000   Jarque-Bera (JB):           159274.110\n",
       "Skew:                           0.385   Prob(JB):                         0.00\n",
       "Kurtosis:                      17.221   Cond. No.                     5.87e+03\n",
       "==============================================================================\n",
       "\n",
       "Notes:\n",
       "[1] Standard Errors assume that the covariance matrix of the errors is correctly specified.\n",
       "[2] The condition number is large, 5.87e+03. This might indicate that there are\n",
       "strong multicollinearity or other numerical problems.\n",
       "\"\"\""
      ]
     },
     "execution_count": 1599,
     "metadata": {},
     "output_type": "execute_result"
    }
   ],
   "source": [
    "model1.summary()"
   ]
  },
  {
   "cell_type": "markdown",
   "id": "350c13b7",
   "metadata": {},
   "source": [
    "The coefficients tell us how one unit change in X can affect y.\n",
    "\n",
    "The sign of the coefficient indicates if the relationship is positive or negative."
   ]
  },
  {
   "cell_type": "code",
   "execution_count": 1600,
   "id": "16767d59",
   "metadata": {},
   "outputs": [],
   "source": [
    "#Calculate MSE on train\n",
    "predicted_train=model1.predict(X_train)\n",
    "mse=metrics.mean_squared_error(y_train,predicted_train)"
   ]
  },
  {
   "cell_type": "code",
   "execution_count": 1601,
   "id": "8a60c6be",
   "metadata": {},
   "outputs": [
    {
     "data": {
      "text/plain": [
       "1474.507368277916"
      ]
     },
     "execution_count": 1601,
     "metadata": {},
     "output_type": "execute_result"
    }
   ],
   "source": [
    "#RMSE on train \n",
    "np.sqrt(mse)"
   ]
  },
  {
   "cell_type": "code",
   "execution_count": 1602,
   "id": "23a40e5b",
   "metadata": {},
   "outputs": [],
   "source": [
    "#Calculate MSE on test\n",
    "y_pred = model1.predict(X_test)\n",
    "mse1=metrics.mean_squared_error(y_test,y_pred)"
   ]
  },
  {
   "cell_type": "code",
   "execution_count": 1603,
   "id": "d56939d1",
   "metadata": {},
   "outputs": [
    {
     "data": {
      "text/plain": [
       "1473.1909463247373"
      ]
     },
     "execution_count": 1603,
     "metadata": {},
     "output_type": "execute_result"
    }
   ],
   "source": [
    "#RMSE on test\n",
    "np.sqrt(mse1)"
   ]
  },
  {
   "cell_type": "code",
   "execution_count": 1604,
   "id": "9808b2d5",
   "metadata": {},
   "outputs": [
    {
     "data": {
      "image/png": "[encoded data removed]",
      "text/plain": [
       "<Figure size 432x288 with 1 Axes>"
      ]
     },
     "metadata": {
      "needs_background": "light"
     },
     "output_type": "display_data"
    }
   ],
   "source": [
    "plt.scatter(y_test, y_pred)\n",
    "plt.show()"
   ]
  },
  {
   "cell_type": "markdown",
   "id": "0ea22150",
   "metadata": {},
   "source": [
    "We can see that in both model and model1 performace score is similar."
   ]
  },
  {
   "cell_type": "markdown",
   "id": "16cd4ad0",
   "metadata": {},
   "source": [
    "### check for Multicollinearity"
   ]
  },
  {
   "cell_type": "markdown",
   "id": "3f36d68b",
   "metadata": {},
   "source": [
    "Multicollinearity is the presence of a strong correlation between the independent variables and We can check Multicollinearity with the VIF(Variance Inflation factor) score "
   ]
  },
  {
   "cell_type": "markdown",
   "id": "9441c19e",
   "metadata": {},
   "source": [
    "If VIF is 1 then no collinearities exist among the predictors and if VIF exceeds 5, we say there is moderate VIF, and if it is 10 or exceeding 10, it is signs of high multi-collinearity"
   ]
  },
  {
   "cell_type": "code",
   "execution_count": 1605,
   "id": "82a40c54",
   "metadata": {},
   "outputs": [
    {
     "name": "stdout",
     "output_type": "stream",
     "text": [
      "VIF values: \n",
      "\n",
      "const      4763.503431\n",
      "carat        24.687104\n",
      "cut           1.034921\n",
      "color         1.006263\n",
      "clarity       1.045658\n",
      "depth         1.322249\n",
      "table         1.179995\n",
      "x            41.124845\n",
      "y            10.133346\n",
      "z            11.626518\n",
      "dtype: float64\n",
      "\n"
     ]
    }
   ],
   "source": [
    "# let's check the VIF of the predictors\n",
    "from statsmodels.stats.outliers_influence import variance_inflation_factor\n",
    "\n",
    "vif_series1 = pd.Series(\n",
    "    [variance_inflation_factor(X_train.values, i) for i in range(X_train.shape[1])],\n",
    "    index=X_train.columns,\n",
    ")\n",
    "print(\"VIF values: \\n\\n{}\\n\".format(vif_series1))"
   ]
  },
  {
   "cell_type": "markdown",
   "id": "48260099",
   "metadata": {},
   "source": [
    "The VIF values indicate that the features carat, x, y, and z are correlated with one or more independent features.\n",
    "\n",
    "To treat multicollinearity, we will have to drop one or more of the correlated features (carat, x, y, and z).\n",
    "\n",
    "We will drop the variable that has the least impact on the adjusted R-squared of the model."
   ]
  },
  {
   "cell_type": "markdown",
   "id": "f168093e",
   "metadata": {},
   "source": [
    "#### Let's remove/drop multicollinear columns one by one and observe the effect on our predictive model."
   ]
  },
  {
   "cell_type": "code",
   "execution_count": 1606,
   "id": "c75b93ca",
   "metadata": {},
   "outputs": [
    {
     "name": "stdout",
     "output_type": "stream",
     "text": [
      "R-squared: 0.796 \n",
      "Adjusted R-squared: 0.796\n"
     ]
    }
   ],
   "source": [
    "X_train2 = X_train.drop([\"carat\"], axis=1)\n",
    "olsmod_1 = sm.OLS(y_train, X_train2)\n",
    "olsres_1 = olsmod_1.fit()\n",
    "print(\n",
    "    \"R-squared:\",\n",
    "    np.round(olsres_1.rsquared, 3),\n",
    "    \"\\nAdjusted R-squared:\",\n",
    "    np.round(olsres_1.rsquared_adj, 3),\n",
    ")"
   ]
  },
  {
   "cell_type": "markdown",
   "id": "5725155e",
   "metadata": {},
   "source": [
    "On dropping 'carat', adj. R-squared decreased by 0.069\n",
    "\n",
    "This sharp decline indicates that 'carat' is an important predictor and shouldn't be removed."
   ]
  },
  {
   "cell_type": "code",
   "execution_count": 1607,
   "id": "5ae76fbb",
   "metadata": {},
   "outputs": [
    {
     "name": "stdout",
     "output_type": "stream",
     "text": [
      "R-squared: 0.861 \n",
      "Adjusted R-squared: 0.861\n"
     ]
    }
   ],
   "source": [
    "X_train3 = X_train.drop([\"x\"], axis=1)\n",
    "olsmod_2 = sm.OLS(y_train, X_train3)\n",
    "olsres_2 = olsmod_2.fit()\n",
    "print(\n",
    "    \"R-squared:\",\n",
    "    np.round(olsres_2.rsquared, 3),\n",
    "    \"\\nAdjusted R-squared:\",\n",
    "    np.round(olsres_2.rsquared_adj, 3),\n",
    ")"
   ]
  },
  {
   "cell_type": "markdown",
   "id": "08634774",
   "metadata": {},
   "source": [
    "On dropping 'x', adj. R-squared decresed by 0.004"
   ]
  },
  {
   "cell_type": "code",
   "execution_count": 1608,
   "id": "f6676c1d",
   "metadata": {},
   "outputs": [
    {
     "name": "stdout",
     "output_type": "stream",
     "text": [
      "R-squared: 0.865 \n",
      "Adjusted R-squared: 0.865\n"
     ]
    }
   ],
   "source": [
    "X_train4 = X_train.drop([\"y\"], axis=1)\n",
    "olsmod_3 = sm.OLS(y_train, X_train4)\n",
    "olsres_3 = olsmod_3.fit()\n",
    "print(\n",
    "    \"R-squared:\",\n",
    "    np.round(olsres_3.rsquared, 3),\n",
    "    \"\\nAdjusted R-squared:\",\n",
    "    np.round(olsres_3.rsquared_adj, 3),\n",
    ")"
   ]
  },
  {
   "cell_type": "markdown",
   "id": "5c4f3125",
   "metadata": {},
   "source": [
    "On dropping 'y', adj. R-squared remains the same."
   ]
  },
  {
   "cell_type": "code",
   "execution_count": 1609,
   "id": "d377b112",
   "metadata": {},
   "outputs": [
    {
     "name": "stdout",
     "output_type": "stream",
     "text": [
      "R-squared: 0.865 \n",
      "Adjusted R-squared: 0.865\n"
     ]
    }
   ],
   "source": [
    "X_train5 = X_train.drop([\"z\"], axis=1)\n",
    "olsmod_4 = sm.OLS(y_train, X_train5)\n",
    "olsres_4 = olsmod_4.fit()\n",
    "print(\n",
    "    \"R-squared:\",\n",
    "    np.round(olsres_4.rsquared, 3),\n",
    "    \"\\nAdjusted R-squared:\",\n",
    "    np.round(olsres_4.rsquared_adj, 3),\n",
    ")"
   ]
  },
  {
   "cell_type": "markdown",
   "id": "41b9b93d",
   "metadata": {},
   "source": [
    "On dropping 'z', adj. R-squared remains the same."
   ]
  },
  {
   "cell_type": "markdown",
   "id": "c28c8110",
   "metadata": {},
   "source": [
    "#### Since there is no effect on adj. R-squared after dropping the 'z' column, we can remove it from the training set"
   ]
  },
  {
   "cell_type": "code",
   "execution_count": 1610,
   "id": "db704cb3",
   "metadata": {},
   "outputs": [],
   "source": [
    "X_train = X_train.drop([\"z\"], axis=1)"
   ]
  },
  {
   "cell_type": "code",
   "execution_count": 1611,
   "id": "37cef6a3",
   "metadata": {},
   "outputs": [
    {
     "name": "stdout",
     "output_type": "stream",
     "text": [
      "                            OLS Regression Results                            \n",
      "==============================================================================\n",
      "Dep. Variable:                  price   R-squared:                       0.865\n",
      "Model:                            OLS   Adj. R-squared:                  0.865\n",
      "Method:                 Least Squares   F-statistic:                 1.504e+04\n",
      "Date:                Sun, 30 Oct 2022   Prob (F-statistic):               0.00\n",
      "Time:                        22:18:25   Log-Likelihood:            -1.6425e+05\n",
      "No. Observations:               18847   AIC:                         3.285e+05\n",
      "Df Residuals:                   18838   BIC:                         3.286e+05\n",
      "Df Model:                           8                                         \n",
      "Covariance Type:            nonrobust                                         \n",
      "==============================================================================\n",
      "                 coef    std err          t      P>|t|      [0.025      0.975]\n",
      "------------------------------------------------------------------------------\n",
      "const       2.039e+04    721.030     28.279      0.000     1.9e+04    2.18e+04\n",
      "carat       1.101e+04    112.382     97.927      0.000    1.08e+04    1.12e+04\n",
      "cut           57.7106     21.369      2.701      0.007      15.826      99.596\n",
      "color         95.9881     12.071      7.952      0.000      72.328     119.648\n",
      "clarity      289.0730     12.252     23.595      0.000     265.059     313.087\n",
      "depth       -199.2114      8.345    -23.872      0.000    -215.568    -182.854\n",
      "table       -101.1773      5.221    -19.379      0.000    -111.411     -90.943\n",
      "x          -1314.0922     55.023    -23.883      0.000   -1421.942   -1206.242\n",
      "y              5.2450     28.801      0.182      0.855     -51.208      61.698\n",
      "==============================================================================\n",
      "Omnibus:                     4377.037   Durbin-Watson:                   2.002\n",
      "Prob(Omnibus):                  0.000   Jarque-Bera (JB):           159235.431\n",
      "Skew:                           0.385   Prob(JB):                         0.00\n",
      "Kurtosis:                      17.219   Cond. No.                     5.71e+03\n",
      "==============================================================================\n",
      "\n",
      "Notes:\n",
      "[1] Standard Errors assume that the covariance matrix of the errors is correctly specified.\n",
      "[2] The condition number is large, 5.71e+03. This might indicate that there are\n",
      "strong multicollinearity or other numerical problems.\n"
     ]
    }
   ],
   "source": [
    "olsmod_5 = sm.OLS(y_train, X_train)\n",
    "olsres_5 = olsmod_5.fit()\n",
    "print(olsres_5.summary())"
   ]
  },
  {
   "cell_type": "markdown",
   "id": "a8b25481",
   "metadata": {},
   "source": [
    "#### Let's check if multicollinearity is still present in the data."
   ]
  },
  {
   "cell_type": "code",
   "execution_count": 1612,
   "id": "a613e7ca",
   "metadata": {},
   "outputs": [
    {
     "name": "stdout",
     "output_type": "stream",
     "text": [
      "VIF values: \n",
      "\n",
      "const      4504.413857\n",
      "carat        24.684807\n",
      "cut           1.034003\n",
      "color         1.006263\n",
      "clarity       1.045434\n",
      "depth         1.176757\n",
      "table         1.179393\n",
      "x            33.008558\n",
      "y             9.993276\n",
      "dtype: float64\n",
      "\n"
     ]
    }
   ],
   "source": [
    "vif_series2 = pd.Series(\n",
    "    [variance_inflation_factor(X_train.values, i) for i in range(X_train.shape[1])],\n",
    "    index=X_train.columns,\n",
    ")\n",
    "print(\"VIF values: \\n\\n{}\\n\".format(vif_series2))"
   ]
  },
  {
   "cell_type": "markdown",
   "id": "0239d4be",
   "metadata": {},
   "source": [
    "We know that 'carat' is an important predictor, so let's see the effect of dropping 'x' and 'y' now."
   ]
  },
  {
   "cell_type": "code",
   "execution_count": 1613,
   "id": "cfb0264f",
   "metadata": {},
   "outputs": [],
   "source": [
    "X_train = X_train.drop([\"y\"], axis=1)"
   ]
  },
  {
   "cell_type": "code",
   "execution_count": 1614,
   "id": "434d6a5a",
   "metadata": {},
   "outputs": [
    {
     "name": "stdout",
     "output_type": "stream",
     "text": [
      "                            OLS Regression Results                            \n",
      "==============================================================================\n",
      "Dep. Variable:                  price   R-squared:                       0.865\n",
      "Model:                            OLS   Adj. R-squared:                  0.865\n",
      "Method:                 Least Squares   F-statistic:                 1.719e+04\n",
      "Date:                Sun, 30 Oct 2022   Prob (F-statistic):               0.00\n",
      "Time:                        22:18:25   Log-Likelihood:            -1.6425e+05\n",
      "No. Observations:               18847   AIC:                         3.285e+05\n",
      "Df Residuals:                   18839   BIC:                         3.286e+05\n",
      "Df Model:                           7                                         \n",
      "Covariance Type:            nonrobust                                         \n",
      "==============================================================================\n",
      "                 coef    std err          t      P>|t|      [0.025      0.975]\n",
      "------------------------------------------------------------------------------\n",
      "const        2.04e+04    720.082     28.326      0.000     1.9e+04    2.18e+04\n",
      "carat       1.101e+04    112.334     97.975      0.000    1.08e+04    1.12e+04\n",
      "cut           57.9004     21.343      2.713      0.007      16.066      99.734\n",
      "color         95.9741     12.070      7.951      0.000      72.315     119.633\n",
      "clarity      289.0732     12.251     23.595      0.000     265.060     313.087\n",
      "depth       -199.2733      8.338    -23.900      0.000    -215.616    -182.930\n",
      "table       -101.2139      5.217    -19.400      0.000    -111.440     -90.988\n",
      "x          -1309.0924     47.683    -27.454      0.000   -1402.555   -1215.630\n",
      "==============================================================================\n",
      "Omnibus:                     4376.927   Durbin-Watson:                   2.002\n",
      "Prob(Omnibus):                  0.000   Jarque-Bera (JB):           159280.400\n",
      "Skew:                           0.384   Prob(JB):                         0.00\n",
      "Kurtosis:                      17.221   Cond. No.                     5.68e+03\n",
      "==============================================================================\n",
      "\n",
      "Notes:\n",
      "[1] Standard Errors assume that the covariance matrix of the errors is correctly specified.\n",
      "[2] The condition number is large, 5.68e+03. This might indicate that there are\n",
      "strong multicollinearity or other numerical problems.\n"
     ]
    }
   ],
   "source": [
    "olsmod_6 = sm.OLS(y_train, X_train)\n",
    "olsres_6 = olsmod_6.fit()\n",
    "print(olsres_6.summary())"
   ]
  },
  {
   "cell_type": "markdown",
   "id": "70e3c026",
   "metadata": {},
   "source": [
    "#### Let's check if multicollinearity is still present in the data."
   ]
  },
  {
   "cell_type": "code",
   "execution_count": 1615,
   "id": "7c5fc716",
   "metadata": {},
   "outputs": [
    {
     "name": "stdout",
     "output_type": "stream",
     "text": [
      "VIF values: \n",
      "\n",
      "const      4492.811840\n",
      "carat        24.664744\n",
      "cut           1.031545\n",
      "color         1.006222\n",
      "clarity       1.045434\n",
      "depth         1.174806\n",
      "table         1.177644\n",
      "x            24.790501\n",
      "dtype: float64\n",
      "\n"
     ]
    }
   ],
   "source": [
    "vif_series3 = pd.Series(\n",
    "    [variance_inflation_factor(X_train.values, i) for i in range(X_train.shape[1])],\n",
    "    index=X_train.columns,\n",
    ")\n",
    "print(\"VIF values: \\n\\n{}\\n\".format(vif_series3))"
   ]
  },
  {
   "cell_type": "markdown",
   "id": "dff15c43",
   "metadata": {},
   "source": [
    "Multicollinearity is still present in our data so we should drop the 'x' column as well."
   ]
  },
  {
   "cell_type": "code",
   "execution_count": 1616,
   "id": "ac2b13c5",
   "metadata": {},
   "outputs": [],
   "source": [
    "X_train = X_train.drop([\"x\"], axis=1)"
   ]
  },
  {
   "cell_type": "code",
   "execution_count": 1617,
   "id": "e4206fd3",
   "metadata": {},
   "outputs": [
    {
     "name": "stdout",
     "output_type": "stream",
     "text": [
      "                            OLS Regression Results                            \n",
      "==============================================================================\n",
      "Dep. Variable:                  price   R-squared:                       0.859\n",
      "Model:                            OLS   Adj. R-squared:                  0.859\n",
      "Method:                 Least Squares   F-statistic:                 1.917e+04\n",
      "Date:                Sun, 30 Oct 2022   Prob (F-statistic):               0.00\n",
      "Time:                        22:18:25   Log-Likelihood:            -1.6462e+05\n",
      "No. Observations:               18847   AIC:                         3.293e+05\n",
      "Df Residuals:                   18840   BIC:                         3.293e+05\n",
      "Df Model:                           6                                         \n",
      "Covariance Type:            nonrobust                                         \n",
      "==============================================================================\n",
      "                 coef    std err          t      P>|t|      [0.025      0.975]\n",
      "------------------------------------------------------------------------------\n",
      "const       1.211e+04    666.771     18.169      0.000    1.08e+04    1.34e+04\n",
      "carat       7989.5606     23.879    334.585      0.000    7942.756    8036.366\n",
      "cut           69.8805     21.761      3.211      0.001      27.228     112.533\n",
      "color         84.5029     12.302      6.869      0.000      60.391     108.615\n",
      "clarity      323.7820     12.427     26.055      0.000     299.424     348.140\n",
      "depth       -145.3873      8.264    -17.593      0.000    -161.585    -129.189\n",
      "table       -104.0721      5.319    -19.565      0.000    -114.498     -93.646\n",
      "==============================================================================\n",
      "Omnibus:                     4305.974   Durbin-Watson:                   2.001\n",
      "Prob(Omnibus):                  0.000   Jarque-Bera (JB):            62836.287\n",
      "Skew:                           0.696   Prob(JB):                         0.00\n",
      "Kurtosis:                      11.836   Cond. No.                     5.14e+03\n",
      "==============================================================================\n",
      "\n",
      "Notes:\n",
      "[1] Standard Errors assume that the covariance matrix of the errors is correctly specified.\n",
      "[2] The condition number is large, 5.14e+03. This might indicate that there are\n",
      "strong multicollinearity or other numerical problems.\n"
     ]
    }
   ],
   "source": [
    "olsmod_7 = sm.OLS(y_train, X_train)\n",
    "olsres_7 = olsmod_7.fit()\n",
    "print(olsres_7.summary())"
   ]
  },
  {
   "cell_type": "markdown",
   "id": "51777019",
   "metadata": {},
   "source": [
    "#### Let's check if multicollinearity is still present in the data."
   ]
  },
  {
   "cell_type": "code",
   "execution_count": 1618,
   "id": "ba3abd0c",
   "metadata": {
    "scrolled": true
   },
   "outputs": [
    {
     "name": "stdout",
     "output_type": "stream",
     "text": [
      "Series before feature selection: \n",
      "\n",
      "const      3704.195228\n",
      "carat         1.071709\n",
      "cut           1.031114\n",
      "color         1.005016\n",
      "clarity       1.034301\n",
      "depth         1.109705\n",
      "table         1.177175\n",
      "dtype: float64\n",
      "\n"
     ]
    }
   ],
   "source": [
    "vif_series4 = pd.Series(\n",
    "    [variance_inflation_factor(X_train.values, i) for i in range(X_train.shape[1])],\n",
    "    index=X_train.columns,\n",
    ")\n",
    "print(\"Series before feature selection: \\n\\n{}\\n\".format(vif_series4))"
   ]
  },
  {
   "cell_type": "markdown",
   "id": "ea223901",
   "metadata": {},
   "source": [
    "Now VIF for all the features is <2"
   ]
  },
  {
   "cell_type": "markdown",
   "id": "0229afd5",
   "metadata": {},
   "source": [
    "#### After dropping the features causing strong multicollinearity and the statistically insignificant ones, our model performance hasn't dropped sharply (adj. R-squared has dropped from 0.865 to 0.859). This shows that these variables did not have much predictive power."
   ]
  },
  {
   "cell_type": "code",
   "execution_count": 1619,
   "id": "a0c34ce9",
   "metadata": {},
   "outputs": [
    {
     "data": {
      "text/html": [
       "<div>\n",
       "<style scoped>\n",
       "    .dataframe tbody tr th:only-of-type {\n",
       "        vertical-align: middle;\n",
       "    }\n",
       "\n",
       "    .dataframe tbody tr th {\n",
       "        vertical-align: top;\n",
       "    }\n",
       "\n",
       "    .dataframe thead th {\n",
       "        text-align: right;\n",
       "    }\n",
       "</style>\n",
       "<table border=\"1\" class=\"dataframe\">\n",
       "  <thead>\n",
       "    <tr style=\"text-align: right;\">\n",
       "      <th></th>\n",
       "      <th>Actual Values</th>\n",
       "      <th>Fitted Values</th>\n",
       "      <th>Residuals</th>\n",
       "    </tr>\n",
       "  </thead>\n",
       "  <tbody>\n",
       "    <tr>\n",
       "      <th>0</th>\n",
       "      <td>4065</td>\n",
       "      <td>6096.132474</td>\n",
       "      <td>-2031.132474</td>\n",
       "    </tr>\n",
       "    <tr>\n",
       "      <th>1</th>\n",
       "      <td>5166</td>\n",
       "      <td>5275.300880</td>\n",
       "      <td>-109.300880</td>\n",
       "    </tr>\n",
       "    <tr>\n",
       "      <th>2</th>\n",
       "      <td>1708</td>\n",
       "      <td>2392.136281</td>\n",
       "      <td>-684.136281</td>\n",
       "    </tr>\n",
       "    <tr>\n",
       "      <th>3</th>\n",
       "      <td>2447</td>\n",
       "      <td>3549.849178</td>\n",
       "      <td>-1102.849178</td>\n",
       "    </tr>\n",
       "    <tr>\n",
       "      <th>4</th>\n",
       "      <td>6618</td>\n",
       "      <td>5799.735698</td>\n",
       "      <td>818.264302</td>\n",
       "    </tr>\n",
       "  </tbody>\n",
       "</table>\n",
       "</div>"
      ],
      "text/plain": [
       "   Actual Values  Fitted Values    Residuals\n",
       "0           4065    6096.132474 -2031.132474\n",
       "1           5166    5275.300880  -109.300880\n",
       "2           1708    2392.136281  -684.136281\n",
       "3           2447    3549.849178 -1102.849178\n",
       "4           6618    5799.735698   818.264302"
      ]
     },
     "execution_count": 1619,
     "metadata": {},
     "output_type": "execute_result"
    }
   ],
   "source": [
    "df_pred = pd.DataFrame()\n",
    "\n",
    "df_pred[\"Actual Values\"] = y_train.values.flatten()  # actual values\n",
    "df_pred[\"Fitted Values\"] = olsres_7.fittedvalues.values  # predicted values\n",
    "df_pred[\"Residuals\"] = olsres_7.resid.values  # residuals\n",
    "\n",
    "df_pred.head()"
   ]
  },
  {
   "cell_type": "code",
   "execution_count": 1620,
   "id": "11db2f0c",
   "metadata": {},
   "outputs": [
    {
     "data": {
      "text/plain": [
       "Index(['const', 'carat', 'cut', 'color', 'clarity', 'depth', 'table'], dtype='object')"
      ]
     },
     "execution_count": 1620,
     "metadata": {},
     "output_type": "execute_result"
    }
   ],
   "source": [
    "X_train.columns"
   ]
  },
  {
   "cell_type": "code",
   "execution_count": 1621,
   "id": "c1c94b01",
   "metadata": {},
   "outputs": [
    {
     "data": {
      "text/plain": [
       "Index(['const', 'carat', 'cut', 'color', 'clarity', 'depth', 'table', 'x', 'y',\n",
       "       'z'],\n",
       "      dtype='object')"
      ]
     },
     "execution_count": 1621,
     "metadata": {},
     "output_type": "execute_result"
    }
   ],
   "source": [
    "X_test.columns"
   ]
  },
  {
   "cell_type": "code",
   "execution_count": 1622,
   "id": "2e130a67",
   "metadata": {},
   "outputs": [],
   "source": [
    "# dropping columns from the test data that are not there in the training data\n",
    "X_test2 = X_test.drop(\n",
    "    ['x', 'y',\n",
    "       'z'], axis=1\n",
    ")"
   ]
  },
  {
   "cell_type": "code",
   "execution_count": 1623,
   "id": "52a6bffa",
   "metadata": {},
   "outputs": [],
   "source": [
    "# let's make predictions on the test set\n",
    "y_pred = olsres_7.predict(X_test2)"
   ]
  },
  {
   "cell_type": "code",
   "execution_count": 1624,
   "id": "02576791",
   "metadata": {},
   "outputs": [
    {
     "data": {
      "text/plain": [
       "1503.7314672115162"
      ]
     },
     "execution_count": 1624,
     "metadata": {},
     "output_type": "execute_result"
    }
   ],
   "source": [
    "# let's check the RMSE on the train data\n",
    "rmse1 = np.sqrt(mean_squared_error(y_train, df_pred[\"Fitted Values\"]))\n",
    "rmse1"
   ]
  },
  {
   "cell_type": "code",
   "execution_count": 1625,
   "id": "71daf22c",
   "metadata": {},
   "outputs": [
    {
     "data": {
      "text/plain": [
       "1502.3943677899188"
      ]
     },
     "execution_count": 1625,
     "metadata": {},
     "output_type": "execute_result"
    }
   ],
   "source": [
    "# let's check the RMSE on the test data\n",
    "rmse2 = np.sqrt(mean_squared_error(y_test, y_pred))\n",
    "rmse2"
   ]
  },
  {
   "cell_type": "code",
   "execution_count": 1626,
   "id": "9e438da7",
   "metadata": {},
   "outputs": [
    {
     "data": {
      "text/plain": [
       "969.7017949771334"
      ]
     },
     "execution_count": 1626,
     "metadata": {},
     "output_type": "execute_result"
    }
   ],
   "source": [
    "# let's check the MAE on the train data\n",
    "mae1 = mean_absolute_error(y_train, df_pred[\"Fitted Values\"])\n",
    "mae1"
   ]
  },
  {
   "cell_type": "code",
   "execution_count": 1627,
   "id": "9a07c47f",
   "metadata": {},
   "outputs": [
    {
     "data": {
      "text/plain": [
       "968.1593605559741"
      ]
     },
     "execution_count": 1627,
     "metadata": {},
     "output_type": "execute_result"
    }
   ],
   "source": [
    "# let's check the MAE on the test data\n",
    "mae2 = mean_absolute_error(y_test, y_pred)\n",
    "mae2"
   ]
  },
  {
   "cell_type": "markdown",
   "id": "39fe0b4b",
   "metadata": {},
   "source": [
    "We can see that RMSE on the train and test sets are comparable. So, our model is not suffering from overfitting."
   ]
  },
  {
   "cell_type": "markdown",
   "id": "e6f4b536",
   "metadata": {},
   "source": [
    "RMSE for training set:1503.7314672115162\n",
    "\n",
    "RMSE for testing set:1502.3943677899188\n",
    "\n",
    "R-squared : 0.859\n",
    "\n",
    "Adj. R-squared: 0.859"
   ]
  },
  {
   "cell_type": "code",
   "execution_count": 1628,
   "id": "7ceb468b",
   "metadata": {},
   "outputs": [
    {
     "name": "stdout",
     "output_type": "stream",
     "text": [
      "price = 12114.40748719299 + 7989.560637532106 * ( carat ) +  69.88053100665627 * ( cut ) +  84.50288930241051 * ( color ) +  323.7819678919295 * ( clarity ) +  -145.38733694822466 * ( depth ) +  -104.07209352527796 * ( table )\n"
     ]
    }
   ],
   "source": [
    "# Let us write the equation of linear regression\n",
    "Equation = \"price =\"\n",
    "print(Equation, end=\" \")\n",
    "for i in range(len(X_train.columns)):\n",
    "    if i == 0:\n",
    "        print(olsres_7.params[i], \"+\", end=\" \")\n",
    "    elif i != len(X_train.columns) - 1:\n",
    "        print(\n",
    "            olsres_7.params[i],\n",
    "            \"* (\",\n",
    "            X_train.columns[i],\n",
    "            \")\",\n",
    "            \"+\",\n",
    "            end=\"  \",\n",
    "        )\n",
    "    else:\n",
    "        print(olsres_7.params[i], \"* (\", X_train.columns[i], \")\")"
   ]
  },
  {
   "cell_type": "markdown",
   "id": "8469016c",
   "metadata": {},
   "source": [
    "We remove the multicolinarity from the data and we obtained suitable features for our model ."
   ]
  },
  {
   "cell_type": "markdown",
   "id": "2dd0493e",
   "metadata": {},
   "source": [
    "### The final Linear Regression equation is"
   ]
  },
  {
   "cell_type": "markdown",
   "id": "3de700a3",
   "metadata": {},
   "source": [
    "Price = (12114.40748719299) * Intercept + (7989.560637532106) *  carat  +  (69.88053100665627) *  cut  +  (84.50288930241051) *  color  +  (323.7819678919295) *  clarity  +  (-145.38733694822466) *  depth  +  (-104.07209352527796) *  table "
   ]
  },
  {
   "cell_type": "markdown",
   "id": "c012ed57",
   "metadata": {},
   "source": [
    "# 1.4 Inference: Basis on these predictions, what are the business insights and recommendations."
   ]
  },
  {
   "cell_type": "markdown",
   "id": "c1ee7bed",
   "metadata": {},
   "source": [
    "Insights:"
   ]
  },
  {
   "cell_type": "markdown",
   "id": "2e06c9be",
   "metadata": {},
   "source": [
    "We tried multiple models with different variable and at the end we got 6 independent variable which are important for our prediction."
   ]
  },
  {
   "cell_type": "markdown",
   "id": "ae24cdff",
   "metadata": {},
   "source": [
    "1. When carat increases by 1 unit, diamond price increases by 7989.56 units, keeping all other predictors constant.\n",
    "\n",
    "2. When cut increases by 1 unit, diamond price increases by 69.88 units, keeping all other predictors constant.\n",
    "\n",
    "3. When color increases by 1 unit, diamond price increases by 84.50 units, keeping all other predictors constant.\n",
    "\n",
    "4. When clarity increases by 1 unit, diamond price increases by 436.44 units, keeping all other predictors constant.\n"
   ]
  },
  {
   "cell_type": "markdown",
   "id": "39ffadc5",
   "metadata": {},
   "source": [
    "As per model these 4 variables are most important variable 'Carat', 'Cut', 'color','clarity' for predicting the diamond price."
   ]
  },
  {
   "cell_type": "markdown",
   "id": "0994277b",
   "metadata": {},
   "source": [
    "We also have negative co-efficient values -145.38 for 'depth' & -104.07 for 'table' shows that these variables are inversely proportion to diamond price."
   ]
  },
  {
   "cell_type": "markdown",
   "id": "980201b0",
   "metadata": {},
   "source": [
    "We prepare our model with in different steps which we listed below:"
   ]
  },
  {
   "cell_type": "markdown",
   "id": "40e15aab",
   "metadata": {},
   "source": [
    "1. First we split the data in 30:70 where 70 % is for train and 30% is for test.\n",
    "\n",
    "2. Then we build Linear regression model by using Sklearn library and calculate Rmse, R squared values.\n",
    "\n",
    "3. we observed that Rsquare, RMSE was almost close for train and test data.\n",
    "\n",
    "4. we then build regerssion model from statsmodels and check multicollinearity in the data and found multicollinearity in the data by using VIF.\n",
    "\n",
    "5. we reduce the multicollinearity from the data by removing variables and kept an eye on Adj Rsquare. \n",
    "\n",
    "6. Finally we got important attributes to predict the dimond price."
   ]
  },
  {
   "cell_type": "markdown",
   "id": "a5787631",
   "metadata": {},
   "source": [
    "We can see R-squared: and Adj. R-squared: 0.859 are same. The overall P value is less than alpha."
   ]
  },
  {
   "cell_type": "markdown",
   "id": "9d7ddb5c",
   "metadata": {},
   "source": [
    "#### Recommendation :"
   ]
  },
  {
   "cell_type": "markdown",
   "id": "550c831a",
   "metadata": {},
   "source": [
    "1. The Gem Stones company should focus more on the features 'Carat', 'Cut', 'color','clarity' as these are most important for      predicting the price.\n",
    "\n",
    "\n",
    "2. The zirconia diamonds with 'Premium' Cut are the most Expensive so need to check on sale of this diamond if it's good then it    great as it's expensive one.\n",
    "\n",
    "\n",
    "3. 'Depth' has negative imapct on diamond price so this needs to be low as much as possible .\n",
    "\n",
    "\n",
    "4. 'table' which shows Width of diamond needs to be minimum as it will reduce the price of diamond.\n",
    "\n",
    "\n",
    "5.  'carat' is the most importand feature out of all features as it is highly related to price and higher the carat weight of a diamond will have higher price.\n",
    "\n",
    "\n",
    "6.  The Diamond's with clarity 'VS1' &'VS2' are the most Expensive So these two category are very important also most expensive diamond is from clarity SI1 and this is the 3 most expensive diamond clarity after 'VS1' &'VS2'."
   ]
  },
  {
   "cell_type": "markdown",
   "id": "a1114f0d",
   "metadata": {},
   "source": [
    "# Analysis on Problem 2: Logistic Regression and LDA"
   ]
  },
  {
   "cell_type": "markdown",
   "id": "20e7cec6",
   "metadata": {},
   "source": [
    "# 2.1 Data Ingestion: Read the dataset. Do the descriptive statistics and do null value condition check, write an inference on it. Perform Univariate and Bivariate Analysis. Do exploratory data analysis."
   ]
  },
  {
   "cell_type": "code",
   "execution_count": 1629,
   "id": "3c2f2aa0",
   "metadata": {},
   "outputs": [],
   "source": [
    "data1 = pd.read_csv('Downloads/Holiday_Package.csv')"
   ]
  },
  {
   "cell_type": "code",
   "execution_count": 1630,
   "id": "f74f9eb5",
   "metadata": {},
   "outputs": [
    {
     "data": {
      "text/html": [
       "<div>\n",
       "<style scoped>\n",
       "    .dataframe tbody tr th:only-of-type {\n",
       "        vertical-align: middle;\n",
       "    }\n",
       "\n",
       "    .dataframe tbody tr th {\n",
       "        vertical-align: top;\n",
       "    }\n",
       "\n",
       "    .dataframe thead th {\n",
       "        text-align: right;\n",
       "    }\n",
       "</style>\n",
       "<table border=\"1\" class=\"dataframe\">\n",
       "  <thead>\n",
       "    <tr style=\"text-align: right;\">\n",
       "      <th></th>\n",
       "      <th>Unnamed: 0</th>\n",
       "      <th>Holliday_Package</th>\n",
       "      <th>Salary</th>\n",
       "      <th>age</th>\n",
       "      <th>educ</th>\n",
       "      <th>no_young_children</th>\n",
       "      <th>no_older_children</th>\n",
       "      <th>foreign</th>\n",
       "    </tr>\n",
       "  </thead>\n",
       "  <tbody>\n",
       "    <tr>\n",
       "      <th>0</th>\n",
       "      <td>1</td>\n",
       "      <td>no</td>\n",
       "      <td>48412</td>\n",
       "      <td>30</td>\n",
       "      <td>8</td>\n",
       "      <td>1</td>\n",
       "      <td>1</td>\n",
       "      <td>no</td>\n",
       "    </tr>\n",
       "    <tr>\n",
       "      <th>1</th>\n",
       "      <td>2</td>\n",
       "      <td>yes</td>\n",
       "      <td>37207</td>\n",
       "      <td>45</td>\n",
       "      <td>8</td>\n",
       "      <td>0</td>\n",
       "      <td>1</td>\n",
       "      <td>no</td>\n",
       "    </tr>\n",
       "    <tr>\n",
       "      <th>2</th>\n",
       "      <td>3</td>\n",
       "      <td>no</td>\n",
       "      <td>58022</td>\n",
       "      <td>46</td>\n",
       "      <td>9</td>\n",
       "      <td>0</td>\n",
       "      <td>0</td>\n",
       "      <td>no</td>\n",
       "    </tr>\n",
       "    <tr>\n",
       "      <th>3</th>\n",
       "      <td>4</td>\n",
       "      <td>no</td>\n",
       "      <td>66503</td>\n",
       "      <td>31</td>\n",
       "      <td>11</td>\n",
       "      <td>2</td>\n",
       "      <td>0</td>\n",
       "      <td>no</td>\n",
       "    </tr>\n",
       "    <tr>\n",
       "      <th>4</th>\n",
       "      <td>5</td>\n",
       "      <td>no</td>\n",
       "      <td>66734</td>\n",
       "      <td>44</td>\n",
       "      <td>12</td>\n",
       "      <td>0</td>\n",
       "      <td>2</td>\n",
       "      <td>no</td>\n",
       "    </tr>\n",
       "  </tbody>\n",
       "</table>\n",
       "</div>"
      ],
      "text/plain": [
       "   Unnamed: 0 Holliday_Package  Salary  age  educ  no_young_children  \\\n",
       "0           1               no   48412   30     8                  1   \n",
       "1           2              yes   37207   45     8                  0   \n",
       "2           3               no   58022   46     9                  0   \n",
       "3           4               no   66503   31    11                  2   \n",
       "4           5               no   66734   44    12                  0   \n",
       "\n",
       "   no_older_children foreign  \n",
       "0                  1      no  \n",
       "1                  1      no  \n",
       "2                  0      no  \n",
       "3                  0      no  \n",
       "4                  2      no  "
      ]
     },
     "execution_count": 1630,
     "metadata": {},
     "output_type": "execute_result"
    }
   ],
   "source": [
    "# top 5 values\n",
    "data1.head()"
   ]
  },
  {
   "cell_type": "code",
   "execution_count": 1631,
   "id": "a2e2bb1a",
   "metadata": {},
   "outputs": [
    {
     "data": {
      "text/html": [
       "<div>\n",
       "<style scoped>\n",
       "    .dataframe tbody tr th:only-of-type {\n",
       "        vertical-align: middle;\n",
       "    }\n",
       "\n",
       "    .dataframe tbody tr th {\n",
       "        vertical-align: top;\n",
       "    }\n",
       "\n",
       "    .dataframe thead th {\n",
       "        text-align: right;\n",
       "    }\n",
       "</style>\n",
       "<table border=\"1\" class=\"dataframe\">\n",
       "  <thead>\n",
       "    <tr style=\"text-align: right;\">\n",
       "      <th></th>\n",
       "      <th>Unnamed: 0</th>\n",
       "      <th>Holliday_Package</th>\n",
       "      <th>Salary</th>\n",
       "      <th>age</th>\n",
       "      <th>educ</th>\n",
       "      <th>no_young_children</th>\n",
       "      <th>no_older_children</th>\n",
       "      <th>foreign</th>\n",
       "    </tr>\n",
       "  </thead>\n",
       "  <tbody>\n",
       "    <tr>\n",
       "      <th>867</th>\n",
       "      <td>868</td>\n",
       "      <td>no</td>\n",
       "      <td>40030</td>\n",
       "      <td>24</td>\n",
       "      <td>4</td>\n",
       "      <td>2</td>\n",
       "      <td>1</td>\n",
       "      <td>yes</td>\n",
       "    </tr>\n",
       "    <tr>\n",
       "      <th>868</th>\n",
       "      <td>869</td>\n",
       "      <td>yes</td>\n",
       "      <td>32137</td>\n",
       "      <td>48</td>\n",
       "      <td>8</td>\n",
       "      <td>0</td>\n",
       "      <td>0</td>\n",
       "      <td>yes</td>\n",
       "    </tr>\n",
       "    <tr>\n",
       "      <th>869</th>\n",
       "      <td>870</td>\n",
       "      <td>no</td>\n",
       "      <td>25178</td>\n",
       "      <td>24</td>\n",
       "      <td>6</td>\n",
       "      <td>2</td>\n",
       "      <td>0</td>\n",
       "      <td>yes</td>\n",
       "    </tr>\n",
       "    <tr>\n",
       "      <th>870</th>\n",
       "      <td>871</td>\n",
       "      <td>yes</td>\n",
       "      <td>55958</td>\n",
       "      <td>41</td>\n",
       "      <td>10</td>\n",
       "      <td>0</td>\n",
       "      <td>1</td>\n",
       "      <td>yes</td>\n",
       "    </tr>\n",
       "    <tr>\n",
       "      <th>871</th>\n",
       "      <td>872</td>\n",
       "      <td>no</td>\n",
       "      <td>74659</td>\n",
       "      <td>51</td>\n",
       "      <td>10</td>\n",
       "      <td>0</td>\n",
       "      <td>0</td>\n",
       "      <td>yes</td>\n",
       "    </tr>\n",
       "  </tbody>\n",
       "</table>\n",
       "</div>"
      ],
      "text/plain": [
       "     Unnamed: 0 Holliday_Package  Salary  age  educ  no_young_children  \\\n",
       "867         868               no   40030   24     4                  2   \n",
       "868         869              yes   32137   48     8                  0   \n",
       "869         870               no   25178   24     6                  2   \n",
       "870         871              yes   55958   41    10                  0   \n",
       "871         872               no   74659   51    10                  0   \n",
       "\n",
       "     no_older_children foreign  \n",
       "867                  1     yes  \n",
       "868                  0     yes  \n",
       "869                  0     yes  \n",
       "870                  1     yes  \n",
       "871                  0     yes  "
      ]
     },
     "execution_count": 1631,
     "metadata": {},
     "output_type": "execute_result"
    }
   ],
   "source": [
    "# last  5 values\n",
    "data1.tail()"
   ]
  },
  {
   "cell_type": "code",
   "execution_count": 1632,
   "id": "99ab78ee",
   "metadata": {},
   "outputs": [
    {
     "data": {
      "text/plain": [
       "(872, 8)"
      ]
     },
     "execution_count": 1632,
     "metadata": {},
     "output_type": "execute_result"
    }
   ],
   "source": [
    "data1.shape"
   ]
  },
  {
   "cell_type": "markdown",
   "id": "26b08036",
   "metadata": {},
   "source": [
    "Coulumn Unnamed: 0 contains serial number so we can remove it."
   ]
  },
  {
   "cell_type": "code",
   "execution_count": 1633,
   "id": "7829c527",
   "metadata": {},
   "outputs": [],
   "source": [
    "data1.drop('Unnamed: 0', axis=1 , inplace =True)"
   ]
  },
  {
   "cell_type": "code",
   "execution_count": 1634,
   "id": "b89a817f",
   "metadata": {},
   "outputs": [
    {
     "data": {
      "text/html": [
       "<div>\n",
       "<style scoped>\n",
       "    .dataframe tbody tr th:only-of-type {\n",
       "        vertical-align: middle;\n",
       "    }\n",
       "\n",
       "    .dataframe tbody tr th {\n",
       "        vertical-align: top;\n",
       "    }\n",
       "\n",
       "    .dataframe thead th {\n",
       "        text-align: right;\n",
       "    }\n",
       "</style>\n",
       "<table border=\"1\" class=\"dataframe\">\n",
       "  <thead>\n",
       "    <tr style=\"text-align: right;\">\n",
       "      <th></th>\n",
       "      <th>Holliday_Package</th>\n",
       "      <th>Salary</th>\n",
       "      <th>age</th>\n",
       "      <th>educ</th>\n",
       "      <th>no_young_children</th>\n",
       "      <th>no_older_children</th>\n",
       "      <th>foreign</th>\n",
       "    </tr>\n",
       "  </thead>\n",
       "  <tbody>\n",
       "    <tr>\n",
       "      <th>0</th>\n",
       "      <td>no</td>\n",
       "      <td>48412</td>\n",
       "      <td>30</td>\n",
       "      <td>8</td>\n",
       "      <td>1</td>\n",
       "      <td>1</td>\n",
       "      <td>no</td>\n",
       "    </tr>\n",
       "    <tr>\n",
       "      <th>1</th>\n",
       "      <td>yes</td>\n",
       "      <td>37207</td>\n",
       "      <td>45</td>\n",
       "      <td>8</td>\n",
       "      <td>0</td>\n",
       "      <td>1</td>\n",
       "      <td>no</td>\n",
       "    </tr>\n",
       "    <tr>\n",
       "      <th>2</th>\n",
       "      <td>no</td>\n",
       "      <td>58022</td>\n",
       "      <td>46</td>\n",
       "      <td>9</td>\n",
       "      <td>0</td>\n",
       "      <td>0</td>\n",
       "      <td>no</td>\n",
       "    </tr>\n",
       "    <tr>\n",
       "      <th>3</th>\n",
       "      <td>no</td>\n",
       "      <td>66503</td>\n",
       "      <td>31</td>\n",
       "      <td>11</td>\n",
       "      <td>2</td>\n",
       "      <td>0</td>\n",
       "      <td>no</td>\n",
       "    </tr>\n",
       "    <tr>\n",
       "      <th>4</th>\n",
       "      <td>no</td>\n",
       "      <td>66734</td>\n",
       "      <td>44</td>\n",
       "      <td>12</td>\n",
       "      <td>0</td>\n",
       "      <td>2</td>\n",
       "      <td>no</td>\n",
       "    </tr>\n",
       "  </tbody>\n",
       "</table>\n",
       "</div>"
      ],
      "text/plain": [
       "  Holliday_Package  Salary  age  educ  no_young_children  no_older_children  \\\n",
       "0               no   48412   30     8                  1                  1   \n",
       "1              yes   37207   45     8                  0                  1   \n",
       "2               no   58022   46     9                  0                  0   \n",
       "3               no   66503   31    11                  2                  0   \n",
       "4               no   66734   44    12                  0                  2   \n",
       "\n",
       "  foreign  \n",
       "0      no  \n",
       "1      no  \n",
       "2      no  \n",
       "3      no  \n",
       "4      no  "
      ]
     },
     "execution_count": 1634,
     "metadata": {},
     "output_type": "execute_result"
    }
   ],
   "source": [
    "data1.head()"
   ]
  },
  {
   "cell_type": "code",
   "execution_count": 1635,
   "id": "5ab663fd",
   "metadata": {},
   "outputs": [
    {
     "data": {
      "text/plain": [
       "(872, 7)"
      ]
     },
     "execution_count": 1635,
     "metadata": {},
     "output_type": "execute_result"
    }
   ],
   "source": [
    "data1.shape"
   ]
  },
  {
   "cell_type": "code",
   "execution_count": 1636,
   "id": "bb1e3ace",
   "metadata": {},
   "outputs": [
    {
     "name": "stdout",
     "output_type": "stream",
     "text": [
      "<class 'pandas.core.frame.DataFrame'>\n",
      "RangeIndex: 872 entries, 0 to 871\n",
      "Data columns (total 7 columns):\n",
      " #   Column             Non-Null Count  Dtype \n",
      "---  ------             --------------  ----- \n",
      " 0   Holliday_Package   872 non-null    object\n",
      " 1   Salary             872 non-null    int64 \n",
      " 2   age                872 non-null    int64 \n",
      " 3   educ               872 non-null    int64 \n",
      " 4   no_young_children  872 non-null    int64 \n",
      " 5   no_older_children  872 non-null    int64 \n",
      " 6   foreign            872 non-null    object\n",
      "dtypes: int64(5), object(2)\n",
      "memory usage: 47.8+ KB\n"
     ]
    }
   ],
   "source": [
    "data1.info()"
   ]
  },
  {
   "cell_type": "markdown",
   "id": "720b69d0",
   "metadata": {},
   "source": [
    "We have 2 object datatypes and rest is intiger datatypes."
   ]
  },
  {
   "cell_type": "markdown",
   "id": "1fa243d3",
   "metadata": {},
   "source": [
    "data type looks good."
   ]
  },
  {
   "cell_type": "code",
   "execution_count": 1637,
   "id": "d2713813",
   "metadata": {},
   "outputs": [
    {
     "data": {
      "text/html": [
       "<div>\n",
       "<style scoped>\n",
       "    .dataframe tbody tr th:only-of-type {\n",
       "        vertical-align: middle;\n",
       "    }\n",
       "\n",
       "    .dataframe tbody tr th {\n",
       "        vertical-align: top;\n",
       "    }\n",
       "\n",
       "    .dataframe thead th {\n",
       "        text-align: right;\n",
       "    }\n",
       "</style>\n",
       "<table border=\"1\" class=\"dataframe\">\n",
       "  <thead>\n",
       "    <tr style=\"text-align: right;\">\n",
       "      <th></th>\n",
       "      <th>count</th>\n",
       "      <th>mean</th>\n",
       "      <th>std</th>\n",
       "      <th>min</th>\n",
       "      <th>25%</th>\n",
       "      <th>50%</th>\n",
       "      <th>75%</th>\n",
       "      <th>max</th>\n",
       "    </tr>\n",
       "  </thead>\n",
       "  <tbody>\n",
       "    <tr>\n",
       "      <th>Salary</th>\n",
       "      <td>872.0</td>\n",
       "      <td>47729.172018</td>\n",
       "      <td>23418.668531</td>\n",
       "      <td>1322.0</td>\n",
       "      <td>35324.0</td>\n",
       "      <td>41903.5</td>\n",
       "      <td>53469.5</td>\n",
       "      <td>236961.0</td>\n",
       "    </tr>\n",
       "    <tr>\n",
       "      <th>age</th>\n",
       "      <td>872.0</td>\n",
       "      <td>39.955275</td>\n",
       "      <td>10.551675</td>\n",
       "      <td>20.0</td>\n",
       "      <td>32.0</td>\n",
       "      <td>39.0</td>\n",
       "      <td>48.0</td>\n",
       "      <td>62.0</td>\n",
       "    </tr>\n",
       "    <tr>\n",
       "      <th>educ</th>\n",
       "      <td>872.0</td>\n",
       "      <td>9.307339</td>\n",
       "      <td>3.036259</td>\n",
       "      <td>1.0</td>\n",
       "      <td>8.0</td>\n",
       "      <td>9.0</td>\n",
       "      <td>12.0</td>\n",
       "      <td>21.0</td>\n",
       "    </tr>\n",
       "    <tr>\n",
       "      <th>no_young_children</th>\n",
       "      <td>872.0</td>\n",
       "      <td>0.311927</td>\n",
       "      <td>0.612870</td>\n",
       "      <td>0.0</td>\n",
       "      <td>0.0</td>\n",
       "      <td>0.0</td>\n",
       "      <td>0.0</td>\n",
       "      <td>3.0</td>\n",
       "    </tr>\n",
       "    <tr>\n",
       "      <th>no_older_children</th>\n",
       "      <td>872.0</td>\n",
       "      <td>0.982798</td>\n",
       "      <td>1.086786</td>\n",
       "      <td>0.0</td>\n",
       "      <td>0.0</td>\n",
       "      <td>1.0</td>\n",
       "      <td>2.0</td>\n",
       "      <td>6.0</td>\n",
       "    </tr>\n",
       "  </tbody>\n",
       "</table>\n",
       "</div>"
      ],
      "text/plain": [
       "                   count          mean           std     min      25%  \\\n",
       "Salary             872.0  47729.172018  23418.668531  1322.0  35324.0   \n",
       "age                872.0     39.955275     10.551675    20.0     32.0   \n",
       "educ               872.0      9.307339      3.036259     1.0      8.0   \n",
       "no_young_children  872.0      0.311927      0.612870     0.0      0.0   \n",
       "no_older_children  872.0      0.982798      1.086786     0.0      0.0   \n",
       "\n",
       "                       50%      75%       max  \n",
       "Salary             41903.5  53469.5  236961.0  \n",
       "age                   39.0     48.0      62.0  \n",
       "educ                   9.0     12.0      21.0  \n",
       "no_young_children      0.0      0.0       3.0  \n",
       "no_older_children      1.0      2.0       6.0  "
      ]
     },
     "execution_count": 1637,
     "metadata": {},
     "output_type": "execute_result"
    }
   ],
   "source": [
    "data1.describe().T"
   ]
  },
  {
   "cell_type": "markdown",
   "id": "aa13cf9f",
   "metadata": {},
   "source": [
    "Salary spread to the wide range."
   ]
  },
  {
   "cell_type": "markdown",
   "id": "85c2f751",
   "metadata": {},
   "source": [
    "maximum age is 62 and minimum is 20"
   ]
  },
  {
   "cell_type": "code",
   "execution_count": 1638,
   "id": "3b36bc3b",
   "metadata": {},
   "outputs": [
    {
     "data": {
      "text/plain": [
       "0"
      ]
     },
     "execution_count": 1638,
     "metadata": {},
     "output_type": "execute_result"
    }
   ],
   "source": [
    "# checking duplicate entries\n",
    "data1.duplicated().sum()"
   ]
  },
  {
   "cell_type": "markdown",
   "id": "e24448c3",
   "metadata": {},
   "source": [
    "No duplicate value found"
   ]
  },
  {
   "cell_type": "code",
   "execution_count": 1639,
   "id": "9410a600",
   "metadata": {},
   "outputs": [
    {
     "data": {
      "text/plain": [
       "Holliday_Package     0\n",
       "Salary               0\n",
       "age                  0\n",
       "educ                 0\n",
       "no_young_children    0\n",
       "no_older_children    0\n",
       "foreign              0\n",
       "dtype: int64"
      ]
     },
     "execution_count": 1639,
     "metadata": {},
     "output_type": "execute_result"
    }
   ],
   "source": [
    "#checking for missing values\n",
    "data1.isnull().sum()"
   ]
  },
  {
   "cell_type": "markdown",
   "id": "e1905b99",
   "metadata": {},
   "source": [
    "No missing value found."
   ]
  },
  {
   "cell_type": "markdown",
   "id": "5c193593",
   "metadata": {},
   "source": [
    "#### unique counts of categorical variable"
   ]
  },
  {
   "cell_type": "code",
   "execution_count": 1640,
   "id": "6d2f453b",
   "metadata": {},
   "outputs": [
    {
     "data": {
      "text/plain": [
       "no     471\n",
       "yes    401\n",
       "Name: Holliday_Package, dtype: int64"
      ]
     },
     "execution_count": 1640,
     "metadata": {},
     "output_type": "execute_result"
    }
   ],
   "source": [
    "data1['Holliday_Package'].value_counts()"
   ]
  },
  {
   "cell_type": "code",
   "execution_count": 1641,
   "id": "a8374840",
   "metadata": {},
   "outputs": [
    {
     "data": {
      "text/plain": [
       "no     656\n",
       "yes    216\n",
       "Name: foreign, dtype: int64"
      ]
     },
     "execution_count": 1641,
     "metadata": {},
     "output_type": "execute_result"
    }
   ],
   "source": [
    "data1['foreign'].value_counts()"
   ]
  },
  {
   "cell_type": "markdown",
   "id": "2543ed70",
   "metadata": {},
   "source": [
    "## Data Visualization"
   ]
  },
  {
   "cell_type": "markdown",
   "id": "f44d7576",
   "metadata": {},
   "source": [
    "### Univariate Analysis"
   ]
  },
  {
   "cell_type": "markdown",
   "id": "a11b6ef3",
   "metadata": {},
   "source": [
    "#### Non visual representation"
   ]
  },
  {
   "cell_type": "markdown",
   "id": "4a1fb86c",
   "metadata": {},
   "source": [
    "Using describe function to get descripitve anylysis."
   ]
  },
  {
   "cell_type": "code",
   "execution_count": 1642,
   "id": "d5800638",
   "metadata": {},
   "outputs": [
    {
     "data": {
      "text/html": [
       "<div>\n",
       "<style scoped>\n",
       "    .dataframe tbody tr th:only-of-type {\n",
       "        vertical-align: middle;\n",
       "    }\n",
       "\n",
       "    .dataframe tbody tr th {\n",
       "        vertical-align: top;\n",
       "    }\n",
       "\n",
       "    .dataframe thead th {\n",
       "        text-align: right;\n",
       "    }\n",
       "</style>\n",
       "<table border=\"1\" class=\"dataframe\">\n",
       "  <thead>\n",
       "    <tr style=\"text-align: right;\">\n",
       "      <th></th>\n",
       "      <th>count</th>\n",
       "      <th>unique</th>\n",
       "      <th>top</th>\n",
       "      <th>freq</th>\n",
       "      <th>mean</th>\n",
       "      <th>std</th>\n",
       "      <th>min</th>\n",
       "      <th>25%</th>\n",
       "      <th>50%</th>\n",
       "      <th>75%</th>\n",
       "      <th>max</th>\n",
       "    </tr>\n",
       "  </thead>\n",
       "  <tbody>\n",
       "    <tr>\n",
       "      <th>Holliday_Package</th>\n",
       "      <td>872</td>\n",
       "      <td>2</td>\n",
       "      <td>no</td>\n",
       "      <td>471</td>\n",
       "      <td>NaN</td>\n",
       "      <td>NaN</td>\n",
       "      <td>NaN</td>\n",
       "      <td>NaN</td>\n",
       "      <td>NaN</td>\n",
       "      <td>NaN</td>\n",
       "      <td>NaN</td>\n",
       "    </tr>\n",
       "    <tr>\n",
       "      <th>Salary</th>\n",
       "      <td>872.0</td>\n",
       "      <td>NaN</td>\n",
       "      <td>NaN</td>\n",
       "      <td>NaN</td>\n",
       "      <td>47729.172018</td>\n",
       "      <td>23418.668531</td>\n",
       "      <td>1322.0</td>\n",
       "      <td>35324.0</td>\n",
       "      <td>41903.5</td>\n",
       "      <td>53469.5</td>\n",
       "      <td>236961.0</td>\n",
       "    </tr>\n",
       "    <tr>\n",
       "      <th>age</th>\n",
       "      <td>872.0</td>\n",
       "      <td>NaN</td>\n",
       "      <td>NaN</td>\n",
       "      <td>NaN</td>\n",
       "      <td>39.955275</td>\n",
       "      <td>10.551675</td>\n",
       "      <td>20.0</td>\n",
       "      <td>32.0</td>\n",
       "      <td>39.0</td>\n",
       "      <td>48.0</td>\n",
       "      <td>62.0</td>\n",
       "    </tr>\n",
       "    <tr>\n",
       "      <th>educ</th>\n",
       "      <td>872.0</td>\n",
       "      <td>NaN</td>\n",
       "      <td>NaN</td>\n",
       "      <td>NaN</td>\n",
       "      <td>9.307339</td>\n",
       "      <td>3.036259</td>\n",
       "      <td>1.0</td>\n",
       "      <td>8.0</td>\n",
       "      <td>9.0</td>\n",
       "      <td>12.0</td>\n",
       "      <td>21.0</td>\n",
       "    </tr>\n",
       "    <tr>\n",
       "      <th>no_young_children</th>\n",
       "      <td>872.0</td>\n",
       "      <td>NaN</td>\n",
       "      <td>NaN</td>\n",
       "      <td>NaN</td>\n",
       "      <td>0.311927</td>\n",
       "      <td>0.61287</td>\n",
       "      <td>0.0</td>\n",
       "      <td>0.0</td>\n",
       "      <td>0.0</td>\n",
       "      <td>0.0</td>\n",
       "      <td>3.0</td>\n",
       "    </tr>\n",
       "    <tr>\n",
       "      <th>no_older_children</th>\n",
       "      <td>872.0</td>\n",
       "      <td>NaN</td>\n",
       "      <td>NaN</td>\n",
       "      <td>NaN</td>\n",
       "      <td>0.982798</td>\n",
       "      <td>1.086786</td>\n",
       "      <td>0.0</td>\n",
       "      <td>0.0</td>\n",
       "      <td>1.0</td>\n",
       "      <td>2.0</td>\n",
       "      <td>6.0</td>\n",
       "    </tr>\n",
       "    <tr>\n",
       "      <th>foreign</th>\n",
       "      <td>872</td>\n",
       "      <td>2</td>\n",
       "      <td>no</td>\n",
       "      <td>656</td>\n",
       "      <td>NaN</td>\n",
       "      <td>NaN</td>\n",
       "      <td>NaN</td>\n",
       "      <td>NaN</td>\n",
       "      <td>NaN</td>\n",
       "      <td>NaN</td>\n",
       "      <td>NaN</td>\n",
       "    </tr>\n",
       "  </tbody>\n",
       "</table>\n",
       "</div>"
      ],
      "text/plain": [
       "                   count unique  top freq          mean           std     min  \\\n",
       "Holliday_Package     872      2   no  471           NaN           NaN     NaN   \n",
       "Salary             872.0    NaN  NaN  NaN  47729.172018  23418.668531  1322.0   \n",
       "age                872.0    NaN  NaN  NaN     39.955275     10.551675    20.0   \n",
       "educ               872.0    NaN  NaN  NaN      9.307339      3.036259     1.0   \n",
       "no_young_children  872.0    NaN  NaN  NaN      0.311927       0.61287     0.0   \n",
       "no_older_children  872.0    NaN  NaN  NaN      0.982798      1.086786     0.0   \n",
       "foreign              872      2   no  656           NaN           NaN     NaN   \n",
       "\n",
       "                       25%      50%      75%       max  \n",
       "Holliday_Package       NaN      NaN      NaN       NaN  \n",
       "Salary             35324.0  41903.5  53469.5  236961.0  \n",
       "age                   32.0     39.0     48.0      62.0  \n",
       "educ                   8.0      9.0     12.0      21.0  \n",
       "no_young_children      0.0      0.0      0.0       3.0  \n",
       "no_older_children      0.0      1.0      2.0       6.0  \n",
       "foreign                NaN      NaN      NaN       NaN  "
      ]
     },
     "execution_count": 1642,
     "metadata": {},
     "output_type": "execute_result"
    }
   ],
   "source": [
    "data1.describe(include='all').T"
   ]
  },
  {
   "cell_type": "markdown",
   "id": "9b23827c",
   "metadata": {},
   "source": [
    "Insights:\n",
    "\n",
    "Maximum Salary of an employee is 236961.0 and mimimum is 1322.0 so we can say that Salary spread in wide range.\n",
    "\n",
    "Mostly employee did not opt for Holliday_Package which is a concern.\n",
    "\n",
    "75% of employee's age is less than or equal to 48 years."
   ]
  },
  {
   "cell_type": "markdown",
   "id": "a35af7d6",
   "metadata": {},
   "source": [
    "#### Visual representation:"
   ]
  },
  {
   "cell_type": "markdown",
   "id": "7a95e360",
   "metadata": {},
   "source": [
    "We will use Boxplot and histogram to see distribution and pattern of continuous varibales."
   ]
  },
  {
   "cell_type": "code",
   "execution_count": 1643,
   "id": "58c8b4a9",
   "metadata": {},
   "outputs": [
    {
     "data": {
      "image/png": "[encoded data removed]",
      "text/plain": [
       "<Figure size 720x1224 with 10 Axes>"
      ]
     },
     "metadata": {
      "needs_background": "light"
     },
     "output_type": "display_data"
    }
   ],
   "source": [
    "fig, axes = plt.subplots(nrows=5,ncols=2)\n",
    "fig.set_size_inches(10,17)\n",
    "sns.histplot(data1['Salary'], kde=True, ax=axes[0][0])\n",
    "sns.boxplot(x='Salary', data=data1, ax=axes[0][1])\n",
    "sns.histplot(data1['age'] , kde=True, ax=axes[1][0])\n",
    "sns.boxplot(x='age', data=data1 , ax=axes[1][1])\n",
    "sns.histplot(data1['educ'] , kde=True, ax=axes[2][0])\n",
    "sns.boxplot(x='educ', data=data1 , ax=axes[2][1])\n",
    "sns.histplot(data1['no_young_children'] , kde=True, ax=axes[3][0])\n",
    "sns.boxplot(x='no_young_children', data=data1 , ax=axes[3][1])\n",
    "sns.histplot(data1['no_older_children'] , kde=True, ax=axes[4][0])\n",
    "sns.boxplot(x='no_older_children', data=data1 , ax=axes[4][1])\n",
    "plt.show()"
   ]
  },
  {
   "cell_type": "markdown",
   "id": "f2fb0fc3",
   "metadata": {},
   "source": [
    "Insights:\n",
    "\n",
    "From the above box plots we can say that there are ouliers present in the data.\n",
    "\n",
    "For the variable 'age' distribution is almost symetric ."
   ]
  },
  {
   "cell_type": "markdown",
   "id": "3c8541f7",
   "metadata": {},
   "source": [
    "#### For Categorical variable we are using barplot."
   ]
  },
  {
   "cell_type": "code",
   "execution_count": 1644,
   "id": "2087eae7",
   "metadata": {},
   "outputs": [
    {
     "data": {
      "image/png": "[encoded data removed]",
      "text/plain": [
       "<Figure size 432x288 with 1 Axes>"
      ]
     },
     "metadata": {
      "needs_background": "light"
     },
     "output_type": "display_data"
    }
   ],
   "source": [
    "sns.countplot(x='Holliday_Package', data=data1)\n",
    "plt.title('countplot');"
   ]
  },
  {
   "cell_type": "markdown",
   "id": "a9f597ac",
   "metadata": {},
   "source": [
    "As we observed earlier number of Opted for 'Holliday_Package' is less than numbeer of not-Opted ."
   ]
  },
  {
   "cell_type": "code",
   "execution_count": 1645,
   "id": "3a4e0225",
   "metadata": {},
   "outputs": [
    {
     "data": {
      "image/png": "[encoded data removed]",
      "text/plain": [
       "<Figure size 432x288 with 1 Axes>"
      ]
     },
     "metadata": {
      "needs_background": "light"
     },
     "output_type": "display_data"
    }
   ],
   "source": [
    "sns.countplot(x='foreign', data=data1)\n",
    "plt.title('countplot');"
   ]
  },
  {
   "cell_type": "markdown",
   "id": "b81a3fb7",
   "metadata": {},
   "source": [
    "mostly non foreigner present in the data."
   ]
  },
  {
   "cell_type": "markdown",
   "id": "74c57c5b",
   "metadata": {},
   "source": [
    "## Bivariate Analysis"
   ]
  },
  {
   "cell_type": "markdown",
   "id": "e6182398",
   "metadata": {},
   "source": [
    "We will use countplot, boxplot and scatterplot to compare 2 variables ."
   ]
  },
  {
   "cell_type": "code",
   "execution_count": 1646,
   "id": "b5a7b1f1",
   "metadata": {},
   "outputs": [
    {
     "data": {
      "image/png": "[encoded data removed]",
      "text/plain": [
       "<Figure size 432x288 with 1 Axes>"
      ]
     },
     "metadata": {
      "needs_background": "light"
     },
     "output_type": "display_data"
    }
   ],
   "source": [
    "sns.countplot(data = data1, x ='Holliday_Package',hue ='foreign')\n",
    "plt.title('countplot');"
   ]
  },
  {
   "cell_type": "markdown",
   "id": "19001ad4",
   "metadata": {},
   "source": [
    "We can say that number of foreigners who stand for yes highly opted for  Holliday_Package."
   ]
  },
  {
   "cell_type": "code",
   "execution_count": 1647,
   "id": "e1af8d64",
   "metadata": {},
   "outputs": [
    {
     "data": {
      "image/png": "[encoded data removed]",
      "text/plain": [
       "<Figure size 432x288 with 1 Axes>"
      ]
     },
     "metadata": {
      "needs_background": "light"
     },
     "output_type": "display_data"
    }
   ],
   "source": [
    "sns.scatterplot(data = data1, y ='Salary',x ='age')\n",
    "plt.title('scatterplot');"
   ]
  },
  {
   "cell_type": "markdown",
   "id": "d8d4a6e4",
   "metadata": {},
   "source": [
    "We found that age is not related to salary which is not common because generally salary and age are correlated."
   ]
  },
  {
   "cell_type": "code",
   "execution_count": 1648,
   "id": "94309988",
   "metadata": {},
   "outputs": [
    {
     "data": {
      "image/png": "[encoded data removed]",
      "text/plain": [
       "<Figure size 432x288 with 1 Axes>"
      ]
     },
     "metadata": {
      "needs_background": "light"
     },
     "output_type": "display_data"
    }
   ],
   "source": [
    "sns.boxplot(data=data1, x='Salary', y='Holliday_Package')\n",
    "plt.title('Boxplot');"
   ]
  },
  {
   "cell_type": "markdown",
   "id": "803736fa",
   "metadata": {},
   "source": [
    "We can see that those who have higher salary did not opted for Holliday_Package."
   ]
  },
  {
   "cell_type": "code",
   "execution_count": 1649,
   "id": "79edc4cd",
   "metadata": {},
   "outputs": [
    {
     "data": {
      "image/png": "[encoded data removed]",
      "text/plain": [
       "<Figure size 432x288 with 1 Axes>"
      ]
     },
     "metadata": {
      "needs_background": "light"
     },
     "output_type": "display_data"
    }
   ],
   "source": [
    "sns.boxplot(data=data1, x='educ', y='Holliday_Package')\n",
    "plt.title('Boxplot');"
   ]
  },
  {
   "cell_type": "markdown",
   "id": "59ad3b44",
   "metadata": {},
   "source": [
    "We can see that those who have high Years of formal education did not opted for Holliday_Package."
   ]
  },
  {
   "cell_type": "code",
   "execution_count": 1650,
   "id": "9864d219",
   "metadata": {},
   "outputs": [
    {
     "data": {
      "image/png": "[encoded data removed]",
      "text/plain": [
       "<Figure size 432x288 with 1 Axes>"
      ]
     },
     "metadata": {
      "needs_background": "light"
     },
     "output_type": "display_data"
    }
   ],
   "source": [
    "sns.boxplot(data=data1, x='foreign', y='educ')\n",
    "plt.title('Boxplot');"
   ]
  },
  {
   "cell_type": "markdown",
   "id": "d88ba827",
   "metadata": {},
   "source": [
    "Mostly high Years of formal education is not foreigner ."
   ]
  },
  {
   "cell_type": "markdown",
   "id": "cf658cdc",
   "metadata": {},
   "source": [
    "# 2.2 Do not scale the data. Encode the data (having string values) for Modelling. Data Split: Split the data into train and test (70:30). Apply Logistic Regression and LDA (linear discriminant analysis)."
   ]
  },
  {
   "cell_type": "markdown",
   "id": "e8e2107c",
   "metadata": {},
   "source": [
    "### Encoding the data "
   ]
  },
  {
   "cell_type": "code",
   "execution_count": 1651,
   "id": "0f178986",
   "metadata": {},
   "outputs": [
    {
     "data": {
      "text/html": [
       "<div>\n",
       "<style scoped>\n",
       "    .dataframe tbody tr th:only-of-type {\n",
       "        vertical-align: middle;\n",
       "    }\n",
       "\n",
       "    .dataframe tbody tr th {\n",
       "        vertical-align: top;\n",
       "    }\n",
       "\n",
       "    .dataframe thead th {\n",
       "        text-align: right;\n",
       "    }\n",
       "</style>\n",
       "<table border=\"1\" class=\"dataframe\">\n",
       "  <thead>\n",
       "    <tr style=\"text-align: right;\">\n",
       "      <th></th>\n",
       "      <th>Salary</th>\n",
       "      <th>age</th>\n",
       "      <th>educ</th>\n",
       "      <th>no_young_children</th>\n",
       "      <th>no_older_children</th>\n",
       "      <th>Holliday_Package_yes</th>\n",
       "      <th>foreign_yes</th>\n",
       "    </tr>\n",
       "  </thead>\n",
       "  <tbody>\n",
       "    <tr>\n",
       "      <th>0</th>\n",
       "      <td>48412</td>\n",
       "      <td>30</td>\n",
       "      <td>8</td>\n",
       "      <td>1</td>\n",
       "      <td>1</td>\n",
       "      <td>0</td>\n",
       "      <td>0</td>\n",
       "    </tr>\n",
       "    <tr>\n",
       "      <th>1</th>\n",
       "      <td>37207</td>\n",
       "      <td>45</td>\n",
       "      <td>8</td>\n",
       "      <td>0</td>\n",
       "      <td>1</td>\n",
       "      <td>1</td>\n",
       "      <td>0</td>\n",
       "    </tr>\n",
       "    <tr>\n",
       "      <th>2</th>\n",
       "      <td>58022</td>\n",
       "      <td>46</td>\n",
       "      <td>9</td>\n",
       "      <td>0</td>\n",
       "      <td>0</td>\n",
       "      <td>0</td>\n",
       "      <td>0</td>\n",
       "    </tr>\n",
       "    <tr>\n",
       "      <th>3</th>\n",
       "      <td>66503</td>\n",
       "      <td>31</td>\n",
       "      <td>11</td>\n",
       "      <td>2</td>\n",
       "      <td>0</td>\n",
       "      <td>0</td>\n",
       "      <td>0</td>\n",
       "    </tr>\n",
       "    <tr>\n",
       "      <th>4</th>\n",
       "      <td>66734</td>\n",
       "      <td>44</td>\n",
       "      <td>12</td>\n",
       "      <td>0</td>\n",
       "      <td>2</td>\n",
       "      <td>0</td>\n",
       "      <td>0</td>\n",
       "    </tr>\n",
       "  </tbody>\n",
       "</table>\n",
       "</div>"
      ],
      "text/plain": [
       "   Salary  age  educ  no_young_children  no_older_children  \\\n",
       "0   48412   30     8                  1                  1   \n",
       "1   37207   45     8                  0                  1   \n",
       "2   58022   46     9                  0                  0   \n",
       "3   66503   31    11                  2                  0   \n",
       "4   66734   44    12                  0                  2   \n",
       "\n",
       "   Holliday_Package_yes  foreign_yes  \n",
       "0                     0            0  \n",
       "1                     1            0  \n",
       "2                     0            0  \n",
       "3                     0            0  \n",
       "4                     0            0  "
      ]
     },
     "execution_count": 1651,
     "metadata": {},
     "output_type": "execute_result"
    }
   ],
   "source": [
    "data1_dummy = pd.get_dummies(data1,drop_first=True)\n",
    "data1_dummy.head()"
   ]
  },
  {
   "cell_type": "markdown",
   "id": "4d2d5beb",
   "metadata": {},
   "source": [
    "### Train Test Split"
   ]
  },
  {
   "cell_type": "code",
   "execution_count": 1652,
   "id": "b3ffd18b",
   "metadata": {},
   "outputs": [],
   "source": [
    "# Copy all the predictor variables into X dataframe\n",
    "X = data1_dummy.drop('Holliday_Package_yes', axis=1)\n",
    "\n",
    "# Copy target into the y dataframe. \n",
    "y = data1_dummy['Holliday_Package_yes']"
   ]
  },
  {
   "cell_type": "code",
   "execution_count": 1653,
   "id": "dc406e93",
   "metadata": {},
   "outputs": [],
   "source": [
    "# Split X and y into training and test set in 70:30 ratio\n",
    "X_train, X_test, y_train, y_test = train_test_split(X, y, test_size=0.30 , random_state=1,stratify=data1_dummy['Holliday_Package_yes'])"
   ]
  },
  {
   "cell_type": "code",
   "execution_count": 1654,
   "id": "24c7a216",
   "metadata": {},
   "outputs": [
    {
     "data": {
      "text/plain": [
       "0    0.539344\n",
       "1    0.460656\n",
       "Name: Holliday_Package_yes, dtype: float64"
      ]
     },
     "execution_count": 1654,
     "metadata": {},
     "output_type": "execute_result"
    }
   ],
   "source": [
    "y_train.value_counts(1)\n"
   ]
  },
  {
   "cell_type": "code",
   "execution_count": 1655,
   "id": "cf8719f3",
   "metadata": {},
   "outputs": [
    {
     "data": {
      "text/plain": [
       "0    0.541985\n",
       "1    0.458015\n",
       "Name: Holliday_Package_yes, dtype: float64"
      ]
     },
     "execution_count": 1655,
     "metadata": {},
     "output_type": "execute_result"
    }
   ],
   "source": [
    "y_test.value_counts(1)"
   ]
  },
  {
   "cell_type": "markdown",
   "id": "c7d3eed7",
   "metadata": {},
   "source": [
    "## Building Logistic Regression model"
   ]
  },
  {
   "cell_type": "code",
   "execution_count": 1738,
   "id": "08508ee4",
   "metadata": {},
   "outputs": [
    {
     "name": "stderr",
     "output_type": "stream",
     "text": [
      "[Parallel(n_jobs=2)]: Using backend LokyBackend with 2 concurrent workers.\n",
      "[Parallel(n_jobs=2)]: Done   1 out of   1 | elapsed:    1.2s finished\n"
     ]
    },
    {
     "data": {
      "text/plain": [
       "LogisticRegression(max_iter=10000, n_jobs=2, penalty='none', random_state=1,\n",
       "                   solver='newton-cg', verbose=True)"
      ]
     },
     "execution_count": 1738,
     "metadata": {},
     "output_type": "execute_result"
    }
   ],
   "source": [
    "# Fit the Logistic Regression model\n",
    "model1 = LogisticRegression(solver='newton-cg',max_iter=10000,penalty='none',verbose=True,n_jobs=2,random_state=1)\n",
    "model1.fit(X_train, y_train)"
   ]
  },
  {
   "cell_type": "markdown",
   "id": "ab5f685c",
   "metadata": {},
   "source": [
    "### Predicting on Training and Test dataset"
   ]
  },
  {
   "cell_type": "code",
   "execution_count": 1739,
   "id": "4159a910",
   "metadata": {},
   "outputs": [],
   "source": [
    "ytrain_predict = model1.predict(X_train)\n",
    "ytest_predict = model1.predict(X_test)"
   ]
  },
  {
   "cell_type": "markdown",
   "id": "c520685c",
   "metadata": {},
   "source": [
    "### Getting the Predicted Classes and Probs"
   ]
  },
  {
   "cell_type": "code",
   "execution_count": 1740,
   "id": "a95ba816",
   "metadata": {},
   "outputs": [
    {
     "data": {
      "text/html": [
       "<div>\n",
       "<style scoped>\n",
       "    .dataframe tbody tr th:only-of-type {\n",
       "        vertical-align: middle;\n",
       "    }\n",
       "\n",
       "    .dataframe tbody tr th {\n",
       "        vertical-align: top;\n",
       "    }\n",
       "\n",
       "    .dataframe thead th {\n",
       "        text-align: right;\n",
       "    }\n",
       "</style>\n",
       "<table border=\"1\" class=\"dataframe\">\n",
       "  <thead>\n",
       "    <tr style=\"text-align: right;\">\n",
       "      <th></th>\n",
       "      <th>0</th>\n",
       "      <th>1</th>\n",
       "    </tr>\n",
       "  </thead>\n",
       "  <tbody>\n",
       "    <tr>\n",
       "      <th>0</th>\n",
       "      <td>0.685349</td>\n",
       "      <td>0.314651</td>\n",
       "    </tr>\n",
       "    <tr>\n",
       "      <th>1</th>\n",
       "      <td>0.539469</td>\n",
       "      <td>0.460531</td>\n",
       "    </tr>\n",
       "    <tr>\n",
       "      <th>2</th>\n",
       "      <td>0.697042</td>\n",
       "      <td>0.302958</td>\n",
       "    </tr>\n",
       "    <tr>\n",
       "      <th>3</th>\n",
       "      <td>0.496348</td>\n",
       "      <td>0.503652</td>\n",
       "    </tr>\n",
       "    <tr>\n",
       "      <th>4</th>\n",
       "      <td>0.557723</td>\n",
       "      <td>0.442277</td>\n",
       "    </tr>\n",
       "  </tbody>\n",
       "</table>\n",
       "</div>"
      ],
      "text/plain": [
       "          0         1\n",
       "0  0.685349  0.314651\n",
       "1  0.539469  0.460531\n",
       "2  0.697042  0.302958\n",
       "3  0.496348  0.503652\n",
       "4  0.557723  0.442277"
      ]
     },
     "execution_count": 1740,
     "metadata": {},
     "output_type": "execute_result"
    }
   ],
   "source": [
    "ytrain_predict_prob=model1.predict_proba(X_train)\n",
    "pd.DataFrame(ytest_predict_prob).head()"
   ]
  },
  {
   "cell_type": "code",
   "execution_count": 1741,
   "id": "40b15322",
   "metadata": {},
   "outputs": [
    {
     "data": {
      "text/html": [
       "<div>\n",
       "<style scoped>\n",
       "    .dataframe tbody tr th:only-of-type {\n",
       "        vertical-align: middle;\n",
       "    }\n",
       "\n",
       "    .dataframe tbody tr th {\n",
       "        vertical-align: top;\n",
       "    }\n",
       "\n",
       "    .dataframe thead th {\n",
       "        text-align: right;\n",
       "    }\n",
       "</style>\n",
       "<table border=\"1\" class=\"dataframe\">\n",
       "  <thead>\n",
       "    <tr style=\"text-align: right;\">\n",
       "      <th></th>\n",
       "      <th>0</th>\n",
       "      <th>1</th>\n",
       "    </tr>\n",
       "  </thead>\n",
       "  <tbody>\n",
       "    <tr>\n",
       "      <th>0</th>\n",
       "      <td>0.685349</td>\n",
       "      <td>0.314651</td>\n",
       "    </tr>\n",
       "    <tr>\n",
       "      <th>1</th>\n",
       "      <td>0.539469</td>\n",
       "      <td>0.460531</td>\n",
       "    </tr>\n",
       "    <tr>\n",
       "      <th>2</th>\n",
       "      <td>0.697042</td>\n",
       "      <td>0.302958</td>\n",
       "    </tr>\n",
       "    <tr>\n",
       "      <th>3</th>\n",
       "      <td>0.496348</td>\n",
       "      <td>0.503652</td>\n",
       "    </tr>\n",
       "    <tr>\n",
       "      <th>4</th>\n",
       "      <td>0.557723</td>\n",
       "      <td>0.442277</td>\n",
       "    </tr>\n",
       "  </tbody>\n",
       "</table>\n",
       "</div>"
      ],
      "text/plain": [
       "          0         1\n",
       "0  0.685349  0.314651\n",
       "1  0.539469  0.460531\n",
       "2  0.697042  0.302958\n",
       "3  0.496348  0.503652\n",
       "4  0.557723  0.442277"
      ]
     },
     "execution_count": 1741,
     "metadata": {},
     "output_type": "execute_result"
    }
   ],
   "source": [
    "ytest_predict_prob=model1.predict_proba(X_test)\n",
    "pd.DataFrame(ytest_predict_prob).head()"
   ]
  },
  {
   "cell_type": "markdown",
   "id": "45b35ad9",
   "metadata": {},
   "source": [
    "### Model Evaluation"
   ]
  },
  {
   "cell_type": "code",
   "execution_count": 1742,
   "id": "058e81d5",
   "metadata": {},
   "outputs": [
    {
     "data": {
      "text/plain": [
       "0.6672131147540984"
      ]
     },
     "execution_count": 1742,
     "metadata": {},
     "output_type": "execute_result"
    }
   ],
   "source": [
    "# Accuracy - Training Data\n",
    "model1.score(X_train, y_train)"
   ]
  },
  {
   "cell_type": "code",
   "execution_count": 1743,
   "id": "264272e3",
   "metadata": {},
   "outputs": [
    {
     "data": {
      "text/plain": [
       "0.6526717557251909"
      ]
     },
     "execution_count": 1743,
     "metadata": {},
     "output_type": "execute_result"
    }
   ],
   "source": [
    "# Accuracy - Test Data\n",
    "model1.score(X_test, y_test)"
   ]
  },
  {
   "cell_type": "markdown",
   "id": "2145b34c",
   "metadata": {},
   "source": [
    "### AUC and ROC for the training data"
   ]
  },
  {
   "cell_type": "code",
   "execution_count": 1744,
   "id": "c26f4b55",
   "metadata": {},
   "outputs": [
    {
     "name": "stdout",
     "output_type": "stream",
     "text": [
      "AUC: 0.735\n"
     ]
    },
    {
     "data": {
      "image/png": "[encoded data removed]",
      "text/plain": [
       "<Figure size 432x288 with 1 Axes>"
      ]
     },
     "metadata": {
      "needs_background": "light"
     },
     "output_type": "display_data"
    }
   ],
   "source": [
    "# predict probabilities\n",
    "probs = model1.predict_proba(X_train)\n",
    "# keep probabilities for the positive outcome only\n",
    "probs = probs[:, 1]\n",
    "# calculate AUC\n",
    "auc = roc_auc_score(y_train, probs)\n",
    "print('AUC: %.3f' % auc)\n",
    "# calculate roc curve\n",
    "train_fpr, train_tpr, train_thresholds = roc_curve(y_train, probs)\n",
    "plt.plot([0, 1], [0, 1], linestyle='--')\n",
    "# plot the roc curve for the model\n",
    "plt.plot(train_fpr, train_tpr);"
   ]
  },
  {
   "cell_type": "markdown",
   "id": "88383efa",
   "metadata": {},
   "source": [
    "### AUC and ROC for the testing data"
   ]
  },
  {
   "cell_type": "code",
   "execution_count": 1745,
   "id": "88d7d039",
   "metadata": {},
   "outputs": [
    {
     "name": "stdout",
     "output_type": "stream",
     "text": [
      "AUC: 0.735\n"
     ]
    },
    {
     "data": {
      "image/png": "[encoded data removed]",
      "text/plain": [
       "<Figure size 432x288 with 1 Axes>"
      ]
     },
     "metadata": {
      "needs_background": "light"
     },
     "output_type": "display_data"
    }
   ],
   "source": [
    "# predict probabilities\n",
    "probs = model1.predict_proba(X_test)\n",
    "# keep probabilities for the positive outcome only\n",
    "probs = probs[:, 1]\n",
    "# calculate AUC\n",
    "test_auc = roc_auc_score(y_test, probs)\n",
    "print('AUC: %.3f' % auc)\n",
    "# calculate roc curve\n",
    "test_fpr, test_tpr, test_thresholds = roc_curve(y_test, probs)\n",
    "plt.plot([0, 1], [0, 1], linestyle='--')\n",
    "# plot the roc curve for the model\n",
    "plt.plot(test_fpr, test_tpr);"
   ]
  },
  {
   "cell_type": "markdown",
   "id": "16422a8f",
   "metadata": {},
   "source": [
    "### Confusion Matrix & classification report for the training data"
   ]
  },
  {
   "cell_type": "code",
   "execution_count": 1746,
   "id": "e76f7bfb",
   "metadata": {},
   "outputs": [
    {
     "data": {
      "text/plain": [
       "array([[244,  85],\n",
       "       [118, 163]], dtype=int64)"
      ]
     },
     "execution_count": 1746,
     "metadata": {},
     "output_type": "execute_result"
    }
   ],
   "source": [
    "confusion_matrix(y_train, ytrain_predict)"
   ]
  },
  {
   "cell_type": "code",
   "execution_count": 1747,
   "id": "db48054b",
   "metadata": {},
   "outputs": [
    {
     "data": {
      "image/png": "[encoded data removed]",
      "text/plain": [
       "<Figure size 432x288 with 2 Axes>"
      ]
     },
     "metadata": {
      "needs_background": "light"
     },
     "output_type": "display_data"
    }
   ],
   "source": [
    "plot_confusion_matrix(model1,X_train,y_train);\n",
    "plt.title('confusion matrix');"
   ]
  },
  {
   "cell_type": "code",
   "execution_count": 1748,
   "id": "4aaa736b",
   "metadata": {},
   "outputs": [
    {
     "name": "stdout",
     "output_type": "stream",
     "text": [
      "              precision    recall  f1-score   support\n",
      "\n",
      "           0       0.67      0.74      0.71       329\n",
      "           1       0.66      0.58      0.62       281\n",
      "\n",
      "    accuracy                           0.67       610\n",
      "   macro avg       0.67      0.66      0.66       610\n",
      "weighted avg       0.67      0.67      0.66       610\n",
      "\n"
     ]
    }
   ],
   "source": [
    "print(classification_report(y_train, ytrain_predict))"
   ]
  },
  {
   "cell_type": "markdown",
   "id": "c3c60c50",
   "metadata": {},
   "source": [
    "### Confusion Matrix & classification report for the test data"
   ]
  },
  {
   "cell_type": "code",
   "execution_count": 1749,
   "id": "b0a54fba",
   "metadata": {},
   "outputs": [
    {
     "data": {
      "text/plain": [
       "array([[109,  33],\n",
       "       [ 58,  62]], dtype=int64)"
      ]
     },
     "execution_count": 1749,
     "metadata": {},
     "output_type": "execute_result"
    }
   ],
   "source": [
    "confusion_matrix(y_test, ytest_predict)"
   ]
  },
  {
   "cell_type": "code",
   "execution_count": 1750,
   "id": "0f240987",
   "metadata": {},
   "outputs": [
    {
     "data": {
      "image/png": "[encoded data removed]",
      "text/plain": [
       "<Figure size 432x288 with 2 Axes>"
      ]
     },
     "metadata": {
      "needs_background": "light"
     },
     "output_type": "display_data"
    }
   ],
   "source": [
    "plot_confusion_matrix(model1,X_test,y_test);\n",
    "plt.title('confusion matrix');"
   ]
  },
  {
   "cell_type": "code",
   "execution_count": 1751,
   "id": "562992df",
   "metadata": {},
   "outputs": [
    {
     "name": "stdout",
     "output_type": "stream",
     "text": [
      "              precision    recall  f1-score   support\n",
      "\n",
      "           0       0.65      0.77      0.71       142\n",
      "           1       0.65      0.52      0.58       120\n",
      "\n",
      "    accuracy                           0.65       262\n",
      "   macro avg       0.65      0.64      0.64       262\n",
      "weighted avg       0.65      0.65      0.65       262\n",
      "\n"
     ]
    }
   ],
   "source": [
    "print(classification_report(y_test, ytest_predict))"
   ]
  },
  {
   "cell_type": "markdown",
   "id": "d1d5aeae",
   "metadata": {},
   "source": [
    "## Applying GridSearchCV for Logistic Regression"
   ]
  },
  {
   "cell_type": "code",
   "execution_count": 1806,
   "id": "c6c792d0",
   "metadata": {},
   "outputs": [],
   "source": [
    "grid={'penalty':['l2','none','l1'],\n",
    "      'solver':['sag','lbfgs','liblinear','newton-cg'],\n",
    "      'tol':[0.0001,0.00001]}"
   ]
  },
  {
   "cell_type": "code",
   "execution_count": 1807,
   "id": "32abc527",
   "metadata": {},
   "outputs": [],
   "source": [
    "model2 = LogisticRegression(max_iter=10000,n_jobs=2,random_state=1)"
   ]
  },
  {
   "cell_type": "code",
   "execution_count": 1808,
   "id": "d6e358c4",
   "metadata": {},
   "outputs": [],
   "source": [
    "grid_search = GridSearchCV(estimator = model2, param_grid = grid, cv = 3,n_jobs=-1,scoring='f1')"
   ]
  },
  {
   "cell_type": "code",
   "execution_count": 1809,
   "id": "80a7becc",
   "metadata": {},
   "outputs": [
    {
     "data": {
      "text/plain": [
       "GridSearchCV(cv=3,\n",
       "             estimator=LogisticRegression(max_iter=10000, n_jobs=2,\n",
       "                                          random_state=1),\n",
       "             n_jobs=-1,\n",
       "             param_grid={'penalty': ['l2', 'none', 'l1'],\n",
       "                         'solver': ['sag', 'lbfgs', 'liblinear', 'newton-cg'],\n",
       "                         'tol': [0.0001, 1e-05]},\n",
       "             scoring='f1')"
      ]
     },
     "execution_count": 1809,
     "metadata": {},
     "output_type": "execute_result"
    }
   ],
   "source": [
    "grid_search.fit(X_train, y_train)"
   ]
  },
  {
   "cell_type": "code",
   "execution_count": 1810,
   "id": "beb89cdb",
   "metadata": {},
   "outputs": [
    {
     "name": "stdout",
     "output_type": "stream",
     "text": [
      "{'penalty': 'l1', 'solver': 'liblinear', 'tol': 1e-05} \n",
      "\n",
      "LogisticRegression(max_iter=10000, n_jobs=2, penalty='l1', random_state=1,\n",
      "                   solver='liblinear', tol=1e-05)\n"
     ]
    }
   ],
   "source": [
    "print(grid_search.best_params_,'\\n')\n",
    "print(grid_search.best_estimator_)"
   ]
  },
  {
   "cell_type": "code",
   "execution_count": 1811,
   "id": "0eedb2cd",
   "metadata": {},
   "outputs": [],
   "source": [
    "best_model = grid_search.best_estimator_"
   ]
  },
  {
   "cell_type": "code",
   "execution_count": 1812,
   "id": "1c6d28aa",
   "metadata": {},
   "outputs": [],
   "source": [
    "# Prediction on the training set\n",
    "ytrain_predict = best_model.predict(X_train)\n",
    "ytest_predict = best_model.predict(X_test)"
   ]
  },
  {
   "cell_type": "code",
   "execution_count": 1813,
   "id": "df080a8e",
   "metadata": {},
   "outputs": [
    {
     "name": "stdout",
     "output_type": "stream",
     "text": [
      "              precision    recall  f1-score   support\n",
      "\n",
      "           0       0.67      0.75      0.71       329\n",
      "           1       0.66      0.57      0.61       281\n",
      "\n",
      "    accuracy                           0.67       610\n",
      "   macro avg       0.66      0.66      0.66       610\n",
      "weighted avg       0.66      0.67      0.66       610\n",
      " \n",
      "\n"
     ]
    },
    {
     "data": {
      "image/png": "[encoded data removed]",
      "text/plain": [
       "<Figure size 432x288 with 2 Axes>"
      ]
     },
     "metadata": {
      "needs_background": "light"
     },
     "output_type": "display_data"
    }
   ],
   "source": [
    "## Confusion matrix & classification report on the training data\n",
    "plot_confusion_matrix(best_model,X_train,y_train)\n",
    "plt.title('confusion matrix');\n",
    "print(classification_report(y_train, ytrain_predict),'\\n');"
   ]
  },
  {
   "cell_type": "code",
   "execution_count": 1814,
   "id": "28cbfb36",
   "metadata": {},
   "outputs": [
    {
     "name": "stdout",
     "output_type": "stream",
     "text": [
      "              precision    recall  f1-score   support\n",
      "\n",
      "           0       0.66      0.77      0.71       142\n",
      "           1       0.66      0.53      0.59       120\n",
      "\n",
      "    accuracy                           0.66       262\n",
      "   macro avg       0.66      0.65      0.65       262\n",
      "weighted avg       0.66      0.66      0.65       262\n",
      " \n",
      "\n"
     ]
    },
    {
     "data": {
      "image/png": "[encoded data removed]",
      "text/plain": [
       "<Figure size 432x288 with 2 Axes>"
      ]
     },
     "metadata": {
      "needs_background": "light"
     },
     "output_type": "display_data"
    }
   ],
   "source": [
    "## Confusion matrix & classification report on the test data\n",
    "plot_confusion_matrix(best_model,X_test,y_test)\n",
    "plt.title('confusion matrix');\n",
    "print(classification_report(y_test, ytest_predict),'\\n');"
   ]
  },
  {
   "cell_type": "code",
   "execution_count": 1815,
   "id": "4165353a",
   "metadata": {},
   "outputs": [],
   "source": [
    "grid={'penalty':['l2','none','elasticnet','l1'],\n",
    "      'solver':['lbfgs','liblinear','saga','sag','newton-cg'],\n",
    "      'tol':[0.0001,0.00001,0.001,0.000001]}"
   ]
  },
  {
   "cell_type": "code",
   "execution_count": 1816,
   "id": "4409eb0e",
   "metadata": {},
   "outputs": [],
   "source": [
    "model3 = LogisticRegression(max_iter=1000 ,n_jobs=2,random_state=1)"
   ]
  },
  {
   "cell_type": "code",
   "execution_count": 1817,
   "id": "26bda848",
   "metadata": {},
   "outputs": [],
   "source": [
    "grid_search = GridSearchCV(estimator = model3, param_grid = grid,cv = 4,n_jobs=-1,scoring='f1')"
   ]
  },
  {
   "cell_type": "code",
   "execution_count": 1818,
   "id": "38d58afa",
   "metadata": {},
   "outputs": [
    {
     "data": {
      "text/plain": [
       "GridSearchCV(cv=4,\n",
       "             estimator=LogisticRegression(max_iter=1000, n_jobs=2,\n",
       "                                          random_state=1),\n",
       "             n_jobs=-1,\n",
       "             param_grid={'penalty': ['l2', 'none', 'elasticnet', 'l1'],\n",
       "                         'solver': ['lbfgs', 'liblinear', 'saga', 'sag',\n",
       "                                    'newton-cg'],\n",
       "                         'tol': [0.0001, 1e-05, 0.001, 1e-06]},\n",
       "             scoring='f1')"
      ]
     },
     "execution_count": 1818,
     "metadata": {},
     "output_type": "execute_result"
    }
   ],
   "source": [
    "grid_search.fit(X_train, y_train)"
   ]
  },
  {
   "cell_type": "code",
   "execution_count": 1819,
   "id": "86fdc4a6",
   "metadata": {},
   "outputs": [],
   "source": [
    "best_model = grid_search.best_estimator_"
   ]
  },
  {
   "cell_type": "code",
   "execution_count": 1820,
   "id": "2ad0d9f5",
   "metadata": {},
   "outputs": [],
   "source": [
    "# Prediction on the training set\n",
    "ytrain_predict = best_model.predict(X_train)\n",
    "ytest_predict = best_model.predict(X_test)"
   ]
  },
  {
   "cell_type": "code",
   "execution_count": 1821,
   "id": "c67c0be0",
   "metadata": {},
   "outputs": [
    {
     "name": "stdout",
     "output_type": "stream",
     "text": [
      "              precision    recall  f1-score   support\n",
      "\n",
      "           0       0.67      0.74      0.71       329\n",
      "           1       0.66      0.58      0.62       281\n",
      "\n",
      "    accuracy                           0.67       610\n",
      "   macro avg       0.67      0.66      0.66       610\n",
      "weighted avg       0.67      0.67      0.66       610\n",
      " \n",
      "\n"
     ]
    },
    {
     "data": {
      "image/png": "[encoded data removed]",
      "text/plain": [
       "<Figure size 432x288 with 2 Axes>"
      ]
     },
     "metadata": {
      "needs_background": "light"
     },
     "output_type": "display_data"
    }
   ],
   "source": [
    "## Confusion matrix & classification report on the training data\n",
    "plot_confusion_matrix(best_model,X_train,y_train)\n",
    "plt.title('confusion matrix');\n",
    "print(classification_report(y_train, ytrain_predict),'\\n');"
   ]
  },
  {
   "cell_type": "code",
   "execution_count": 1822,
   "id": "c174ebbe",
   "metadata": {},
   "outputs": [
    {
     "name": "stdout",
     "output_type": "stream",
     "text": [
      "              precision    recall  f1-score   support\n",
      "\n",
      "           0       0.65      0.76      0.70       142\n",
      "           1       0.65      0.53      0.58       120\n",
      "\n",
      "    accuracy                           0.65       262\n",
      "   macro avg       0.65      0.64      0.64       262\n",
      "weighted avg       0.65      0.65      0.65       262\n",
      " \n",
      "\n"
     ]
    },
    {
     "data": {
      "image/png": "[encoded data removed]",
      "text/plain": [
       "<Figure size 432x288 with 2 Axes>"
      ]
     },
     "metadata": {
      "needs_background": "light"
     },
     "output_type": "display_data"
    }
   ],
   "source": [
    "## Confusion matrix & classification report on the test data\n",
    "plot_confusion_matrix(best_model,X_test,y_test)\n",
    "plt.title('confusion matrix');\n",
    "print(classification_report(y_test, ytest_predict),'\\n');"
   ]
  },
  {
   "cell_type": "code",
   "execution_count": 1823,
   "id": "2780e579",
   "metadata": {},
   "outputs": [],
   "source": [
    "grid={'penalty':['l1','none','elasticnet'],\n",
    "    'solver':['liblinear','saga''sag'],\n",
    "      'tol':[0.0001,0.00001]}"
   ]
  },
  {
   "cell_type": "code",
   "execution_count": 1824,
   "id": "7af65462",
   "metadata": {},
   "outputs": [],
   "source": [
    "model4 = LogisticRegression(max_iter=1000 ,n_jobs=2,random_state=1)"
   ]
  },
  {
   "cell_type": "code",
   "execution_count": 1825,
   "id": "aed3053c",
   "metadata": {},
   "outputs": [],
   "source": [
    "grid_search = GridSearchCV(estimator = model4, param_grid = grid,n_jobs=-1,scoring='f1')"
   ]
  },
  {
   "cell_type": "code",
   "execution_count": 1826,
   "id": "ccad17bb",
   "metadata": {},
   "outputs": [
    {
     "data": {
      "text/plain": [
       "GridSearchCV(estimator=LogisticRegression(max_iter=1000, n_jobs=2,\n",
       "                                          random_state=1),\n",
       "             n_jobs=-1,\n",
       "             param_grid={'penalty': ['l1', 'none', 'elasticnet'],\n",
       "                         'solver': ['liblinear', 'sagasag'],\n",
       "                         'tol': [0.0001, 1e-05]},\n",
       "             scoring='f1')"
      ]
     },
     "execution_count": 1826,
     "metadata": {},
     "output_type": "execute_result"
    }
   ],
   "source": [
    "grid_search.fit(X_train, y_train)"
   ]
  },
  {
   "cell_type": "code",
   "execution_count": 1827,
   "id": "d8f4944d",
   "metadata": {},
   "outputs": [],
   "source": [
    "best_model = grid_search.best_estimator_"
   ]
  },
  {
   "cell_type": "code",
   "execution_count": 1828,
   "id": "0be77b55",
   "metadata": {},
   "outputs": [],
   "source": [
    "# Prediction\n",
    "ytrain_predict = best_model.predict(X_train)\n",
    "ytest_predict = best_model.predict(X_test)"
   ]
  },
  {
   "cell_type": "code",
   "execution_count": 1829,
   "id": "e3d17c84",
   "metadata": {},
   "outputs": [
    {
     "name": "stdout",
     "output_type": "stream",
     "text": [
      "              precision    recall  f1-score   support\n",
      "\n",
      "           0       0.67      0.75      0.71       329\n",
      "           1       0.66      0.57      0.61       281\n",
      "\n",
      "    accuracy                           0.67       610\n",
      "   macro avg       0.66      0.66      0.66       610\n",
      "weighted avg       0.66      0.67      0.66       610\n",
      " \n",
      "\n"
     ]
    },
    {
     "data": {
      "image/png": "[encoded data removed]",
      "text/plain": [
       "<Figure size 432x288 with 2 Axes>"
      ]
     },
     "metadata": {
      "needs_background": "light"
     },
     "output_type": "display_data"
    }
   ],
   "source": [
    "## Confusion matrix & classification report on on the train data\n",
    "plot_confusion_matrix(best_model,X_train,y_train)\n",
    "plt.title('confusion matrix');\n",
    "print(classification_report(y_train, ytrain_predict),'\\n');"
   ]
  },
  {
   "cell_type": "code",
   "execution_count": 1830,
   "id": "a3f38c1c",
   "metadata": {},
   "outputs": [
    {
     "name": "stdout",
     "output_type": "stream",
     "text": [
      "              precision    recall  f1-score   support\n",
      "\n",
      "           0       0.66      0.77      0.71       142\n",
      "           1       0.66      0.53      0.59       120\n",
      "\n",
      "    accuracy                           0.66       262\n",
      "   macro avg       0.66      0.65      0.65       262\n",
      "weighted avg       0.66      0.66      0.65       262\n",
      " \n",
      "\n"
     ]
    },
    {
     "data": {
      "image/png": "[encoded data removed]",
      "text/plain": [
       "<Figure size 432x288 with 2 Axes>"
      ]
     },
     "metadata": {
      "needs_background": "light"
     },
     "output_type": "display_data"
    }
   ],
   "source": [
    "## Confusion matrix & classification report on the test data\n",
    "plot_confusion_matrix(best_model,X_test,y_test)\n",
    "plt.title('confusion matrix');\n",
    "print(classification_report(y_test, ytest_predict),'\\n');"
   ]
  },
  {
   "cell_type": "markdown",
   "id": "fcef8938",
   "metadata": {},
   "source": [
    "We tried multiple models with different set of parameters by using Gridsearch and not found much improvment but as recall slightly improved in model4 for class 0 so we will go with model4"
   ]
  },
  {
   "cell_type": "code",
   "execution_count": 1831,
   "id": "7d0260cb",
   "metadata": {},
   "outputs": [
    {
     "data": {
      "text/plain": [
       "{'penalty': 'l1', 'solver': 'liblinear', 'tol': 0.0001}"
      ]
     },
     "execution_count": 1831,
     "metadata": {},
     "output_type": "execute_result"
    }
   ],
   "source": [
    "grid_search.best_params_"
   ]
  },
  {
   "cell_type": "code",
   "execution_count": 1832,
   "id": "c2bf4e59",
   "metadata": {},
   "outputs": [
    {
     "data": {
      "text/plain": [
       "LogisticRegression(max_iter=1000, n_jobs=2, penalty='l1', random_state=1,\n",
       "                   solver='liblinear')"
      ]
     },
     "execution_count": 1832,
     "metadata": {},
     "output_type": "execute_result"
    }
   ],
   "source": [
    "# Final LR model\n",
    "model_F = LogisticRegression(solver='liblinear',max_iter=1000,penalty='l1',n_jobs=2,tol=0.0001,random_state=1)\n",
    "model_F.fit(X_train, y_train)"
   ]
  },
  {
   "cell_type": "code",
   "execution_count": 1833,
   "id": "9149c479",
   "metadata": {},
   "outputs": [],
   "source": [
    "ytrain_predict_F = model_F.predict(X_train)\n",
    "ytest_predict_F = model_F.predict(X_test)"
   ]
  },
  {
   "cell_type": "code",
   "execution_count": 1834,
   "id": "7e20bcad",
   "metadata": {},
   "outputs": [
    {
     "data": {
      "text/plain": [
       "array([[-1.60772099e-05, -4.91773354e-02,  6.92519913e-02,\n",
       "        -1.21965216e+00, -7.97142993e-03,  1.25278311e+00]])"
      ]
     },
     "execution_count": 1834,
     "metadata": {},
     "output_type": "execute_result"
    }
   ],
   "source": [
    "model_F.coef_"
   ]
  },
  {
   "cell_type": "markdown",
   "id": "49fab823",
   "metadata": {},
   "source": [
    "## Building linear discriminant(LDA) model"
   ]
  },
  {
   "cell_type": "code",
   "execution_count": 1786,
   "id": "ed9d0127",
   "metadata": {},
   "outputs": [],
   "source": [
    "lda = LinearDiscriminantAnalysis()\n",
    "model5=lda.fit(X_train,y_train)"
   ]
  },
  {
   "cell_type": "markdown",
   "id": "0c525057",
   "metadata": {},
   "source": [
    "#### Prediction"
   ]
  },
  {
   "cell_type": "code",
   "execution_count": 1787,
   "id": "12a5bcbc",
   "metadata": {},
   "outputs": [],
   "source": [
    "pred_class_train5 = model5.predict(X_train)\n",
    "pred_class_test5 = model5.predict(X_test)"
   ]
  },
  {
   "cell_type": "code",
   "execution_count": 1788,
   "id": "2bf0df04",
   "metadata": {},
   "outputs": [
    {
     "name": "stdout",
     "output_type": "stream",
     "text": [
      "Classification Report of the training data:\n",
      "\n",
      "               precision    recall  f1-score   support\n",
      "\n",
      "           0       0.67      0.74      0.70       329\n",
      "           1       0.65      0.58      0.61       281\n",
      "\n",
      "    accuracy                           0.66       610\n",
      "   macro avg       0.66      0.66      0.66       610\n",
      "weighted avg       0.66      0.66      0.66       610\n",
      " \n",
      "\n",
      "Classification Report of the test data:\n",
      "\n",
      "               precision    recall  f1-score   support\n",
      "\n",
      "           0       0.64      0.77      0.70       142\n",
      "           1       0.64      0.49      0.56       120\n",
      "\n",
      "    accuracy                           0.64       262\n",
      "   macro avg       0.64      0.63      0.63       262\n",
      "weighted avg       0.64      0.64      0.63       262\n",
      " \n",
      "\n"
     ]
    }
   ],
   "source": [
    "print('Classification Report of the training data:\\n\\n',metrics.classification_report(y_train,pred_class_train5),'\\n')\n",
    "print('Classification Report of the test data:\\n\\n',metrics.classification_report(y_test,pred_class_test5),'\\n')"
   ]
  },
  {
   "cell_type": "markdown",
   "id": "e85fe7f1",
   "metadata": {},
   "source": [
    "We build our model with default parameters and got Accuracy more than 65 now will use different combination of parameters and will see if our model score improve."
   ]
  },
  {
   "cell_type": "code",
   "execution_count": 1789,
   "id": "1e84e6a5",
   "metadata": {},
   "outputs": [],
   "source": [
    "lda = LinearDiscriminantAnalysis(solver='lsqr',priors= [0.5,0.5] )\n",
    "model7=lda.fit(X_train,y_train)"
   ]
  },
  {
   "cell_type": "code",
   "execution_count": 1790,
   "id": "dc4f7cc5",
   "metadata": {},
   "outputs": [],
   "source": [
    "pred_class_train = model7.predict(X_train)\n",
    "pred_class_test = model7.predict(X_test)"
   ]
  },
  {
   "cell_type": "code",
   "execution_count": 1791,
   "id": "682dd539",
   "metadata": {},
   "outputs": [
    {
     "data": {
      "text/plain": [
       "array([[226, 103],\n",
       "       [105, 176]], dtype=int64)"
      ]
     },
     "execution_count": 1791,
     "metadata": {},
     "output_type": "execute_result"
    }
   ],
   "source": [
    "confusion_matrix(y_train,pred_class_train)"
   ]
  },
  {
   "cell_type": "code",
   "execution_count": 1792,
   "id": "27f8e66c",
   "metadata": {},
   "outputs": [
    {
     "data": {
      "text/plain": [
       "array([[101,  41],\n",
       "       [ 45,  75]], dtype=int64)"
      ]
     },
     "execution_count": 1792,
     "metadata": {},
     "output_type": "execute_result"
    }
   ],
   "source": [
    "confusion_matrix(y_test,pred_class_test)"
   ]
  },
  {
   "cell_type": "code",
   "execution_count": 1793,
   "id": "cfa04617",
   "metadata": {},
   "outputs": [
    {
     "name": "stdout",
     "output_type": "stream",
     "text": [
      "Classification Report of the training data:\n",
      "\n",
      "               precision    recall  f1-score   support\n",
      "\n",
      "           0       0.68      0.69      0.68       329\n",
      "           1       0.63      0.63      0.63       281\n",
      "\n",
      "    accuracy                           0.66       610\n",
      "   macro avg       0.66      0.66      0.66       610\n",
      "weighted avg       0.66      0.66      0.66       610\n",
      " \n",
      "\n",
      "Classification Report of the test data:\n",
      "\n",
      "               precision    recall  f1-score   support\n",
      "\n",
      "           0       0.69      0.71      0.70       142\n",
      "           1       0.65      0.62      0.64       120\n",
      "\n",
      "    accuracy                           0.67       262\n",
      "   macro avg       0.67      0.67      0.67       262\n",
      "weighted avg       0.67      0.67      0.67       262\n",
      " \n",
      "\n"
     ]
    }
   ],
   "source": [
    "print('Classification Report of the training data:\\n\\n',metrics.classification_report(y_train,pred_class_train),'\\n')\n",
    "print('Classification Report of the test data:\\n\\n',metrics.classification_report(y_test,pred_class_test),'\\n')"
   ]
  },
  {
   "cell_type": "code",
   "execution_count": 1794,
   "id": "dba327df",
   "metadata": {},
   "outputs": [],
   "source": [
    "lda = LinearDiscriminantAnalysis(solver= 'eigen',priors= [0.6,0.4] )\n",
    "model6=lda.fit(X_train,y_train)"
   ]
  },
  {
   "cell_type": "code",
   "execution_count": 1795,
   "id": "ed3d2af3",
   "metadata": {},
   "outputs": [],
   "source": [
    "pred_class_train6 = model6.predict(X_train)\n",
    "pred_class_test6 = model6.predict(X_test)"
   ]
  },
  {
   "cell_type": "code",
   "execution_count": 1796,
   "id": "0d766481",
   "metadata": {},
   "outputs": [
    {
     "name": "stdout",
     "output_type": "stream",
     "text": [
      "Classification Report of the training data:\n",
      "\n",
      "               precision    recall  f1-score   support\n",
      "\n",
      "           0       0.65      0.82      0.72       329\n",
      "           1       0.69      0.47      0.56       281\n",
      "\n",
      "    accuracy                           0.66       610\n",
      "   macro avg       0.67      0.65      0.64       610\n",
      "weighted avg       0.67      0.66      0.65       610\n",
      " \n",
      "\n",
      "Classification Report of the test data:\n",
      "\n",
      "               precision    recall  f1-score   support\n",
      "\n",
      "           0       0.64      0.82      0.72       142\n",
      "           1       0.68      0.45      0.54       120\n",
      "\n",
      "    accuracy                           0.65       262\n",
      "   macro avg       0.66      0.64      0.63       262\n",
      "weighted avg       0.66      0.65      0.64       262\n",
      " \n",
      "\n"
     ]
    }
   ],
   "source": [
    "print('Classification Report of the training data:\\n\\n',metrics.classification_report(y_train,pred_class_train6),'\\n')\n",
    "print('Classification Report of the test data:\\n\\n',metrics.classification_report(y_test,pred_class_test6),'\\n')"
   ]
  },
  {
   "cell_type": "markdown",
   "id": "12cbadd2",
   "metadata": {},
   "source": [
    "We tried different parameters and in model7 we got train and test score close to each other also score from train to test is not decreasing."
   ]
  },
  {
   "cell_type": "code",
   "execution_count": 1797,
   "id": "d32a1b91",
   "metadata": {},
   "outputs": [
    {
     "data": {
      "text/plain": [
       "array([[-1.44748476e-05, -5.73218187e-02,  6.09200685e-02,\n",
       "        -1.28700142e+00, -3.23170095e-02,  1.29994632e+00]])"
      ]
     },
     "execution_count": 1797,
     "metadata": {},
     "output_type": "execute_result"
    }
   ],
   "source": [
    "model7.coef_"
   ]
  },
  {
   "cell_type": "markdown",
   "id": "505a236a",
   "metadata": {},
   "source": [
    "# 2.3 Performance Metrics: Check the performance of Predictions on Train and Test sets using Accuracy, Confusion Matrix, Plot ROC curve and get ROC_AUC score for each model Final Model: Compare Both the models and write inference which model is best/optimized."
   ]
  },
  {
   "cell_type": "markdown",
   "id": "17972e58",
   "metadata": {},
   "source": [
    "### For Logistic Regression Confusion Matrix , Classification Report, AUC and ROC for the training data "
   ]
  },
  {
   "cell_type": "code",
   "execution_count": 1835,
   "id": "b0989f00",
   "metadata": {},
   "outputs": [
    {
     "data": {
      "text/plain": [
       "array([[247,  82],\n",
       "       [122, 159]], dtype=int64)"
      ]
     },
     "execution_count": 1835,
     "metadata": {},
     "output_type": "execute_result"
    }
   ],
   "source": [
    "confusion_matrix(y_train, ytrain_predict_F)"
   ]
  },
  {
   "cell_type": "code",
   "execution_count": 1836,
   "id": "f21ab22b",
   "metadata": {},
   "outputs": [
    {
     "name": "stdout",
     "output_type": "stream",
     "text": [
      "              precision    recall  f1-score   support\n",
      "\n",
      "           0       0.67      0.75      0.71       329\n",
      "           1       0.66      0.57      0.61       281\n",
      "\n",
      "    accuracy                           0.67       610\n",
      "   macro avg       0.66      0.66      0.66       610\n",
      "weighted avg       0.66      0.67      0.66       610\n",
      " \n",
      "\n"
     ]
    }
   ],
   "source": [
    "print(classification_report(y_train, ytrain_predict_F),'\\n');"
   ]
  },
  {
   "cell_type": "code",
   "execution_count": 1837,
   "id": "334e8cd5",
   "metadata": {},
   "outputs": [
    {
     "name": "stdout",
     "output_type": "stream",
     "text": [
      "AUC: 0.715\n"
     ]
    },
    {
     "data": {
      "text/plain": [
       "[<matplotlib.lines.Line2D at 0x2a9de050370>]"
      ]
     },
     "execution_count": 1837,
     "metadata": {},
     "output_type": "execute_result"
    },
    {
     "data": {
      "image/png": "[encoded data removed]",
      "text/plain": [
       "<Figure size 432x288 with 1 Axes>"
      ]
     },
     "metadata": {
      "needs_background": "light"
     },
     "output_type": "display_data"
    }
   ],
   "source": [
    "probs = model_F.predict_proba(X_train)\n",
    "# keep probabilities for the positive outcome only\n",
    "probs = probs[:, 1]\n",
    "# calculate AUC\n",
    "LR_train_auc = roc_auc_score(y_train, probs)\n",
    "print('AUC: %.3f' % cart_train_auc)\n",
    "# calculate roc curve\n",
    "LR_train_fpr, LR_train_tpr, LR_train_thresholds = roc_curve(y_train, probs)\n",
    "plt.plot([0, 1], [0, 1], linestyle='--')\n",
    "# plot the roc curve for the model\n",
    "plt.plot(LR_train_fpr, LR_train_tpr)"
   ]
  },
  {
   "cell_type": "markdown",
   "id": "d2efef24",
   "metadata": {},
   "source": [
    "### For Logistic Regression Confusion Matrix , Classification Report, AUC and ROC for the testing data"
   ]
  },
  {
   "cell_type": "code",
   "execution_count": 1839,
   "id": "6e8c0ea2",
   "metadata": {},
   "outputs": [
    {
     "data": {
      "text/plain": [
       "array([[110,  32],\n",
       "       [ 57,  63]], dtype=int64)"
      ]
     },
     "execution_count": 1839,
     "metadata": {},
     "output_type": "execute_result"
    }
   ],
   "source": [
    "confusion_matrix(y_test, ytest_predict_F)"
   ]
  },
  {
   "cell_type": "code",
   "execution_count": 1840,
   "id": "ca052983",
   "metadata": {},
   "outputs": [
    {
     "name": "stdout",
     "output_type": "stream",
     "text": [
      "              precision    recall  f1-score   support\n",
      "\n",
      "           0       0.66      0.77      0.71       142\n",
      "           1       0.66      0.53      0.59       120\n",
      "\n",
      "    accuracy                           0.66       262\n",
      "   macro avg       0.66      0.65      0.65       262\n",
      "weighted avg       0.66      0.66      0.65       262\n",
      " \n",
      "\n"
     ]
    }
   ],
   "source": [
    "print(classification_report(y_test, ytest_predict_F),'\\n');"
   ]
  },
  {
   "cell_type": "code",
   "execution_count": 1841,
   "id": "18e70e36",
   "metadata": {},
   "outputs": [
    {
     "name": "stdout",
     "output_type": "stream",
     "text": [
      "AUC: 0.718\n"
     ]
    },
    {
     "data": {
      "text/plain": [
       "[<matplotlib.lines.Line2D at 0x2a9d6811a60>]"
      ]
     },
     "execution_count": 1841,
     "metadata": {},
     "output_type": "execute_result"
    },
    {
     "data": {
      "image/png": "[encoded data removed]",
      "text/plain": [
       "<Figure size 432x288 with 1 Axes>"
      ]
     },
     "metadata": {
      "needs_background": "light"
     },
     "output_type": "display_data"
    }
   ],
   "source": [
    "probs = model_F.predict_proba(X_test)\n",
    "# keep probabilities for the positive outcome only\n",
    "probs = probs[:, 1]\n",
    "# calculate AUC\n",
    "LR_test_auc = roc_auc_score(y_test, probs)\n",
    "print('AUC: %.3f' % LR_test_auc)\n",
    "# calculate roc curve\n",
    "LR_test_fpr, LR_test_tpr, LR_test_thresholds = roc_curve(y_test, probs)\n",
    "plt.plot([0, 1], [0, 1], linestyle='--')\n",
    "# plot the roc curve for the model\n",
    "plt.plot(LR_test_fpr, LR_test_tpr)"
   ]
  },
  {
   "cell_type": "markdown",
   "id": "f8c8deab",
   "metadata": {},
   "source": [
    "## LR Conclusion"
   ]
  },
  {
   "cell_type": "markdown",
   "id": "82cba484",
   "metadata": {},
   "source": [
    "#### Train Data:"
   ]
  },
  {
   "cell_type": "markdown",
   "id": "539e7cca",
   "metadata": {},
   "source": [
    "AUC- 72%\n",
    "\n",
    "Accuracy- 67%\n",
    "\n",
    "Precision- 65%\n",
    "\n",
    "f1-Score- 60%"
   ]
  },
  {
   "cell_type": "markdown",
   "id": "89c2bd24",
   "metadata": {},
   "source": [
    "#### test Data:"
   ]
  },
  {
   "cell_type": "markdown",
   "id": "41d45bcd",
   "metadata": {},
   "source": [
    "AUC- 72%\n",
    "\n",
    "Accuracy- 66%\n",
    "\n",
    "Precision- 68%\n",
    "\n",
    "f1-Score- 59%"
   ]
  },
  {
   "cell_type": "markdown",
   "id": "f7251211",
   "metadata": {},
   "source": [
    "### For LDA Confusion Matrix , Classification Report, AUC and ROC for the training data"
   ]
  },
  {
   "cell_type": "code",
   "execution_count": 1843,
   "id": "25e474ad",
   "metadata": {},
   "outputs": [
    {
     "data": {
      "text/plain": [
       "array([[226, 103],\n",
       "       [105, 176]], dtype=int64)"
      ]
     },
     "execution_count": 1843,
     "metadata": {},
     "output_type": "execute_result"
    }
   ],
   "source": [
    "confusion_matrix(y_train,pred_class_train)"
   ]
  },
  {
   "cell_type": "code",
   "execution_count": 1844,
   "id": "cbe6d57d",
   "metadata": {},
   "outputs": [
    {
     "name": "stdout",
     "output_type": "stream",
     "text": [
      "Classification Report of the training data:\n",
      "\n",
      "               precision    recall  f1-score   support\n",
      "\n",
      "           0       0.68      0.69      0.68       329\n",
      "           1       0.63      0.63      0.63       281\n",
      "\n",
      "    accuracy                           0.66       610\n",
      "   macro avg       0.66      0.66      0.66       610\n",
      "weighted avg       0.66      0.66      0.66       610\n",
      " \n",
      "\n"
     ]
    }
   ],
   "source": [
    "print('Classification Report of the training data:\\n\\n',metrics.classification_report(y_train,pred_class_train),'\\n')"
   ]
  },
  {
   "cell_type": "code",
   "execution_count": 1845,
   "id": "0d1761ac",
   "metadata": {},
   "outputs": [
    {
     "name": "stdout",
     "output_type": "stream",
     "text": [
      "AUC: 0.733\n"
     ]
    },
    {
     "data": {
      "text/plain": [
       "[<matplotlib.lines.Line2D at 0x2a9d675a460>]"
      ]
     },
     "execution_count": 1845,
     "metadata": {},
     "output_type": "execute_result"
    },
    {
     "data": {
      "image/png": "[encoded data removed]",
      "text/plain": [
       "<Figure size 432x288 with 1 Axes>"
      ]
     },
     "metadata": {
      "needs_background": "light"
     },
     "output_type": "display_data"
    }
   ],
   "source": [
    "probs = model7.predict_proba(X_train)\n",
    "# keep probabilities for the positive outcome only\n",
    "probs = probs[:, 1]\n",
    "# calculate AUC\n",
    "LDA_train_auc = roc_auc_score(y_train, probs)\n",
    "print('AUC: %.3f' % LDA_train_auc)\n",
    "# calculate roc curve\n",
    "LDA_train_fpr, LDA_train_tpr, LDA_train_thresholds = roc_curve(y_train, probs)\n",
    "plt.plot([0, 1], [0, 1], linestyle='--')\n",
    "# plot the roc curve for the model\n",
    "plt.plot(LDA_train_fpr, LDA_train_tpr)"
   ]
  },
  {
   "cell_type": "markdown",
   "id": "c4e0beac",
   "metadata": {},
   "source": [
    "### For LDA Confusion Matrix , Classification Report, AUC and ROC for the testing data"
   ]
  },
  {
   "cell_type": "code",
   "execution_count": 1846,
   "id": "f4981bea",
   "metadata": {},
   "outputs": [
    {
     "data": {
      "text/plain": [
       "array([[101,  41],\n",
       "       [ 45,  75]], dtype=int64)"
      ]
     },
     "execution_count": 1846,
     "metadata": {},
     "output_type": "execute_result"
    }
   ],
   "source": [
    "confusion_matrix(y_test,pred_class_test)"
   ]
  },
  {
   "cell_type": "code",
   "execution_count": 1721,
   "id": "03d01904",
   "metadata": {},
   "outputs": [
    {
     "name": "stdout",
     "output_type": "stream",
     "text": [
      "Classification Report of the training data:\n",
      "\n",
      "               precision    recall  f1-score   support\n",
      "\n",
      "           0       0.69      0.71      0.70       142\n",
      "           1       0.65      0.62      0.64       120\n",
      "\n",
      "    accuracy                           0.67       262\n",
      "   macro avg       0.67      0.67      0.67       262\n",
      "weighted avg       0.67      0.67      0.67       262\n",
      " \n",
      "\n"
     ]
    }
   ],
   "source": [
    "print('Classification Report of the training data:\\n\\n',metrics.classification_report(y_test,pred_class_test),'\\n')"
   ]
  },
  {
   "cell_type": "code",
   "execution_count": 1722,
   "id": "882d2ebe",
   "metadata": {},
   "outputs": [
    {
     "name": "stdout",
     "output_type": "stream",
     "text": [
      "AUC: 0.714\n"
     ]
    },
    {
     "data": {
      "text/plain": [
       "[<matplotlib.lines.Line2D at 0x2a9db415400>]"
      ]
     },
     "execution_count": 1722,
     "metadata": {},
     "output_type": "execute_result"
    },
    {
     "data": {
      "image/png": "[encoded data removed]",
      "text/plain": [
       "<Figure size 432x288 with 1 Axes>"
      ]
     },
     "metadata": {
      "needs_background": "light"
     },
     "output_type": "display_data"
    }
   ],
   "source": [
    "probs = model7.predict_proba(X_test)\n",
    "# keep probabilities for the positive outcome only\n",
    "probs = probs[:, 1]\n",
    "# calculate AUC\n",
    "LDA_test_auc = roc_auc_score(y_test, probs)\n",
    "print('AUC: %.3f' % LDA_test_auc)\n",
    "# calculate roc curve\n",
    "LDA_test_fpr, LDA_test_tpr, LDA_test_thresholds = roc_curve(y_test, probs)\n",
    "plt.plot([0, 1], [0, 1], linestyle='--')\n",
    "# plot the roc curve for the model\n",
    "plt.plot(LDA_test_fpr, LDA_test_tpr)"
   ]
  },
  {
   "cell_type": "markdown",
   "id": "4f4908a5",
   "metadata": {},
   "source": [
    "## LDA Conclusion"
   ]
  },
  {
   "cell_type": "markdown",
   "id": "a7e7f09d",
   "metadata": {},
   "source": [
    "#### Train Data:"
   ]
  },
  {
   "cell_type": "markdown",
   "id": "b0b172e4",
   "metadata": {},
   "source": [
    "AUC- 73%\n",
    "\n",
    "Accuracy- 66%\n",
    "\n",
    "Precision- 63%\n",
    "\n",
    "f1-Score- 63%"
   ]
  },
  {
   "cell_type": "markdown",
   "id": "de31d9c8",
   "metadata": {},
   "source": [
    "#### test Data:"
   ]
  },
  {
   "cell_type": "markdown",
   "id": "51444023",
   "metadata": {},
   "source": [
    "AUC- 71%\n",
    "\n",
    "Accuracy- 67%\n",
    "\n",
    "Precision- 65%\n",
    "\n",
    "f1-Score- 64%"
   ]
  },
  {
   "cell_type": "markdown",
   "id": "b7232b48",
   "metadata": {},
   "source": [
    "## Comparison of the performance metrics from the 2 models"
   ]
  },
  {
   "cell_type": "code",
   "execution_count": 1842,
   "id": "4e2c20eb",
   "metadata": {},
   "outputs": [
    {
     "data": {
      "text/html": [
       "<div>\n",
       "<style scoped>\n",
       "    .dataframe tbody tr th:only-of-type {\n",
       "        vertical-align: middle;\n",
       "    }\n",
       "\n",
       "    .dataframe tbody tr th {\n",
       "        vertical-align: top;\n",
       "    }\n",
       "\n",
       "    .dataframe thead th {\n",
       "        text-align: right;\n",
       "    }\n",
       "</style>\n",
       "<table border=\"1\" class=\"dataframe\">\n",
       "  <thead>\n",
       "    <tr style=\"text-align: right;\">\n",
       "      <th></th>\n",
       "      <th>LR Train</th>\n",
       "      <th>LR Test</th>\n",
       "      <th>LDA Train</th>\n",
       "      <th>LDA Test</th>\n",
       "    </tr>\n",
       "  </thead>\n",
       "  <tbody>\n",
       "    <tr>\n",
       "      <th>Accuracy</th>\n",
       "      <td>0.67</td>\n",
       "      <td>0.66</td>\n",
       "      <td>0.66</td>\n",
       "      <td>0.67</td>\n",
       "    </tr>\n",
       "    <tr>\n",
       "      <th>AUC</th>\n",
       "      <td>0.72</td>\n",
       "      <td>0.72</td>\n",
       "      <td>0.73</td>\n",
       "      <td>0.71</td>\n",
       "    </tr>\n",
       "    <tr>\n",
       "      <th>Recall</th>\n",
       "      <td>0.57</td>\n",
       "      <td>0.53</td>\n",
       "      <td>0.63</td>\n",
       "      <td>0.62</td>\n",
       "    </tr>\n",
       "    <tr>\n",
       "      <th>Precision</th>\n",
       "      <td>0.66</td>\n",
       "      <td>0.66</td>\n",
       "      <td>0.63</td>\n",
       "      <td>0.65</td>\n",
       "    </tr>\n",
       "    <tr>\n",
       "      <th>F1 Score</th>\n",
       "      <td>0.61</td>\n",
       "      <td>0.59</td>\n",
       "      <td>0.63</td>\n",
       "      <td>0.64</td>\n",
       "    </tr>\n",
       "  </tbody>\n",
       "</table>\n",
       "</div>"
      ],
      "text/plain": [
       "           LR Train  LR Test  LDA Train  LDA Test\n",
       "Accuracy       0.67     0.66       0.66      0.67\n",
       "AUC            0.72     0.72       0.73      0.71\n",
       "Recall         0.57     0.53       0.63      0.62\n",
       "Precision      0.66     0.66       0.63      0.65\n",
       "F1 Score       0.61     0.59       0.63      0.64"
      ]
     },
     "execution_count": 1842,
     "metadata": {},
     "output_type": "execute_result"
    }
   ],
   "source": [
    "index=['Accuracy', 'AUC', 'Recall','Precision','F1 Score']\n",
    "dataa = pd.DataFrame({'LR Train':[0.67,0.72,0.57,0.66,0.61],\n",
    "        'LR Test':[0.66,0.72,0.53,0.66,0.59],\n",
    "       'LDA Train':[0.66,0.73,0.63,0.63,0.63],\n",
    "        'LDA Test':[0.67,0.71,0.62,0.65,0.64]},index=index)\n",
    "round(dataa,2)"
   ]
  },
  {
   "cell_type": "markdown",
   "id": "5cb6a7f9",
   "metadata": {},
   "source": [
    "### ROC Curve for the 2 models on the training data"
   ]
  },
  {
   "cell_type": "code",
   "execution_count": 1724,
   "id": "86ce8414",
   "metadata": {},
   "outputs": [
    {
     "data": {
      "text/plain": [
       "<matplotlib.legend.Legend at 0x2a9db6698e0>"
      ]
     },
     "execution_count": 1724,
     "metadata": {},
     "output_type": "execute_result"
    },
    {
     "data": {
      "image/png": "[encoded data removed]",
      "text/plain": [
       "<Figure size 432x288 with 1 Axes>"
      ]
     },
     "metadata": {
      "needs_background": "light"
     },
     "output_type": "display_data"
    }
   ],
   "source": [
    "plt.plot([0, 1], [0, 1], linestyle='--')\n",
    "plt.plot(LR_train_fpr, LR_train_tpr,color='yellow',label=\"LR\")\n",
    "plt.plot(LDA_train_fpr,LDA_train_tpr,color='green',label=\"LDA\")\n",
    "plt.xlabel('False Positive Rate')\n",
    "plt.ylabel('True Positive Rate')\n",
    "plt.title('ROC')\n",
    "plt.legend(bbox_to_anchor=(0., 1.02, 1., .102), loc='lower right')"
   ]
  },
  {
   "cell_type": "markdown",
   "id": "88a6f6be",
   "metadata": {},
   "source": [
    "### ROC Curve for the 2 models on the testing data"
   ]
  },
  {
   "cell_type": "code",
   "execution_count": 1725,
   "id": "886f7541",
   "metadata": {},
   "outputs": [
    {
     "data": {
      "text/plain": [
       "<matplotlib.legend.Legend at 0x2a9d314f0d0>"
      ]
     },
     "execution_count": 1725,
     "metadata": {},
     "output_type": "execute_result"
    },
    {
     "data": {
      "image/png": "[encoded data removed]",
      "text/plain": [
       "<Figure size 432x288 with 1 Axes>"
      ]
     },
     "metadata": {
      "needs_background": "light"
     },
     "output_type": "display_data"
    }
   ],
   "source": [
    "plt.plot([0, 1], [0, 1], linestyle='--')\n",
    "plt.plot(LR_test_fpr, LR_test_tpr,color='yellow',label=\"LR\")\n",
    "plt.plot(LDA_test_fpr,LDA_test_tpr,color='green',label=\"LDA\")\n",
    "plt.xlabel('False Positive Rate')\n",
    "plt.ylabel('True Positive Rate')\n",
    "plt.title('ROC')\n",
    "plt.legend(bbox_to_anchor=(0., 1.02, 1., .102), loc='lower right')"
   ]
  },
  {
   "cell_type": "code",
   "execution_count": 1726,
   "id": "4ecebf97",
   "metadata": {},
   "outputs": [
    {
     "data": {
      "text/html": [
       "<div>\n",
       "<style scoped>\n",
       "    .dataframe tbody tr th:only-of-type {\n",
       "        vertical-align: middle;\n",
       "    }\n",
       "\n",
       "    .dataframe tbody tr th {\n",
       "        vertical-align: top;\n",
       "    }\n",
       "\n",
       "    .dataframe thead th {\n",
       "        text-align: right;\n",
       "    }\n",
       "</style>\n",
       "<table border=\"1\" class=\"dataframe\">\n",
       "  <thead>\n",
       "    <tr style=\"text-align: right;\">\n",
       "      <th></th>\n",
       "      <th>LR Train</th>\n",
       "      <th>LR Test</th>\n",
       "      <th>LDA Train</th>\n",
       "      <th>LDA Test</th>\n",
       "    </tr>\n",
       "  </thead>\n",
       "  <tbody>\n",
       "    <tr>\n",
       "      <th>Accuracy</th>\n",
       "      <td>0.66</td>\n",
       "      <td>0.67</td>\n",
       "      <td>0.66</td>\n",
       "      <td>0.67</td>\n",
       "    </tr>\n",
       "    <tr>\n",
       "      <th>AUC</th>\n",
       "      <td>0.72</td>\n",
       "      <td>0.72</td>\n",
       "      <td>0.73</td>\n",
       "      <td>0.71</td>\n",
       "    </tr>\n",
       "    <tr>\n",
       "      <th>Recall</th>\n",
       "      <td>0.56</td>\n",
       "      <td>0.53</td>\n",
       "      <td>0.63</td>\n",
       "      <td>0.62</td>\n",
       "    </tr>\n",
       "    <tr>\n",
       "      <th>Precision</th>\n",
       "      <td>0.65</td>\n",
       "      <td>0.68</td>\n",
       "      <td>0.63</td>\n",
       "      <td>0.65</td>\n",
       "    </tr>\n",
       "    <tr>\n",
       "      <th>F1 Score</th>\n",
       "      <td>0.60</td>\n",
       "      <td>0.59</td>\n",
       "      <td>0.63</td>\n",
       "      <td>0.64</td>\n",
       "    </tr>\n",
       "  </tbody>\n",
       "</table>\n",
       "</div>"
      ],
      "text/plain": [
       "           LR Train  LR Test  LDA Train  LDA Test\n",
       "Accuracy       0.66     0.67       0.66      0.67\n",
       "AUC            0.72     0.72       0.73      0.71\n",
       "Recall         0.56     0.53       0.63      0.62\n",
       "Precision      0.65     0.68       0.63      0.65\n",
       "F1 Score       0.60     0.59       0.63      0.64"
      ]
     },
     "execution_count": 1726,
     "metadata": {},
     "output_type": "execute_result"
    }
   ],
   "source": [
    "index=['Accuracy', 'AUC', 'Recall','Precision','F1 Score']\n",
    "dataa = pd.DataFrame({'LR Train':[0.66,0.72,0.56,0.65,0.60],\n",
    "        'LR Test':[0.67,0.72,0.53,0.68,0.59],\n",
    "       'LDA Train':[0.66,0.73,0.63,0.63,0.63],\n",
    "        'LDA Test':[0.67,0.71,0.62,0.65,0.64]},index=index)\n",
    "round(dataa,2)"
   ]
  },
  {
   "cell_type": "markdown",
   "id": "c8089617",
   "metadata": {},
   "source": [
    "Out of the 2 models, LDA has slightly better performance than the Logistic Regression(LR) interms of overall accuracy and difference between train and test score is very minimum in LDA "
   ]
  },
  {
   "cell_type": "markdown",
   "id": "554ad354",
   "metadata": {},
   "source": [
    "#### Co-efficient from LR model."
   ]
  },
  {
   "cell_type": "code",
   "execution_count": 1847,
   "id": "aec3965b",
   "metadata": {},
   "outputs": [
    {
     "data": {
      "text/plain": [
       "array([[-1.60772099e-05, -4.91773354e-02,  6.92519913e-02,\n",
       "        -1.21965216e+00, -7.97142993e-03,  1.25278311e+00]])"
      ]
     },
     "execution_count": 1847,
     "metadata": {},
     "output_type": "execute_result"
    }
   ],
   "source": [
    "model_F.coef_"
   ]
  },
  {
   "cell_type": "markdown",
   "id": "65b1cfad",
   "metadata": {},
   "source": [
    "#### Co-efficient from LDA model."
   ]
  },
  {
   "cell_type": "code",
   "execution_count": 1848,
   "id": "db64b955",
   "metadata": {},
   "outputs": [
    {
     "data": {
      "text/plain": [
       "array([[-1.44748476e-05, -5.73218187e-02,  6.09200685e-02,\n",
       "        -1.28700142e+00, -3.23170095e-02,  1.29994632e+00]])"
      ]
     },
     "execution_count": 1848,
     "metadata": {},
     "output_type": "execute_result"
    }
   ],
   "source": [
    "model7.coef_"
   ]
  },
  {
   "cell_type": "markdown",
   "id": "0cd1768a",
   "metadata": {},
   "source": [
    "As per our model Education and Foreigner is very important features for predeiction and other features also related to dependent variable y but in negative direction."
   ]
  },
  {
   "cell_type": "markdown",
   "id": "5cecc81e",
   "metadata": {},
   "source": [
    "# 2.4 Inference: Basis on these predictions, what are the insights and recommendations."
   ]
  },
  {
   "cell_type": "markdown",
   "id": "b7b0f4e4",
   "metadata": {},
   "source": [
    "Insights: \n",
    "    \n",
    "1. We have seen that LDA is better model with 0.65 precision in test data.\n",
    "\n",
    "\n",
    "2. we want to reduce FP as we don't want that we predict eomployee will opt but in actual he didnt.\n",
    "\n",
    "\n",
    "3. We need to go for higher number of education as this is importand variable.\n",
    "\n",
    "\n",
    "4. 65% of empoyee who did not opted for Holiday Package are correctly predicted .\n",
    "\n",
    "\n",
    "5. Out of all empoyees who actually didnot opted , 62% of empoyees who didnot opted have been predicted correctly.\n",
    "\n",
    "\n",
    "6. Accuracy, AUC, Precision and Recall for test data is almost inline with training data. This proves no overfitting or underfitting has happened, and overall the model is a decent model for classification"
   ]
  },
  {
   "cell_type": "markdown",
   "id": "7403b458",
   "metadata": {},
   "source": [
    "## Recommendation:"
   ]
  },
  {
   "cell_type": "markdown",
   "id": "c1ad481a",
   "metadata": {},
   "source": [
    "1. Mostly who opted for Holliday_Package is between salary range 30k to 60k so need to focus on other salary range that why they are not opting for packges.\n",
    "\n",
    "\n",
    "2. non foreigner less opted for package  so need to provide additional benefit, resources to them. \n",
    "\n",
    "\n",
    "3. The number of opted for  Holliday_Package decreases when number of children increases so company should provide attactive packages which has good benefits for childres.\n",
    "\n",
    "\n",
    "4. Company should focus on age more than 40 and need to check how they can attract them for Holliday_Package\n",
    "\n",
    "\n",
    "5. Those we have higher salaries not opting for Holliday_Package so need to add some benefits, offers and tour location to attract higher salary employees.\n",
    "\n",
    "\n",
    "6. Packages provided by company not seems to be in expensive range they can add some luxry/premium packages for higher salary employees."
   ]
  },
  {
   "cell_type": "code",
   "execution_count": null,
   "id": "5e25bf34",
   "metadata": {},
   "outputs": [],
   "source": []
  }
 ],
 "metadata": {
  "kernelspec": {
   "display_name": "Python 3 (ipykernel)",
   "language": "python",
   "name": "python3"
  },
  "language_info": {
   "codemirror_mode": {
    "name": "ipython",
    "version": 3
   },
   "file_extension": ".py",
   "mimetype": "text/x-python",
   "name": "python",
   "nbconvert_exporter": "python",
   "pygments_lexer": "ipython3",
   "version": "3.9.12"
  }
 },
 "nbformat": 4,
 "nbformat_minor": 5
}
